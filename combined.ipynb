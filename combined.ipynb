{
  "cells": [
    {
      "cell_type": "code",
      "source": [
        "!pip install transformers"
      ],
      "metadata": {
        "colab": {
          "base_uri": "https://localhost:8080/"
        },
        "id": "ZvMwXfyYf2DR",
        "outputId": "4c6c077e-ea25-485f-aa2b-fe054bcd08fc"
      },
      "id": "ZvMwXfyYf2DR",
      "execution_count": 1,
      "outputs": [
        {
          "output_type": "stream",
          "name": "stdout",
          "text": [
            "Collecting transformers\n",
            "  Downloading transformers-4.35.1-py3-none-any.whl (7.9 MB)\n",
            "\u001b[2K     \u001b[90m━━━━━━━━━━━━━━━━━━━━━━━━━━━━━━━━━━━━━━━━\u001b[0m \u001b[32m7.9/7.9 MB\u001b[0m \u001b[31m60.8 MB/s\u001b[0m eta \u001b[36m0:00:00\u001b[0m\n",
            "\u001b[?25hRequirement already satisfied: filelock in /usr/local/lib/python3.10/dist-packages (from transformers) (3.13.1)\n",
            "Collecting huggingface-hub<1.0,>=0.16.4 (from transformers)\n",
            "  Downloading huggingface_hub-0.19.1-py3-none-any.whl (311 kB)\n",
            "\u001b[2K     \u001b[90m━━━━━━━━━━━━━━━━━━━━━━━━━━━━━━━━━━━━━━━━\u001b[0m \u001b[32m311.1/311.1 kB\u001b[0m \u001b[31m42.2 MB/s\u001b[0m eta \u001b[36m0:00:00\u001b[0m\n",
            "\u001b[?25hRequirement already satisfied: numpy>=1.17 in /usr/local/lib/python3.10/dist-packages (from transformers) (1.23.5)\n",
            "Requirement already satisfied: packaging>=20.0 in /usr/local/lib/python3.10/dist-packages (from transformers) (23.2)\n",
            "Requirement already satisfied: pyyaml>=5.1 in /usr/local/lib/python3.10/dist-packages (from transformers) (6.0.1)\n",
            "Requirement already satisfied: regex!=2019.12.17 in /usr/local/lib/python3.10/dist-packages (from transformers) (2023.6.3)\n",
            "Requirement already satisfied: requests in /usr/local/lib/python3.10/dist-packages (from transformers) (2.31.0)\n",
            "Collecting tokenizers<0.15,>=0.14 (from transformers)\n",
            "  Downloading tokenizers-0.14.1-cp310-cp310-manylinux_2_17_x86_64.manylinux2014_x86_64.whl (3.8 MB)\n",
            "\u001b[2K     \u001b[90m━━━━━━━━━━━━━━━━━━━━━━━━━━━━━━━━━━━━━━━━\u001b[0m \u001b[32m3.8/3.8 MB\u001b[0m \u001b[31m106.1 MB/s\u001b[0m eta \u001b[36m0:00:00\u001b[0m\n",
            "\u001b[?25hCollecting safetensors>=0.3.1 (from transformers)\n",
            "  Downloading safetensors-0.4.0-cp310-cp310-manylinux_2_17_x86_64.manylinux2014_x86_64.whl (1.3 MB)\n",
            "\u001b[2K     \u001b[90m━━━━━━━━━━━━━━━━━━━━━━━━━━━━━━━━━━━━━━━━\u001b[0m \u001b[32m1.3/1.3 MB\u001b[0m \u001b[31m91.0 MB/s\u001b[0m eta \u001b[36m0:00:00\u001b[0m\n",
            "\u001b[?25hRequirement already satisfied: tqdm>=4.27 in /usr/local/lib/python3.10/dist-packages (from transformers) (4.66.1)\n",
            "Requirement already satisfied: fsspec>=2023.5.0 in /usr/local/lib/python3.10/dist-packages (from huggingface-hub<1.0,>=0.16.4->transformers) (2023.6.0)\n",
            "Requirement already satisfied: typing-extensions>=3.7.4.3 in /usr/local/lib/python3.10/dist-packages (from huggingface-hub<1.0,>=0.16.4->transformers) (4.5.0)\n",
            "Collecting huggingface-hub<1.0,>=0.16.4 (from transformers)\n",
            "  Downloading huggingface_hub-0.17.3-py3-none-any.whl (295 kB)\n",
            "\u001b[2K     \u001b[90m━━━━━━━━━━━━━━━━━━━━━━━━━━━━━━━━━━━━━━━━\u001b[0m \u001b[32m295.0/295.0 kB\u001b[0m \u001b[31m41.2 MB/s\u001b[0m eta \u001b[36m0:00:00\u001b[0m\n",
            "\u001b[?25hRequirement already satisfied: charset-normalizer<4,>=2 in /usr/local/lib/python3.10/dist-packages (from requests->transformers) (3.3.2)\n",
            "Requirement already satisfied: idna<4,>=2.5 in /usr/local/lib/python3.10/dist-packages (from requests->transformers) (3.4)\n",
            "Requirement already satisfied: urllib3<3,>=1.21.1 in /usr/local/lib/python3.10/dist-packages (from requests->transformers) (2.0.7)\n",
            "Requirement already satisfied: certifi>=2017.4.17 in /usr/local/lib/python3.10/dist-packages (from requests->transformers) (2023.7.22)\n",
            "Installing collected packages: safetensors, huggingface-hub, tokenizers, transformers\n",
            "Successfully installed huggingface-hub-0.17.3 safetensors-0.4.0 tokenizers-0.14.1 transformers-4.35.1\n"
          ]
        }
      ]
    },
    {
      "cell_type": "code",
      "execution_count": 2,
      "id": "f113322e",
      "metadata": {
        "id": "f113322e"
      },
      "outputs": [],
      "source": [
        "# standard\n",
        "import pandas as pd\n",
        "import numpy as np\n",
        "import random\n",
        "import os\n",
        "\n",
        "# plots and images\n",
        "import seaborn as sns\n",
        "import matplotlib.pyplot as plt\n",
        "\n",
        "# ML from sklearn\n",
        "import sklearn\n",
        "from sklearn.decomposition import PCA\n",
        "from sklearn import metrics\n",
        "from sklearn.model_selection import train_test_split\n",
        "from imblearn.over_sampling import SMOTE\n",
        "from sklearn.feature_extraction.text import TfidfVectorizer\n",
        "from sklearn.tree import DecisionTreeClassifier\n",
        "from sklearn.ensemble import RandomForestClassifier\n",
        "from sklearn.linear_model import LogisticRegression\n",
        "from sklearn.metrics import classification_report\n",
        "from sklearn.preprocessing import LabelEncoder\n",
        "from sklearn.model_selection import GridSearchCV\n",
        "from sklearn.model_selection import RandomizedSearchCV\n",
        "\n",
        "# tf, keras and torch\n",
        "import tensorflow as tf\n",
        "import tensorflow_datasets as tfds\n",
        "import torch\n",
        "from tensorflow.keras import Sequential\n",
        "from tensorflow.keras.layers import Dense\n",
        "from tensorflow.keras.layers import Embedding\n",
        "from tensorflow.keras.layers import GlobalAveragePooling1D\n",
        "from tensorflow.keras.layers import Dropout\n",
        "from torch.utils.data import DataLoader, TensorDataset, RandomSampler, SequentialSampler\n",
        "\n",
        "# text analysis\n",
        "import nltk\n",
        "from nltk.corpus import stopwords\n",
        "from wordcloud import WordCloud\n",
        "\n",
        "# Transformers\n",
        "from transformers import BertTokenizer, BertForSequenceClassification, AdamW\n",
        "from transformers import get_linear_schedule_with_warmup\n",
        "\n",
        "#  others\n",
        "import re\n",
        "from collections import Counter\n",
        "import itertools\n",
        "import warnings\n",
        "warnings.filterwarnings(\"ignore\")"
      ]
    },
    {
      "cell_type": "code",
      "execution_count": 3,
      "id": "dc2b7eaf",
      "metadata": {
        "colab": {
          "base_uri": "https://localhost:8080/",
          "height": 556
        },
        "id": "dc2b7eaf",
        "outputId": "bc2e3e53-7cc2-4617-8e3d-d89b7476a693"
      },
      "outputs": [
        {
          "output_type": "execute_result",
          "data": {
            "text/plain": [
              "   job_id                                      title            location  \\\n",
              "0       1                           Marketing Intern    US, NY, New York   \n",
              "1       2  Customer Service - Cloud Video Production      NZ, , Auckland   \n",
              "2       3    Commissioning Machinery Assistant (CMA)       US, IA, Wever   \n",
              "3       4          Account Executive - Washington DC  US, DC, Washington   \n",
              "4       5                        Bill Review Manager  US, FL, Fort Worth   \n",
              "\n",
              "  department salary_range                                    company_profile  \\\n",
              "0  Marketing          NaN  We're Food52, and we've created a groundbreaki...   \n",
              "1    Success          NaN  90 Seconds, the worlds Cloud Video Production ...   \n",
              "2        NaN          NaN  Valor Services provides Workforce Solutions th...   \n",
              "3      Sales          NaN  Our passion for improving quality of life thro...   \n",
              "4        NaN          NaN  SpotSource Solutions LLC is a Global Human Cap...   \n",
              "\n",
              "                                         description  \\\n",
              "0  Food52, a fast-growing, James Beard Award-winn...   \n",
              "1  Organised - Focused - Vibrant - Awesome!Do you...   \n",
              "2  Our client, located in Houston, is actively se...   \n",
              "3  THE COMPANY: ESRI – Environmental Systems Rese...   \n",
              "4  JOB TITLE: Itemization Review ManagerLOCATION:...   \n",
              "\n",
              "                                        requirements  \\\n",
              "0  Experience with content management systems a m...   \n",
              "1  What we expect from you:Your key responsibilit...   \n",
              "2  Implement pre-commissioning and commissioning ...   \n",
              "3  EDUCATION: Bachelor’s or Master’s in GIS, busi...   \n",
              "4  QUALIFICATIONS:RN license in the State of Texa...   \n",
              "\n",
              "                                            benefits  telecommuting  \\\n",
              "0                                                NaN              0   \n",
              "1  What you will get from usThrough being part of...              0   \n",
              "2                                                NaN              0   \n",
              "3  Our culture is anything but corporate—we have ...              0   \n",
              "4                              Full Benefits Offered              0   \n",
              "\n",
              "   has_company_logo  has_questions employment_type required_experience  \\\n",
              "0                 1              0           Other          Internship   \n",
              "1                 1              0       Full-time      Not Applicable   \n",
              "2                 1              0             NaN                 NaN   \n",
              "3                 1              0       Full-time    Mid-Senior level   \n",
              "4                 1              1       Full-time    Mid-Senior level   \n",
              "\n",
              "  required_education                   industry              function  \\\n",
              "0                NaN                        NaN             Marketing   \n",
              "1                NaN  Marketing and Advertising      Customer Service   \n",
              "2                NaN                        NaN                   NaN   \n",
              "3  Bachelor's Degree          Computer Software                 Sales   \n",
              "4  Bachelor's Degree     Hospital & Health Care  Health Care Provider   \n",
              "\n",
              "   fraudulent  \n",
              "0           0  \n",
              "1           0  \n",
              "2           0  \n",
              "3           0  \n",
              "4           0  "
            ],
            "text/html": [
              "\n",
              "  <div id=\"df-8f3355da-dfd0-4946-a6e3-ad3cec35a4f5\" class=\"colab-df-container\">\n",
              "    <div>\n",
              "<style scoped>\n",
              "    .dataframe tbody tr th:only-of-type {\n",
              "        vertical-align: middle;\n",
              "    }\n",
              "\n",
              "    .dataframe tbody tr th {\n",
              "        vertical-align: top;\n",
              "    }\n",
              "\n",
              "    .dataframe thead th {\n",
              "        text-align: right;\n",
              "    }\n",
              "</style>\n",
              "<table border=\"1\" class=\"dataframe\">\n",
              "  <thead>\n",
              "    <tr style=\"text-align: right;\">\n",
              "      <th></th>\n",
              "      <th>job_id</th>\n",
              "      <th>title</th>\n",
              "      <th>location</th>\n",
              "      <th>department</th>\n",
              "      <th>salary_range</th>\n",
              "      <th>company_profile</th>\n",
              "      <th>description</th>\n",
              "      <th>requirements</th>\n",
              "      <th>benefits</th>\n",
              "      <th>telecommuting</th>\n",
              "      <th>has_company_logo</th>\n",
              "      <th>has_questions</th>\n",
              "      <th>employment_type</th>\n",
              "      <th>required_experience</th>\n",
              "      <th>required_education</th>\n",
              "      <th>industry</th>\n",
              "      <th>function</th>\n",
              "      <th>fraudulent</th>\n",
              "    </tr>\n",
              "  </thead>\n",
              "  <tbody>\n",
              "    <tr>\n",
              "      <th>0</th>\n",
              "      <td>1</td>\n",
              "      <td>Marketing Intern</td>\n",
              "      <td>US, NY, New York</td>\n",
              "      <td>Marketing</td>\n",
              "      <td>NaN</td>\n",
              "      <td>We're Food52, and we've created a groundbreaki...</td>\n",
              "      <td>Food52, a fast-growing, James Beard Award-winn...</td>\n",
              "      <td>Experience with content management systems a m...</td>\n",
              "      <td>NaN</td>\n",
              "      <td>0</td>\n",
              "      <td>1</td>\n",
              "      <td>0</td>\n",
              "      <td>Other</td>\n",
              "      <td>Internship</td>\n",
              "      <td>NaN</td>\n",
              "      <td>NaN</td>\n",
              "      <td>Marketing</td>\n",
              "      <td>0</td>\n",
              "    </tr>\n",
              "    <tr>\n",
              "      <th>1</th>\n",
              "      <td>2</td>\n",
              "      <td>Customer Service - Cloud Video Production</td>\n",
              "      <td>NZ, , Auckland</td>\n",
              "      <td>Success</td>\n",
              "      <td>NaN</td>\n",
              "      <td>90 Seconds, the worlds Cloud Video Production ...</td>\n",
              "      <td>Organised - Focused - Vibrant - Awesome!Do you...</td>\n",
              "      <td>What we expect from you:Your key responsibilit...</td>\n",
              "      <td>What you will get from usThrough being part of...</td>\n",
              "      <td>0</td>\n",
              "      <td>1</td>\n",
              "      <td>0</td>\n",
              "      <td>Full-time</td>\n",
              "      <td>Not Applicable</td>\n",
              "      <td>NaN</td>\n",
              "      <td>Marketing and Advertising</td>\n",
              "      <td>Customer Service</td>\n",
              "      <td>0</td>\n",
              "    </tr>\n",
              "    <tr>\n",
              "      <th>2</th>\n",
              "      <td>3</td>\n",
              "      <td>Commissioning Machinery Assistant (CMA)</td>\n",
              "      <td>US, IA, Wever</td>\n",
              "      <td>NaN</td>\n",
              "      <td>NaN</td>\n",
              "      <td>Valor Services provides Workforce Solutions th...</td>\n",
              "      <td>Our client, located in Houston, is actively se...</td>\n",
              "      <td>Implement pre-commissioning and commissioning ...</td>\n",
              "      <td>NaN</td>\n",
              "      <td>0</td>\n",
              "      <td>1</td>\n",
              "      <td>0</td>\n",
              "      <td>NaN</td>\n",
              "      <td>NaN</td>\n",
              "      <td>NaN</td>\n",
              "      <td>NaN</td>\n",
              "      <td>NaN</td>\n",
              "      <td>0</td>\n",
              "    </tr>\n",
              "    <tr>\n",
              "      <th>3</th>\n",
              "      <td>4</td>\n",
              "      <td>Account Executive - Washington DC</td>\n",
              "      <td>US, DC, Washington</td>\n",
              "      <td>Sales</td>\n",
              "      <td>NaN</td>\n",
              "      <td>Our passion for improving quality of life thro...</td>\n",
              "      <td>THE COMPANY: ESRI – Environmental Systems Rese...</td>\n",
              "      <td>EDUCATION: Bachelor’s or Master’s in GIS, busi...</td>\n",
              "      <td>Our culture is anything but corporate—we have ...</td>\n",
              "      <td>0</td>\n",
              "      <td>1</td>\n",
              "      <td>0</td>\n",
              "      <td>Full-time</td>\n",
              "      <td>Mid-Senior level</td>\n",
              "      <td>Bachelor's Degree</td>\n",
              "      <td>Computer Software</td>\n",
              "      <td>Sales</td>\n",
              "      <td>0</td>\n",
              "    </tr>\n",
              "    <tr>\n",
              "      <th>4</th>\n",
              "      <td>5</td>\n",
              "      <td>Bill Review Manager</td>\n",
              "      <td>US, FL, Fort Worth</td>\n",
              "      <td>NaN</td>\n",
              "      <td>NaN</td>\n",
              "      <td>SpotSource Solutions LLC is a Global Human Cap...</td>\n",
              "      <td>JOB TITLE: Itemization Review ManagerLOCATION:...</td>\n",
              "      <td>QUALIFICATIONS:RN license in the State of Texa...</td>\n",
              "      <td>Full Benefits Offered</td>\n",
              "      <td>0</td>\n",
              "      <td>1</td>\n",
              "      <td>1</td>\n",
              "      <td>Full-time</td>\n",
              "      <td>Mid-Senior level</td>\n",
              "      <td>Bachelor's Degree</td>\n",
              "      <td>Hospital &amp; Health Care</td>\n",
              "      <td>Health Care Provider</td>\n",
              "      <td>0</td>\n",
              "    </tr>\n",
              "  </tbody>\n",
              "</table>\n",
              "</div>\n",
              "    <div class=\"colab-df-buttons\">\n",
              "\n",
              "  <div class=\"colab-df-container\">\n",
              "    <button class=\"colab-df-convert\" onclick=\"convertToInteractive('df-8f3355da-dfd0-4946-a6e3-ad3cec35a4f5')\"\n",
              "            title=\"Convert this dataframe to an interactive table.\"\n",
              "            style=\"display:none;\">\n",
              "\n",
              "  <svg xmlns=\"http://www.w3.org/2000/svg\" height=\"24px\" viewBox=\"0 -960 960 960\">\n",
              "    <path d=\"M120-120v-720h720v720H120Zm60-500h600v-160H180v160Zm220 220h160v-160H400v160Zm0 220h160v-160H400v160ZM180-400h160v-160H180v160Zm440 0h160v-160H620v160ZM180-180h160v-160H180v160Zm440 0h160v-160H620v160Z\"/>\n",
              "  </svg>\n",
              "    </button>\n",
              "\n",
              "  <style>\n",
              "    .colab-df-container {\n",
              "      display:flex;\n",
              "      gap: 12px;\n",
              "    }\n",
              "\n",
              "    .colab-df-convert {\n",
              "      background-color: #E8F0FE;\n",
              "      border: none;\n",
              "      border-radius: 50%;\n",
              "      cursor: pointer;\n",
              "      display: none;\n",
              "      fill: #1967D2;\n",
              "      height: 32px;\n",
              "      padding: 0 0 0 0;\n",
              "      width: 32px;\n",
              "    }\n",
              "\n",
              "    .colab-df-convert:hover {\n",
              "      background-color: #E2EBFA;\n",
              "      box-shadow: 0px 1px 2px rgba(60, 64, 67, 0.3), 0px 1px 3px 1px rgba(60, 64, 67, 0.15);\n",
              "      fill: #174EA6;\n",
              "    }\n",
              "\n",
              "    .colab-df-buttons div {\n",
              "      margin-bottom: 4px;\n",
              "    }\n",
              "\n",
              "    [theme=dark] .colab-df-convert {\n",
              "      background-color: #3B4455;\n",
              "      fill: #D2E3FC;\n",
              "    }\n",
              "\n",
              "    [theme=dark] .colab-df-convert:hover {\n",
              "      background-color: #434B5C;\n",
              "      box-shadow: 0px 1px 3px 1px rgba(0, 0, 0, 0.15);\n",
              "      filter: drop-shadow(0px 1px 2px rgba(0, 0, 0, 0.3));\n",
              "      fill: #FFFFFF;\n",
              "    }\n",
              "  </style>\n",
              "\n",
              "    <script>\n",
              "      const buttonEl =\n",
              "        document.querySelector('#df-8f3355da-dfd0-4946-a6e3-ad3cec35a4f5 button.colab-df-convert');\n",
              "      buttonEl.style.display =\n",
              "        google.colab.kernel.accessAllowed ? 'block' : 'none';\n",
              "\n",
              "      async function convertToInteractive(key) {\n",
              "        const element = document.querySelector('#df-8f3355da-dfd0-4946-a6e3-ad3cec35a4f5');\n",
              "        const dataTable =\n",
              "          await google.colab.kernel.invokeFunction('convertToInteractive',\n",
              "                                                    [key], {});\n",
              "        if (!dataTable) return;\n",
              "\n",
              "        const docLinkHtml = 'Like what you see? Visit the ' +\n",
              "          '<a target=\"_blank\" href=https://colab.research.google.com/notebooks/data_table.ipynb>data table notebook</a>'\n",
              "          + ' to learn more about interactive tables.';\n",
              "        element.innerHTML = '';\n",
              "        dataTable['output_type'] = 'display_data';\n",
              "        await google.colab.output.renderOutput(dataTable, element);\n",
              "        const docLink = document.createElement('div');\n",
              "        docLink.innerHTML = docLinkHtml;\n",
              "        element.appendChild(docLink);\n",
              "      }\n",
              "    </script>\n",
              "  </div>\n",
              "\n",
              "\n",
              "<div id=\"df-70bc3b9b-7615-4ba8-9db5-c998bd0766b0\">\n",
              "  <button class=\"colab-df-quickchart\" onclick=\"quickchart('df-70bc3b9b-7615-4ba8-9db5-c998bd0766b0')\"\n",
              "            title=\"Suggest charts\"\n",
              "            style=\"display:none;\">\n",
              "\n",
              "<svg xmlns=\"http://www.w3.org/2000/svg\" height=\"24px\"viewBox=\"0 0 24 24\"\n",
              "     width=\"24px\">\n",
              "    <g>\n",
              "        <path d=\"M19 3H5c-1.1 0-2 .9-2 2v14c0 1.1.9 2 2 2h14c1.1 0 2-.9 2-2V5c0-1.1-.9-2-2-2zM9 17H7v-7h2v7zm4 0h-2V7h2v10zm4 0h-2v-4h2v4z\"/>\n",
              "    </g>\n",
              "</svg>\n",
              "  </button>\n",
              "\n",
              "<style>\n",
              "  .colab-df-quickchart {\n",
              "      --bg-color: #E8F0FE;\n",
              "      --fill-color: #1967D2;\n",
              "      --hover-bg-color: #E2EBFA;\n",
              "      --hover-fill-color: #174EA6;\n",
              "      --disabled-fill-color: #AAA;\n",
              "      --disabled-bg-color: #DDD;\n",
              "  }\n",
              "\n",
              "  [theme=dark] .colab-df-quickchart {\n",
              "      --bg-color: #3B4455;\n",
              "      --fill-color: #D2E3FC;\n",
              "      --hover-bg-color: #434B5C;\n",
              "      --hover-fill-color: #FFFFFF;\n",
              "      --disabled-bg-color: #3B4455;\n",
              "      --disabled-fill-color: #666;\n",
              "  }\n",
              "\n",
              "  .colab-df-quickchart {\n",
              "    background-color: var(--bg-color);\n",
              "    border: none;\n",
              "    border-radius: 50%;\n",
              "    cursor: pointer;\n",
              "    display: none;\n",
              "    fill: var(--fill-color);\n",
              "    height: 32px;\n",
              "    padding: 0;\n",
              "    width: 32px;\n",
              "  }\n",
              "\n",
              "  .colab-df-quickchart:hover {\n",
              "    background-color: var(--hover-bg-color);\n",
              "    box-shadow: 0 1px 2px rgba(60, 64, 67, 0.3), 0 1px 3px 1px rgba(60, 64, 67, 0.15);\n",
              "    fill: var(--button-hover-fill-color);\n",
              "  }\n",
              "\n",
              "  .colab-df-quickchart-complete:disabled,\n",
              "  .colab-df-quickchart-complete:disabled:hover {\n",
              "    background-color: var(--disabled-bg-color);\n",
              "    fill: var(--disabled-fill-color);\n",
              "    box-shadow: none;\n",
              "  }\n",
              "\n",
              "  .colab-df-spinner {\n",
              "    border: 2px solid var(--fill-color);\n",
              "    border-color: transparent;\n",
              "    border-bottom-color: var(--fill-color);\n",
              "    animation:\n",
              "      spin 1s steps(1) infinite;\n",
              "  }\n",
              "\n",
              "  @keyframes spin {\n",
              "    0% {\n",
              "      border-color: transparent;\n",
              "      border-bottom-color: var(--fill-color);\n",
              "      border-left-color: var(--fill-color);\n",
              "    }\n",
              "    20% {\n",
              "      border-color: transparent;\n",
              "      border-left-color: var(--fill-color);\n",
              "      border-top-color: var(--fill-color);\n",
              "    }\n",
              "    30% {\n",
              "      border-color: transparent;\n",
              "      border-left-color: var(--fill-color);\n",
              "      border-top-color: var(--fill-color);\n",
              "      border-right-color: var(--fill-color);\n",
              "    }\n",
              "    40% {\n",
              "      border-color: transparent;\n",
              "      border-right-color: var(--fill-color);\n",
              "      border-top-color: var(--fill-color);\n",
              "    }\n",
              "    60% {\n",
              "      border-color: transparent;\n",
              "      border-right-color: var(--fill-color);\n",
              "    }\n",
              "    80% {\n",
              "      border-color: transparent;\n",
              "      border-right-color: var(--fill-color);\n",
              "      border-bottom-color: var(--fill-color);\n",
              "    }\n",
              "    90% {\n",
              "      border-color: transparent;\n",
              "      border-bottom-color: var(--fill-color);\n",
              "    }\n",
              "  }\n",
              "</style>\n",
              "\n",
              "  <script>\n",
              "    async function quickchart(key) {\n",
              "      const quickchartButtonEl =\n",
              "        document.querySelector('#' + key + ' button');\n",
              "      quickchartButtonEl.disabled = true;  // To prevent multiple clicks.\n",
              "      quickchartButtonEl.classList.add('colab-df-spinner');\n",
              "      try {\n",
              "        const charts = await google.colab.kernel.invokeFunction(\n",
              "            'suggestCharts', [key], {});\n",
              "      } catch (error) {\n",
              "        console.error('Error during call to suggestCharts:', error);\n",
              "      }\n",
              "      quickchartButtonEl.classList.remove('colab-df-spinner');\n",
              "      quickchartButtonEl.classList.add('colab-df-quickchart-complete');\n",
              "    }\n",
              "    (() => {\n",
              "      let quickchartButtonEl =\n",
              "        document.querySelector('#df-70bc3b9b-7615-4ba8-9db5-c998bd0766b0 button');\n",
              "      quickchartButtonEl.style.display =\n",
              "        google.colab.kernel.accessAllowed ? 'block' : 'none';\n",
              "    })();\n",
              "  </script>\n",
              "</div>\n",
              "    </div>\n",
              "  </div>\n"
            ]
          },
          "metadata": {},
          "execution_count": 3
        }
      ],
      "source": [
        "df = pd.read_csv(\"fake_job_postings.csv\")\n",
        "df.head()"
      ]
    },
    {
      "cell_type": "code",
      "source": [
        "df.info()"
      ],
      "metadata": {
        "colab": {
          "base_uri": "https://localhost:8080/"
        },
        "id": "tYXF_-_fZLZz",
        "outputId": "190a4909-af17-49e3-f003-13d395475b23"
      },
      "id": "tYXF_-_fZLZz",
      "execution_count": 4,
      "outputs": [
        {
          "output_type": "stream",
          "name": "stdout",
          "text": [
            "<class 'pandas.core.frame.DataFrame'>\n",
            "RangeIndex: 17880 entries, 0 to 17879\n",
            "Data columns (total 18 columns):\n",
            " #   Column               Non-Null Count  Dtype \n",
            "---  ------               --------------  ----- \n",
            " 0   job_id               17880 non-null  int64 \n",
            " 1   title                17880 non-null  object\n",
            " 2   location             17534 non-null  object\n",
            " 3   department           6333 non-null   object\n",
            " 4   salary_range         2868 non-null   object\n",
            " 5   company_profile      14572 non-null  object\n",
            " 6   description          17879 non-null  object\n",
            " 7   requirements         15185 non-null  object\n",
            " 8   benefits             10670 non-null  object\n",
            " 9   telecommuting        17880 non-null  int64 \n",
            " 10  has_company_logo     17880 non-null  int64 \n",
            " 11  has_questions        17880 non-null  int64 \n",
            " 12  employment_type      14409 non-null  object\n",
            " 13  required_experience  10830 non-null  object\n",
            " 14  required_education   9775 non-null   object\n",
            " 15  industry             12977 non-null  object\n",
            " 16  function             11425 non-null  object\n",
            " 17  fraudulent           17880 non-null  int64 \n",
            "dtypes: int64(5), object(13)\n",
            "memory usage: 2.5+ MB\n"
          ]
        }
      ]
    },
    {
      "cell_type": "markdown",
      "source": [
        "## Data Cleaning and Feature Engineering\n",
        "\n",
        "Our baseline model will be a simple logisitc regression. Therefore, the first few text-based columns can be dropped as they are too descriptive and varied. Additionally, all columns with NA values will also be dropped to further clean the data. The resulting features we will use for the baseline model include 'telecommuting', 'has_company_logo', 'has_questions', 'employment_type', 'required_experience', 'required_education', 'industry', and 'function'."
      ],
      "metadata": {
        "id": "ZOMU-5yfc2iJ"
      },
      "id": "ZOMU-5yfc2iJ"
    },
    {
      "cell_type": "code",
      "source": [
        "# drop department because of many missing values, drop first couple of columns because they are too descriptive and varied\n",
        "df1=df.drop([\"department\",\"job_id\",\"title\",\"location\",\"salary_range\",\"company_profile\",\"description\",\"requirements\",\"benefits\"],axis=1)\n",
        "df_clean=df1.dropna()\n",
        "df_clean.info()"
      ],
      "metadata": {
        "colab": {
          "base_uri": "https://localhost:8080/"
        },
        "id": "59yN7rPOZMn-",
        "outputId": "3bef5383-df0e-4044-80fc-716b4cebd1ab"
      },
      "id": "59yN7rPOZMn-",
      "execution_count": 5,
      "outputs": [
        {
          "output_type": "stream",
          "name": "stdout",
          "text": [
            "<class 'pandas.core.frame.DataFrame'>\n",
            "Int64Index: 7615 entries, 3 to 17878\n",
            "Data columns (total 9 columns):\n",
            " #   Column               Non-Null Count  Dtype \n",
            "---  ------               --------------  ----- \n",
            " 0   telecommuting        7615 non-null   int64 \n",
            " 1   has_company_logo     7615 non-null   int64 \n",
            " 2   has_questions        7615 non-null   int64 \n",
            " 3   employment_type      7615 non-null   object\n",
            " 4   required_experience  7615 non-null   object\n",
            " 5   required_education   7615 non-null   object\n",
            " 6   industry             7615 non-null   object\n",
            " 7   function             7615 non-null   object\n",
            " 8   fraudulent           7615 non-null   int64 \n",
            "dtypes: int64(4), object(5)\n",
            "memory usage: 594.9+ KB\n"
          ]
        }
      ]
    },
    {
      "cell_type": "markdown",
      "source": [
        "## Exploratory Data Analysis"
      ],
      "metadata": {
        "id": "2eB3FMtfdBFj"
      },
      "id": "2eB3FMtfdBFj"
    },
    {
      "cell_type": "code",
      "source": [
        "df_clean['fraudulent'].value_counts()"
      ],
      "metadata": {
        "colab": {
          "base_uri": "https://localhost:8080/"
        },
        "id": "xWTNE11Mekh6",
        "outputId": "3e3d6ab4-4de4-44aa-8405-aa61e7c0e994"
      },
      "id": "xWTNE11Mekh6",
      "execution_count": 6,
      "outputs": [
        {
          "output_type": "execute_result",
          "data": {
            "text/plain": [
              "0    7273\n",
              "1     342\n",
              "Name: fraudulent, dtype: int64"
            ]
          },
          "metadata": {},
          "execution_count": 6
        }
      ]
    },
    {
      "cell_type": "code",
      "source": [
        "print(df_clean['fraudulent'].value_counts())\n",
        "\n",
        "data = {'Non-Fraudulent': 7273, 'Fraudulent': 342}\n",
        "\n",
        "fraudulent_data = list(data.values())\n",
        "labels = list(data.keys())\n",
        "\n",
        "plt.bar(labels, fraudulent_data, color=['blue', 'red'])\n",
        "plt.xlabel('Class')\n",
        "plt.ylabel('Count')\n",
        "plt.title('Fraudulent vs Non-Fraudulent Job Postings')\n",
        "\n",
        "plt.show()\n",
        "print(342/7273)"
      ],
      "metadata": {
        "colab": {
          "base_uri": "https://localhost:8080/",
          "height": 545
        },
        "id": "6wx3xXA5dQIU",
        "outputId": "8450d5ee-be05-4a0f-f112-675e099b2763"
      },
      "id": "6wx3xXA5dQIU",
      "execution_count": 7,
      "outputs": [
        {
          "output_type": "stream",
          "name": "stdout",
          "text": [
            "0    7273\n",
            "1     342\n",
            "Name: fraudulent, dtype: int64\n"
          ]
        },
        {
          "output_type": "display_data",
          "data": {
            "text/plain": [
              "<Figure size 640x480 with 1 Axes>"
            ],
            "image/png": "[encoded data removed]"
          },
          "metadata": {}
        },
        {
          "output_type": "stream",
          "name": "stdout",
          "text": [
            "0.047023236628626425\n"
          ]
        }
      ]
    },
    {
      "cell_type": "markdown",
      "source": [
        "After cleaning the data, we can see that only 342 posts or approximately 4.7% of the data are labeled fake. This indicates that distribution is highly imbalanced, so accuracy may not be the best metric to evaluate the baseline model. Precision and recall will be used instead for model evaluation."
      ],
      "metadata": {
        "id": "Spn1Yc6_dRmO"
      },
      "id": "Spn1Yc6_dRmO"
    },
    {
      "cell_type": "code",
      "source": [
        "cat_cols = [\"telecommuting\", \"has_company_logo\", \"has_questions\", \"employment_type\", \"required_experience\", \"required_education\"]\n",
        "# visualizating catagorical variable by target\n",
        "import matplotlib.gridspec as gridspec # to do the grid of plots\n",
        "grid = gridspec.GridSpec(3, 3, wspace=0.5, hspace=0.5) # The grid of chart\n",
        "plt.figure(figsize=(15,25)) # size of figure\n",
        "\n",
        "# loop to get column and the count of plots\n",
        "for n, col in enumerate(df_clean[cat_cols]):\n",
        "    ax = plt.subplot(grid[n]) # feeding the figure of grid\n",
        "    sns.countplot(x=col, data=df_clean, hue='fraudulent', palette='Set2')\n",
        "    ax.set_ylabel('Count', fontsize=12) # y axis label\n",
        "    ax.set_title(f'{col} Distribution', fontsize=15) # title label\n",
        "    ax.set_xlabel(f'{col} values', fontsize=12) # x axis label\n",
        "    xlabels = ax.get_xticklabels()\n",
        "    ylabels = ax.get_yticklabels()\n",
        "    ax.set_xticklabels(xlabels,  fontsize=10)\n",
        "    ax.set_yticklabels(ylabels,  fontsize=10)\n",
        "    plt.legend(labels=['Real', 'Fraudulent'], fontsize=8)\n",
        "    plt.xticks(rotation=90)\n",
        "    total = len(df_clean)\n",
        "    sizes=[] # Get highest values in y\n",
        "    for p in ax.patches: # loop to all objects\n",
        "        height = p.get_height()\n",
        "        sizes.append(height)\n",
        "        ax.text(p.get_x()+p.get_width()/2.,\n",
        "                height + 3,\n",
        "                '{:1.2f}%'.format(height/total*100),\n",
        "                ha=\"center\", fontsize=10)\n",
        "    ax.set_ylim(0, max(sizes) * 1.15) #set y limit based on highest heights\n",
        "\n",
        "\n",
        "plt.show()"
      ],
      "metadata": {
        "colab": {
          "base_uri": "https://localhost:8080/",
          "height": 1000
        },
        "id": "x4DyglFtddzQ",
        "outputId": "85dd1ed4-39e3-4f85-dd38-bd50456607b6"
      },
      "id": "x4DyglFtddzQ",
      "execution_count": 8,
      "outputs": [
        {
          "output_type": "display_data",
          "data": {
            "text/plain": [
              "<Figure size 1500x2500 with 6 Axes>"
            ],
            "image/png": "[encoded data removed]"
          },
          "metadata": {}
        }
      ]
    },
    {
      "cell_type": "markdown",
      "source": [
        "We can use the bar plots of the distributions of each of the key features to do more exploratory data analysis in comparing the the real and fraudulent job postings. For telecommuting, both targets follow a distribution where a majority of the telecommuting values are 0. A larger proportion of the data has a company logo for both targets as well, although a much larger proportion of the real job postings have a company logo compared to that of the fraudulent postings. For both targets, the distribution of having or not having questions is roughly equal, although for real postings, the proportion of having questions is slightly larger wheras the opposite is true for the fraudulent postings. For employment type, the majority of the distribution for both targets is full-time, while contract also has the second highest count for real postings. For fraudulent postings however, part-time has the second highest count instead. For experience level, the highest count for real postings is attributed to mid-senior level positions, wheras for fradulent postings, the highest count is attributed to entry level roles. For required education, the highest count for real postings is attributed to to Bachelor's degree, wheras for fraudulent postings, it's attributed to high school or equivalent. Overall, the required experience and education features seem to indicate the biggest discrepancy between the real and fraudulent positings and may be the most significant features to examine in the training model. On the other hand, the telecommuting feature has a similar distribution for both targets, and since the majority of values are 0, it may not be a helpful feature and can be dropped."
      ],
      "metadata": {
        "id": "_XdbHloLdiRS"
      },
      "id": "_XdbHloLdiRS"
    },
    {
      "cell_type": "code",
      "source": [
        "df_clean=df_clean.drop([\"telecommuting\"],axis=1)\n",
        "df_clean.head()"
      ],
      "metadata": {
        "colab": {
          "base_uri": "https://localhost:8080/",
          "height": 206
        },
        "id": "rL5rTFkCfF9H",
        "outputId": "1dc4fed6-7820-45dd-97f0-bda78bb19ef6"
      },
      "id": "rL5rTFkCfF9H",
      "execution_count": 9,
      "outputs": [
        {
          "output_type": "execute_result",
          "data": {
            "text/plain": [
              "    has_company_logo  has_questions employment_type required_experience  \\\n",
              "3                  1              0       Full-time    Mid-Senior level   \n",
              "4                  1              1       Full-time    Mid-Senior level   \n",
              "6                  1              1       Full-time    Mid-Senior level   \n",
              "9                  1              0       Part-time         Entry level   \n",
              "10                 0              0       Full-time    Mid-Senior level   \n",
              "\n",
              "           required_education                             industry  \\\n",
              "3           Bachelor's Degree                    Computer Software   \n",
              "4           Bachelor's Degree               Hospital & Health Care   \n",
              "6             Master's Degree                         Online Media   \n",
              "9   High School or equivalent                   Financial Services   \n",
              "10          Bachelor's Degree  Information Technology and Services   \n",
              "\n",
              "                  function  fraudulent  \n",
              "3                    Sales           0  \n",
              "4     Health Care Provider           0  \n",
              "6               Management           0  \n",
              "9         Customer Service           0  \n",
              "10  Information Technology           0  "
            ],
            "text/html": [
              "\n",
              "  <div id=\"df-1a19f852-6533-434c-82a7-181054eb7916\" class=\"colab-df-container\">\n",
              "    <div>\n",
              "<style scoped>\n",
              "    .dataframe tbody tr th:only-of-type {\n",
              "        vertical-align: middle;\n",
              "    }\n",
              "\n",
              "    .dataframe tbody tr th {\n",
              "        vertical-align: top;\n",
              "    }\n",
              "\n",
              "    .dataframe thead th {\n",
              "        text-align: right;\n",
              "    }\n",
              "</style>\n",
              "<table border=\"1\" class=\"dataframe\">\n",
              "  <thead>\n",
              "    <tr style=\"text-align: right;\">\n",
              "      <th></th>\n",
              "      <th>has_company_logo</th>\n",
              "      <th>has_questions</th>\n",
              "      <th>employment_type</th>\n",
              "      <th>required_experience</th>\n",
              "      <th>required_education</th>\n",
              "      <th>industry</th>\n",
              "      <th>function</th>\n",
              "      <th>fraudulent</th>\n",
              "    </tr>\n",
              "  </thead>\n",
              "  <tbody>\n",
              "    <tr>\n",
              "      <th>3</th>\n",
              "      <td>1</td>\n",
              "      <td>0</td>\n",
              "      <td>Full-time</td>\n",
              "      <td>Mid-Senior level</td>\n",
              "      <td>Bachelor's Degree</td>\n",
              "      <td>Computer Software</td>\n",
              "      <td>Sales</td>\n",
              "      <td>0</td>\n",
              "    </tr>\n",
              "    <tr>\n",
              "      <th>4</th>\n",
              "      <td>1</td>\n",
              "      <td>1</td>\n",
              "      <td>Full-time</td>\n",
              "      <td>Mid-Senior level</td>\n",
              "      <td>Bachelor's Degree</td>\n",
              "      <td>Hospital &amp; Health Care</td>\n",
              "      <td>Health Care Provider</td>\n",
              "      <td>0</td>\n",
              "    </tr>\n",
              "    <tr>\n",
              "      <th>6</th>\n",
              "      <td>1</td>\n",
              "      <td>1</td>\n",
              "      <td>Full-time</td>\n",
              "      <td>Mid-Senior level</td>\n",
              "      <td>Master's Degree</td>\n",
              "      <td>Online Media</td>\n",
              "      <td>Management</td>\n",
              "      <td>0</td>\n",
              "    </tr>\n",
              "    <tr>\n",
              "      <th>9</th>\n",
              "      <td>1</td>\n",
              "      <td>0</td>\n",
              "      <td>Part-time</td>\n",
              "      <td>Entry level</td>\n",
              "      <td>High School or equivalent</td>\n",
              "      <td>Financial Services</td>\n",
              "      <td>Customer Service</td>\n",
              "      <td>0</td>\n",
              "    </tr>\n",
              "    <tr>\n",
              "      <th>10</th>\n",
              "      <td>0</td>\n",
              "      <td>0</td>\n",
              "      <td>Full-time</td>\n",
              "      <td>Mid-Senior level</td>\n",
              "      <td>Bachelor's Degree</td>\n",
              "      <td>Information Technology and Services</td>\n",
              "      <td>Information Technology</td>\n",
              "      <td>0</td>\n",
              "    </tr>\n",
              "  </tbody>\n",
              "</table>\n",
              "</div>\n",
              "    <div class=\"colab-df-buttons\">\n",
              "\n",
              "  <div class=\"colab-df-container\">\n",
              "    <button class=\"colab-df-convert\" onclick=\"convertToInteractive('df-1a19f852-6533-434c-82a7-181054eb7916')\"\n",
              "            title=\"Convert this dataframe to an interactive table.\"\n",
              "            style=\"display:none;\">\n",
              "\n",
              "  <svg xmlns=\"http://www.w3.org/2000/svg\" height=\"24px\" viewBox=\"0 -960 960 960\">\n",
              "    <path d=\"M120-120v-720h720v720H120Zm60-500h600v-160H180v160Zm220 220h160v-160H400v160Zm0 220h160v-160H400v160ZM180-400h160v-160H180v160Zm440 0h160v-160H620v160ZM180-180h160v-160H180v160Zm440 0h160v-160H620v160Z\"/>\n",
              "  </svg>\n",
              "    </button>\n",
              "\n",
              "  <style>\n",
              "    .colab-df-container {\n",
              "      display:flex;\n",
              "      gap: 12px;\n",
              "    }\n",
              "\n",
              "    .colab-df-convert {\n",
              "      background-color: #E8F0FE;\n",
              "      border: none;\n",
              "      border-radius: 50%;\n",
              "      cursor: pointer;\n",
              "      display: none;\n",
              "      fill: #1967D2;\n",
              "      height: 32px;\n",
              "      padding: 0 0 0 0;\n",
              "      width: 32px;\n",
              "    }\n",
              "\n",
              "    .colab-df-convert:hover {\n",
              "      background-color: #E2EBFA;\n",
              "      box-shadow: 0px 1px 2px rgba(60, 64, 67, 0.3), 0px 1px 3px 1px rgba(60, 64, 67, 0.15);\n",
              "      fill: #174EA6;\n",
              "    }\n",
              "\n",
              "    .colab-df-buttons div {\n",
              "      margin-bottom: 4px;\n",
              "    }\n",
              "\n",
              "    [theme=dark] .colab-df-convert {\n",
              "      background-color: #3B4455;\n",
              "      fill: #D2E3FC;\n",
              "    }\n",
              "\n",
              "    [theme=dark] .colab-df-convert:hover {\n",
              "      background-color: #434B5C;\n",
              "      box-shadow: 0px 1px 3px 1px rgba(0, 0, 0, 0.15);\n",
              "      filter: drop-shadow(0px 1px 2px rgba(0, 0, 0, 0.3));\n",
              "      fill: #FFFFFF;\n",
              "    }\n",
              "  </style>\n",
              "\n",
              "    <script>\n",
              "      const buttonEl =\n",
              "        document.querySelector('#df-1a19f852-6533-434c-82a7-181054eb7916 button.colab-df-convert');\n",
              "      buttonEl.style.display =\n",
              "        google.colab.kernel.accessAllowed ? 'block' : 'none';\n",
              "\n",
              "      async function convertToInteractive(key) {\n",
              "        const element = document.querySelector('#df-1a19f852-6533-434c-82a7-181054eb7916');\n",
              "        const dataTable =\n",
              "          await google.colab.kernel.invokeFunction('convertToInteractive',\n",
              "                                                    [key], {});\n",
              "        if (!dataTable) return;\n",
              "\n",
              "        const docLinkHtml = 'Like what you see? Visit the ' +\n",
              "          '<a target=\"_blank\" href=https://colab.research.google.com/notebooks/data_table.ipynb>data table notebook</a>'\n",
              "          + ' to learn more about interactive tables.';\n",
              "        element.innerHTML = '';\n",
              "        dataTable['output_type'] = 'display_data';\n",
              "        await google.colab.output.renderOutput(dataTable, element);\n",
              "        const docLink = document.createElement('div');\n",
              "        docLink.innerHTML = docLinkHtml;\n",
              "        element.appendChild(docLink);\n",
              "      }\n",
              "    </script>\n",
              "  </div>\n",
              "\n",
              "\n",
              "<div id=\"df-3ba6c862-36ee-4a0f-930b-2f3a483a5fd9\">\n",
              "  <button class=\"colab-df-quickchart\" onclick=\"quickchart('df-3ba6c862-36ee-4a0f-930b-2f3a483a5fd9')\"\n",
              "            title=\"Suggest charts\"\n",
              "            style=\"display:none;\">\n",
              "\n",
              "<svg xmlns=\"http://www.w3.org/2000/svg\" height=\"24px\"viewBox=\"0 0 24 24\"\n",
              "     width=\"24px\">\n",
              "    <g>\n",
              "        <path d=\"M19 3H5c-1.1 0-2 .9-2 2v14c0 1.1.9 2 2 2h14c1.1 0 2-.9 2-2V5c0-1.1-.9-2-2-2zM9 17H7v-7h2v7zm4 0h-2V7h2v10zm4 0h-2v-4h2v4z\"/>\n",
              "    </g>\n",
              "</svg>\n",
              "  </button>\n",
              "\n",
              "<style>\n",
              "  .colab-df-quickchart {\n",
              "      --bg-color: #E8F0FE;\n",
              "      --fill-color: #1967D2;\n",
              "      --hover-bg-color: #E2EBFA;\n",
              "      --hover-fill-color: #174EA6;\n",
              "      --disabled-fill-color: #AAA;\n",
              "      --disabled-bg-color: #DDD;\n",
              "  }\n",
              "\n",
              "  [theme=dark] .colab-df-quickchart {\n",
              "      --bg-color: #3B4455;\n",
              "      --fill-color: #D2E3FC;\n",
              "      --hover-bg-color: #434B5C;\n",
              "      --hover-fill-color: #FFFFFF;\n",
              "      --disabled-bg-color: #3B4455;\n",
              "      --disabled-fill-color: #666;\n",
              "  }\n",
              "\n",
              "  .colab-df-quickchart {\n",
              "    background-color: var(--bg-color);\n",
              "    border: none;\n",
              "    border-radius: 50%;\n",
              "    cursor: pointer;\n",
              "    display: none;\n",
              "    fill: var(--fill-color);\n",
              "    height: 32px;\n",
              "    padding: 0;\n",
              "    width: 32px;\n",
              "  }\n",
              "\n",
              "  .colab-df-quickchart:hover {\n",
              "    background-color: var(--hover-bg-color);\n",
              "    box-shadow: 0 1px 2px rgba(60, 64, 67, 0.3), 0 1px 3px 1px rgba(60, 64, 67, 0.15);\n",
              "    fill: var(--button-hover-fill-color);\n",
              "  }\n",
              "\n",
              "  .colab-df-quickchart-complete:disabled,\n",
              "  .colab-df-quickchart-complete:disabled:hover {\n",
              "    background-color: var(--disabled-bg-color);\n",
              "    fill: var(--disabled-fill-color);\n",
              "    box-shadow: none;\n",
              "  }\n",
              "\n",
              "  .colab-df-spinner {\n",
              "    border: 2px solid var(--fill-color);\n",
              "    border-color: transparent;\n",
              "    border-bottom-color: var(--fill-color);\n",
              "    animation:\n",
              "      spin 1s steps(1) infinite;\n",
              "  }\n",
              "\n",
              "  @keyframes spin {\n",
              "    0% {\n",
              "      border-color: transparent;\n",
              "      border-bottom-color: var(--fill-color);\n",
              "      border-left-color: var(--fill-color);\n",
              "    }\n",
              "    20% {\n",
              "      border-color: transparent;\n",
              "      border-left-color: var(--fill-color);\n",
              "      border-top-color: var(--fill-color);\n",
              "    }\n",
              "    30% {\n",
              "      border-color: transparent;\n",
              "      border-left-color: var(--fill-color);\n",
              "      border-top-color: var(--fill-color);\n",
              "      border-right-color: var(--fill-color);\n",
              "    }\n",
              "    40% {\n",
              "      border-color: transparent;\n",
              "      border-right-color: var(--fill-color);\n",
              "      border-top-color: var(--fill-color);\n",
              "    }\n",
              "    60% {\n",
              "      border-color: transparent;\n",
              "      border-right-color: var(--fill-color);\n",
              "    }\n",
              "    80% {\n",
              "      border-color: transparent;\n",
              "      border-right-color: var(--fill-color);\n",
              "      border-bottom-color: var(--fill-color);\n",
              "    }\n",
              "    90% {\n",
              "      border-color: transparent;\n",
              "      border-bottom-color: var(--fill-color);\n",
              "    }\n",
              "  }\n",
              "</style>\n",
              "\n",
              "  <script>\n",
              "    async function quickchart(key) {\n",
              "      const quickchartButtonEl =\n",
              "        document.querySelector('#' + key + ' button');\n",
              "      quickchartButtonEl.disabled = true;  // To prevent multiple clicks.\n",
              "      quickchartButtonEl.classList.add('colab-df-spinner');\n",
              "      try {\n",
              "        const charts = await google.colab.kernel.invokeFunction(\n",
              "            'suggestCharts', [key], {});\n",
              "      } catch (error) {\n",
              "        console.error('Error during call to suggestCharts:', error);\n",
              "      }\n",
              "      quickchartButtonEl.classList.remove('colab-df-spinner');\n",
              "      quickchartButtonEl.classList.add('colab-df-quickchart-complete');\n",
              "    }\n",
              "    (() => {\n",
              "      let quickchartButtonEl =\n",
              "        document.querySelector('#df-3ba6c862-36ee-4a0f-930b-2f3a483a5fd9 button');\n",
              "      quickchartButtonEl.style.display =\n",
              "        google.colab.kernel.accessAllowed ? 'block' : 'none';\n",
              "    })();\n",
              "  </script>\n",
              "</div>\n",
              "    </div>\n",
              "  </div>\n"
            ]
          },
          "metadata": {},
          "execution_count": 9
        }
      ]
    },
    {
      "cell_type": "markdown",
      "source": [
        "## Baseline model accuracy"
      ],
      "metadata": {
        "id": "ORcJZqfPZ_Qm"
      },
      "id": "ORcJZqfPZ_Qm"
    },
    {
      "cell_type": "code",
      "source": [
        "# assume model only returns 0 for all inputs, accuracy is:\n",
        "7273/(7273+342)"
      ],
      "metadata": {
        "colab": {
          "base_uri": "https://localhost:8080/"
        },
        "id": "D4hrQGVjZ6xO",
        "outputId": "507346c9-2eb0-4422-ac0e-1333e874f636"
      },
      "id": "D4hrQGVjZ6xO",
      "execution_count": 10,
      "outputs": [
        {
          "output_type": "execute_result",
          "data": {
            "text/plain": [
              "0.9550886408404465"
            ]
          },
          "metadata": {},
          "execution_count": 10
        }
      ]
    },
    {
      "cell_type": "markdown",
      "source": [
        "## Model 1: Logistic Regression"
      ],
      "metadata": {
        "id": "d5ie3uGBe3ev"
      },
      "id": "d5ie3uGBe3ev"
    },
    {
      "cell_type": "code",
      "source": [
        "one_hot_encoded_data = pd.get_dummies(df_clean, columns = ['employment_type', 'required_experience',\"required_education\",\"industry\",\"function\"])\n",
        "one_hot_encoded_data.columns\n",
        "df_final=one_hot_encoded_data.copy()"
      ],
      "metadata": {
        "id": "NUBs5IPIcw5E"
      },
      "id": "NUBs5IPIcw5E",
      "execution_count": 11,
      "outputs": []
    },
    {
      "cell_type": "code",
      "source": [
        "X= df_final.drop(['fraudulent'],axis=1)\n",
        "y=df_final['fraudulent']\n",
        "\n",
        "# using the train test split function\n",
        "X_train, X_test, y_train, y_test = train_test_split(X,y ,\n",
        "                                   random_state=104,\n",
        "                                   test_size=0.20,\n",
        "                                   shuffle=True)"
      ],
      "metadata": {
        "id": "Hh3yAbmTaBr-"
      },
      "id": "Hh3yAbmTaBr-",
      "execution_count": 12,
      "outputs": []
    },
    {
      "cell_type": "code",
      "source": [
        "X_train.head()"
      ],
      "metadata": {
        "colab": {
          "base_uri": "https://localhost:8080/",
          "height": 273
        },
        "id": "TtktELz4a2TX",
        "outputId": "7e974356-749e-4bd6-bc4c-6ef41c4d61d3"
      },
      "id": "TtktELz4a2TX",
      "execution_count": 13,
      "outputs": [
        {
          "output_type": "execute_result",
          "data": {
            "text/plain": [
              "       has_company_logo  has_questions  employment_type_Contract  \\\n",
              "12776                 1              1                         0   \n",
              "1696                  1              0                         0   \n",
              "53                    0              0                         0   \n",
              "10088                 1              0                         0   \n",
              "911                   1              1                         0   \n",
              "\n",
              "       employment_type_Full-time  employment_type_Other  \\\n",
              "12776                          1                      0   \n",
              "1696                           1                      0   \n",
              "53                             1                      0   \n",
              "10088                          1                      0   \n",
              "911                            1                      0   \n",
              "\n",
              "       employment_type_Part-time  employment_type_Temporary  \\\n",
              "12776                          0                          0   \n",
              "1696                           0                          0   \n",
              "53                             0                          0   \n",
              "10088                          0                          0   \n",
              "911                            0                          0   \n",
              "\n",
              "       required_experience_Associate  required_experience_Director  \\\n",
              "12776                              0                             0   \n",
              "1696                               1                             0   \n",
              "53                                 1                             0   \n",
              "10088                              1                             0   \n",
              "911                                1                             0   \n",
              "\n",
              "       required_experience_Entry level  ...  function_Public Relations  \\\n",
              "12776                                0  ...                          0   \n",
              "1696                                 0  ...                          0   \n",
              "53                                   0  ...                          0   \n",
              "10088                                0  ...                          0   \n",
              "911                                  0  ...                          0   \n",
              "\n",
              "       function_Purchasing  function_Quality Assurance  function_Research  \\\n",
              "12776                    0                           0                  0   \n",
              "1696                     0                           0                  0   \n",
              "53                       0                           0                  0   \n",
              "10088                    0                           0                  0   \n",
              "911                      0                           0                  0   \n",
              "\n",
              "       function_Sales  function_Science  function_Strategy/Planning  \\\n",
              "12776               0                 0                           0   \n",
              "1696                0                 0                           0   \n",
              "53                  0                 0                           0   \n",
              "10088               0                 0                           0   \n",
              "911                 0                 0                           0   \n",
              "\n",
              "       function_Supply Chain  function_Training  function_Writing/Editing  \n",
              "12776                      0                  0                         0  \n",
              "1696                       0                  0                         0  \n",
              "53                         0                  0                         0  \n",
              "10088                      0                  0                         0  \n",
              "911                        0                  0                         0  \n",
              "\n",
              "[5 rows x 193 columns]"
            ],
            "text/html": [
              "\n",
              "  <div id=\"df-907fb9c4-94d3-489f-9d1d-f2ac32861faa\" class=\"colab-df-container\">\n",
              "    <div>\n",
              "<style scoped>\n",
              "    .dataframe tbody tr th:only-of-type {\n",
              "        vertical-align: middle;\n",
              "    }\n",
              "\n",
              "    .dataframe tbody tr th {\n",
              "        vertical-align: top;\n",
              "    }\n",
              "\n",
              "    .dataframe thead th {\n",
              "        text-align: right;\n",
              "    }\n",
              "</style>\n",
              "<table border=\"1\" class=\"dataframe\">\n",
              "  <thead>\n",
              "    <tr style=\"text-align: right;\">\n",
              "      <th></th>\n",
              "      <th>has_company_logo</th>\n",
              "      <th>has_questions</th>\n",
              "      <th>employment_type_Contract</th>\n",
              "      <th>employment_type_Full-time</th>\n",
              "      <th>employment_type_Other</th>\n",
              "      <th>employment_type_Part-time</th>\n",
              "      <th>employment_type_Temporary</th>\n",
              "      <th>required_experience_Associate</th>\n",
              "      <th>required_experience_Director</th>\n",
              "      <th>required_experience_Entry level</th>\n",
              "      <th>...</th>\n",
              "      <th>function_Public Relations</th>\n",
              "      <th>function_Purchasing</th>\n",
              "      <th>function_Quality Assurance</th>\n",
              "      <th>function_Research</th>\n",
              "      <th>function_Sales</th>\n",
              "      <th>function_Science</th>\n",
              "      <th>function_Strategy/Planning</th>\n",
              "      <th>function_Supply Chain</th>\n",
              "      <th>function_Training</th>\n",
              "      <th>function_Writing/Editing</th>\n",
              "    </tr>\n",
              "  </thead>\n",
              "  <tbody>\n",
              "    <tr>\n",
              "      <th>12776</th>\n",
              "      <td>1</td>\n",
              "      <td>1</td>\n",
              "      <td>0</td>\n",
              "      <td>1</td>\n",
              "      <td>0</td>\n",
              "      <td>0</td>\n",
              "      <td>0</td>\n",
              "      <td>0</td>\n",
              "      <td>0</td>\n",
              "      <td>0</td>\n",
              "      <td>...</td>\n",
              "      <td>0</td>\n",
              "      <td>0</td>\n",
              "      <td>0</td>\n",
              "      <td>0</td>\n",
              "      <td>0</td>\n",
              "      <td>0</td>\n",
              "      <td>0</td>\n",
              "      <td>0</td>\n",
              "      <td>0</td>\n",
              "      <td>0</td>\n",
              "    </tr>\n",
              "    <tr>\n",
              "      <th>1696</th>\n",
              "      <td>1</td>\n",
              "      <td>0</td>\n",
              "      <td>0</td>\n",
              "      <td>1</td>\n",
              "      <td>0</td>\n",
              "      <td>0</td>\n",
              "      <td>0</td>\n",
              "      <td>1</td>\n",
              "      <td>0</td>\n",
              "      <td>0</td>\n",
              "      <td>...</td>\n",
              "      <td>0</td>\n",
              "      <td>0</td>\n",
              "      <td>0</td>\n",
              "      <td>0</td>\n",
              "      <td>0</td>\n",
              "      <td>0</td>\n",
              "      <td>0</td>\n",
              "      <td>0</td>\n",
              "      <td>0</td>\n",
              "      <td>0</td>\n",
              "    </tr>\n",
              "    <tr>\n",
              "      <th>53</th>\n",
              "      <td>0</td>\n",
              "      <td>0</td>\n",
              "      <td>0</td>\n",
              "      <td>1</td>\n",
              "      <td>0</td>\n",
              "      <td>0</td>\n",
              "      <td>0</td>\n",
              "      <td>1</td>\n",
              "      <td>0</td>\n",
              "      <td>0</td>\n",
              "      <td>...</td>\n",
              "      <td>0</td>\n",
              "      <td>0</td>\n",
              "      <td>0</td>\n",
              "      <td>0</td>\n",
              "      <td>0</td>\n",
              "      <td>0</td>\n",
              "      <td>0</td>\n",
              "      <td>0</td>\n",
              "      <td>0</td>\n",
              "      <td>0</td>\n",
              "    </tr>\n",
              "    <tr>\n",
              "      <th>10088</th>\n",
              "      <td>1</td>\n",
              "      <td>0</td>\n",
              "      <td>0</td>\n",
              "      <td>1</td>\n",
              "      <td>0</td>\n",
              "      <td>0</td>\n",
              "      <td>0</td>\n",
              "      <td>1</td>\n",
              "      <td>0</td>\n",
              "      <td>0</td>\n",
              "      <td>...</td>\n",
              "      <td>0</td>\n",
              "      <td>0</td>\n",
              "      <td>0</td>\n",
              "      <td>0</td>\n",
              "      <td>0</td>\n",
              "      <td>0</td>\n",
              "      <td>0</td>\n",
              "      <td>0</td>\n",
              "      <td>0</td>\n",
              "      <td>0</td>\n",
              "    </tr>\n",
              "    <tr>\n",
              "      <th>911</th>\n",
              "      <td>1</td>\n",
              "      <td>1</td>\n",
              "      <td>0</td>\n",
              "      <td>1</td>\n",
              "      <td>0</td>\n",
              "      <td>0</td>\n",
              "      <td>0</td>\n",
              "      <td>1</td>\n",
              "      <td>0</td>\n",
              "      <td>0</td>\n",
              "      <td>...</td>\n",
              "      <td>0</td>\n",
              "      <td>0</td>\n",
              "      <td>0</td>\n",
              "      <td>0</td>\n",
              "      <td>0</td>\n",
              "      <td>0</td>\n",
              "      <td>0</td>\n",
              "      <td>0</td>\n",
              "      <td>0</td>\n",
              "      <td>0</td>\n",
              "    </tr>\n",
              "  </tbody>\n",
              "</table>\n",
              "<p>5 rows × 193 columns</p>\n",
              "</div>\n",
              "    <div class=\"colab-df-buttons\">\n",
              "\n",
              "  <div class=\"colab-df-container\">\n",
              "    <button class=\"colab-df-convert\" onclick=\"convertToInteractive('df-907fb9c4-94d3-489f-9d1d-f2ac32861faa')\"\n",
              "            title=\"Convert this dataframe to an interactive table.\"\n",
              "            style=\"display:none;\">\n",
              "\n",
              "  <svg xmlns=\"http://www.w3.org/2000/svg\" height=\"24px\" viewBox=\"0 -960 960 960\">\n",
              "    <path d=\"M120-120v-720h720v720H120Zm60-500h600v-160H180v160Zm220 220h160v-160H400v160Zm0 220h160v-160H400v160ZM180-400h160v-160H180v160Zm440 0h160v-160H620v160ZM180-180h160v-160H180v160Zm440 0h160v-160H620v160Z\"/>\n",
              "  </svg>\n",
              "    </button>\n",
              "\n",
              "  <style>\n",
              "    .colab-df-container {\n",
              "      display:flex;\n",
              "      gap: 12px;\n",
              "    }\n",
              "\n",
              "    .colab-df-convert {\n",
              "      background-color: #E8F0FE;\n",
              "      border: none;\n",
              "      border-radius: 50%;\n",
              "      cursor: pointer;\n",
              "      display: none;\n",
              "      fill: #1967D2;\n",
              "      height: 32px;\n",
              "      padding: 0 0 0 0;\n",
              "      width: 32px;\n",
              "    }\n",
              "\n",
              "    .colab-df-convert:hover {\n",
              "      background-color: #E2EBFA;\n",
              "      box-shadow: 0px 1px 2px rgba(60, 64, 67, 0.3), 0px 1px 3px 1px rgba(60, 64, 67, 0.15);\n",
              "      fill: #174EA6;\n",
              "    }\n",
              "\n",
              "    .colab-df-buttons div {\n",
              "      margin-bottom: 4px;\n",
              "    }\n",
              "\n",
              "    [theme=dark] .colab-df-convert {\n",
              "      background-color: #3B4455;\n",
              "      fill: #D2E3FC;\n",
              "    }\n",
              "\n",
              "    [theme=dark] .colab-df-convert:hover {\n",
              "      background-color: #434B5C;\n",
              "      box-shadow: 0px 1px 3px 1px rgba(0, 0, 0, 0.15);\n",
              "      filter: drop-shadow(0px 1px 2px rgba(0, 0, 0, 0.3));\n",
              "      fill: #FFFFFF;\n",
              "    }\n",
              "  </style>\n",
              "\n",
              "    <script>\n",
              "      const buttonEl =\n",
              "        document.querySelector('#df-907fb9c4-94d3-489f-9d1d-f2ac32861faa button.colab-df-convert');\n",
              "      buttonEl.style.display =\n",
              "        google.colab.kernel.accessAllowed ? 'block' : 'none';\n",
              "\n",
              "      async function convertToInteractive(key) {\n",
              "        const element = document.querySelector('#df-907fb9c4-94d3-489f-9d1d-f2ac32861faa');\n",
              "        const dataTable =\n",
              "          await google.colab.kernel.invokeFunction('convertToInteractive',\n",
              "                                                    [key], {});\n",
              "        if (!dataTable) return;\n",
              "\n",
              "        const docLinkHtml = 'Like what you see? Visit the ' +\n",
              "          '<a target=\"_blank\" href=https://colab.research.google.com/notebooks/data_table.ipynb>data table notebook</a>'\n",
              "          + ' to learn more about interactive tables.';\n",
              "        element.innerHTML = '';\n",
              "        dataTable['output_type'] = 'display_data';\n",
              "        await google.colab.output.renderOutput(dataTable, element);\n",
              "        const docLink = document.createElement('div');\n",
              "        docLink.innerHTML = docLinkHtml;\n",
              "        element.appendChild(docLink);\n",
              "      }\n",
              "    </script>\n",
              "  </div>\n",
              "\n",
              "\n",
              "<div id=\"df-869f4a47-c22c-4700-9e51-e3970e237b4c\">\n",
              "  <button class=\"colab-df-quickchart\" onclick=\"quickchart('df-869f4a47-c22c-4700-9e51-e3970e237b4c')\"\n",
              "            title=\"Suggest charts\"\n",
              "            style=\"display:none;\">\n",
              "\n",
              "<svg xmlns=\"http://www.w3.org/2000/svg\" height=\"24px\"viewBox=\"0 0 24 24\"\n",
              "     width=\"24px\">\n",
              "    <g>\n",
              "        <path d=\"M19 3H5c-1.1 0-2 .9-2 2v14c0 1.1.9 2 2 2h14c1.1 0 2-.9 2-2V5c0-1.1-.9-2-2-2zM9 17H7v-7h2v7zm4 0h-2V7h2v10zm4 0h-2v-4h2v4z\"/>\n",
              "    </g>\n",
              "</svg>\n",
              "  </button>\n",
              "\n",
              "<style>\n",
              "  .colab-df-quickchart {\n",
              "      --bg-color: #E8F0FE;\n",
              "      --fill-color: #1967D2;\n",
              "      --hover-bg-color: #E2EBFA;\n",
              "      --hover-fill-color: #174EA6;\n",
              "      --disabled-fill-color: #AAA;\n",
              "      --disabled-bg-color: #DDD;\n",
              "  }\n",
              "\n",
              "  [theme=dark] .colab-df-quickchart {\n",
              "      --bg-color: #3B4455;\n",
              "      --fill-color: #D2E3FC;\n",
              "      --hover-bg-color: #434B5C;\n",
              "      --hover-fill-color: #FFFFFF;\n",
              "      --disabled-bg-color: #3B4455;\n",
              "      --disabled-fill-color: #666;\n",
              "  }\n",
              "\n",
              "  .colab-df-quickchart {\n",
              "    background-color: var(--bg-color);\n",
              "    border: none;\n",
              "    border-radius: 50%;\n",
              "    cursor: pointer;\n",
              "    display: none;\n",
              "    fill: var(--fill-color);\n",
              "    height: 32px;\n",
              "    padding: 0;\n",
              "    width: 32px;\n",
              "  }\n",
              "\n",
              "  .colab-df-quickchart:hover {\n",
              "    background-color: var(--hover-bg-color);\n",
              "    box-shadow: 0 1px 2px rgba(60, 64, 67, 0.3), 0 1px 3px 1px rgba(60, 64, 67, 0.15);\n",
              "    fill: var(--button-hover-fill-color);\n",
              "  }\n",
              "\n",
              "  .colab-df-quickchart-complete:disabled,\n",
              "  .colab-df-quickchart-complete:disabled:hover {\n",
              "    background-color: var(--disabled-bg-color);\n",
              "    fill: var(--disabled-fill-color);\n",
              "    box-shadow: none;\n",
              "  }\n",
              "\n",
              "  .colab-df-spinner {\n",
              "    border: 2px solid var(--fill-color);\n",
              "    border-color: transparent;\n",
              "    border-bottom-color: var(--fill-color);\n",
              "    animation:\n",
              "      spin 1s steps(1) infinite;\n",
              "  }\n",
              "\n",
              "  @keyframes spin {\n",
              "    0% {\n",
              "      border-color: transparent;\n",
              "      border-bottom-color: var(--fill-color);\n",
              "      border-left-color: var(--fill-color);\n",
              "    }\n",
              "    20% {\n",
              "      border-color: transparent;\n",
              "      border-left-color: var(--fill-color);\n",
              "      border-top-color: var(--fill-color);\n",
              "    }\n",
              "    30% {\n",
              "      border-color: transparent;\n",
              "      border-left-color: var(--fill-color);\n",
              "      border-top-color: var(--fill-color);\n",
              "      border-right-color: var(--fill-color);\n",
              "    }\n",
              "    40% {\n",
              "      border-color: transparent;\n",
              "      border-right-color: var(--fill-color);\n",
              "      border-top-color: var(--fill-color);\n",
              "    }\n",
              "    60% {\n",
              "      border-color: transparent;\n",
              "      border-right-color: var(--fill-color);\n",
              "    }\n",
              "    80% {\n",
              "      border-color: transparent;\n",
              "      border-right-color: var(--fill-color);\n",
              "      border-bottom-color: var(--fill-color);\n",
              "    }\n",
              "    90% {\n",
              "      border-color: transparent;\n",
              "      border-bottom-color: var(--fill-color);\n",
              "    }\n",
              "  }\n",
              "</style>\n",
              "\n",
              "  <script>\n",
              "    async function quickchart(key) {\n",
              "      const quickchartButtonEl =\n",
              "        document.querySelector('#' + key + ' button');\n",
              "      quickchartButtonEl.disabled = true;  // To prevent multiple clicks.\n",
              "      quickchartButtonEl.classList.add('colab-df-spinner');\n",
              "      try {\n",
              "        const charts = await google.colab.kernel.invokeFunction(\n",
              "            'suggestCharts', [key], {});\n",
              "      } catch (error) {\n",
              "        console.error('Error during call to suggestCharts:', error);\n",
              "      }\n",
              "      quickchartButtonEl.classList.remove('colab-df-spinner');\n",
              "      quickchartButtonEl.classList.add('colab-df-quickchart-complete');\n",
              "    }\n",
              "    (() => {\n",
              "      let quickchartButtonEl =\n",
              "        document.querySelector('#df-869f4a47-c22c-4700-9e51-e3970e237b4c button');\n",
              "      quickchartButtonEl.style.display =\n",
              "        google.colab.kernel.accessAllowed ? 'block' : 'none';\n",
              "    })();\n",
              "  </script>\n",
              "</div>\n",
              "    </div>\n",
              "  </div>\n"
            ]
          },
          "metadata": {},
          "execution_count": 13
        }
      ]
    },
    {
      "cell_type": "code",
      "source": [
        "logreg =  LogisticRegression(solver='liblinear')\n",
        "# fit the model with data\n",
        "logreg.fit(X_train,y_train)\n",
        "\n",
        "# predicting\n",
        "y_pred=logreg.predict(X_test)\n",
        "print(\"Accuracy:\",metrics.accuracy_score(y_test, y_pred))\n",
        "print(\"Precision:\",metrics.precision_score(y_test, y_pred))\n",
        "print(\"Recall:\",metrics.recall_score(y_test, y_pred))"
      ],
      "metadata": {
        "colab": {
          "base_uri": "https://localhost:8080/"
        },
        "id": "iCVFgxtNayDp",
        "outputId": "c2a47904-220b-4baf-bec8-7a89b0e1590a"
      },
      "id": "iCVFgxtNayDp",
      "execution_count": 14,
      "outputs": [
        {
          "output_type": "stream",
          "name": "stdout",
          "text": [
            "Accuracy: 0.9606040709126723\n",
            "Precision: 0.7857142857142857\n",
            "Recall: 0.16176470588235295\n"
          ]
        }
      ]
    },
    {
      "cell_type": "markdown",
      "source": [],
      "metadata": {
        "id": "a6CdOtq1fh7M"
      },
      "id": "a6CdOtq1fh7M"
    },
    {
      "cell_type": "markdown",
      "source": [
        "## Model 2: Logistic Model on Balanced Data"
      ],
      "metadata": {
        "id": "_VOu3aKQfuTI"
      },
      "id": "_VOu3aKQfuTI"
    },
    {
      "cell_type": "code",
      "source": [
        "#using SMOTE to handle imbalanced data\n",
        "sm = SMOTE(random_state=0)\n",
        "X_resampled, y_resampled = sm.fit_resample(X, y)\n",
        "y_resampled.value_counts()"
      ],
      "metadata": {
        "colab": {
          "base_uri": "https://localhost:8080/"
        },
        "id": "IKc6Dnkwfzik",
        "outputId": "e69e1b11-5fc3-43c1-f291-5854011633c7"
      },
      "id": "IKc6Dnkwfzik",
      "execution_count": 15,
      "outputs": [
        {
          "output_type": "execute_result",
          "data": {
            "text/plain": [
              "0    7273\n",
              "1    7273\n",
              "Name: fraudulent, dtype: int64"
            ]
          },
          "metadata": {},
          "execution_count": 15
        }
      ]
    },
    {
      "cell_type": "code",
      "source": [
        "# using the train test split function on the resampled data\n",
        "X_train_rs, X_test_rs, y_train_rs, y_test_rs = train_test_split(X_resampled,y_resampled,\n",
        "                                   random_state=104,\n",
        "                                   test_size=0.20,\n",
        "                                   shuffle=True)"
      ],
      "metadata": {
        "id": "Mw6XmLpVf97z"
      },
      "id": "Mw6XmLpVf97z",
      "execution_count": 16,
      "outputs": []
    },
    {
      "cell_type": "code",
      "source": [
        "#logistic regression on resampled data\n",
        "logreg =  LogisticRegression(solver='liblinear')\n",
        "# fit the model with data\n",
        "logreg.fit(X_train_rs,y_train_rs)\n",
        "\n",
        "# predicting\n",
        "y_pred=logreg.predict(X_test_rs)\n",
        "print(\"Accuracy:\",metrics.accuracy_score(y_test_rs, y_pred))\n",
        "\n",
        "print(\"Precision:\",metrics.precision_score(y_test_rs, y_pred))\n",
        "\n",
        "print(\"Recall:\",metrics.recall_score(y_test_rs, y_pred))"
      ],
      "metadata": {
        "colab": {
          "base_uri": "https://localhost:8080/"
        },
        "id": "Dw338F_1gFDo",
        "outputId": "324fdef6-e289-4fa5-8fc8-f6ecab53ba5f"
      },
      "id": "Dw338F_1gFDo",
      "execution_count": 17,
      "outputs": [
        {
          "output_type": "stream",
          "name": "stdout",
          "text": [
            "Accuracy: 0.9120274914089347\n",
            "Precision: 0.898453261600538\n",
            "Recall: 0.9271339347675226\n"
          ]
        }
      ]
    },
    {
      "cell_type": "markdown",
      "source": [
        "## Model 3: Random Forest on Balanced Data"
      ],
      "metadata": {
        "id": "DFX43wkLgsbj"
      },
      "id": "DFX43wkLgsbj"
    },
    {
      "cell_type": "code",
      "source": [
        "rf = RandomForestClassifier()\n",
        "#random search\n",
        "from scipy.stats import randint\n",
        "# random search cv\n",
        "rs_space={'max_depth':list(np.arange(10, 100, step=10)) + [None],\n",
        "              'n_estimators':np.arange(100, 500, step=100),\n",
        "              'max_features':randint(1,7),\n",
        "              'criterion':['gini','entropy'],\n",
        "              'min_samples_leaf':randint(1,4),\n",
        "              'min_samples_split':np.arange(2, 10, step=2)\n",
        "          }\n",
        "\n",
        "rf = RandomForestClassifier()\n",
        "\n",
        "rf_random = RandomizedSearchCV(rf, rs_space, n_iter=500, scoring='accuracy', n_jobs=-1, cv=3)\n",
        "model_random = rf_random.fit(X_train_rs,y_train_rs)\n",
        "\n",
        "# random random search results\n",
        "print('Best random search hyperparameters are: '+str(model_random.best_params_))\n",
        "print('Best random search score is: '+str(model_random.best_score_))"
      ],
      "metadata": {
        "colab": {
          "base_uri": "https://localhost:8080/"
        },
        "id": "TUxuY7qOa6r4",
        "outputId": "3b64791f-e358-47c3-e216-af715cd4be6a"
      },
      "id": "TUxuY7qOa6r4",
      "execution_count": 18,
      "outputs": [
        {
          "output_type": "stream",
          "name": "stdout",
          "text": [
            "Best random search hyperparameters are: {'criterion': 'entropy', 'max_depth': 60, 'max_features': 1, 'min_samples_leaf': 1, 'min_samples_split': 2, 'n_estimators': 100}\n",
            "Best random search score is: 0.9689759101420338\n"
          ]
        }
      ]
    },
    {
      "cell_type": "code",
      "source": [
        "#rf model using random search hyperparameters\n",
        "random_rf = RandomForestClassifier(criterion='entropy', max_depth=60, max_features=1, min_samples_leaf=1, min_samples_split=2, n_estimators=100)\n",
        "random_rf.fit(X_train_rs, y_train_rs)\n",
        "y_pred = random_rf.predict(X_test_rs)\n",
        "accuracy = metrics.accuracy_score(y_test_rs, y_pred)\n",
        "precision = metrics.precision_score(y_test_rs, y_pred)\n",
        "recall = metrics.recall_score(y_test_rs, y_pred)\n",
        "print(\"Accuracy:\", accuracy)\n",
        "print(\"Precision:\", precision)\n",
        "print(\"Recall:\", recall)"
      ],
      "metadata": {
        "colab": {
          "base_uri": "https://localhost:8080/"
        },
        "id": "3vbYRuUMg-7G",
        "outputId": "50089979-98dd-4bae-9834-a6e1844ae76c"
      },
      "id": "3vbYRuUMg-7G",
      "execution_count": 20,
      "outputs": [
        {
          "output_type": "stream",
          "name": "stdout",
          "text": [
            "Accuracy: 0.9666666666666667\n",
            "Precision: 0.9699300699300699\n",
            "Recall: 0.9625260235947258\n"
          ]
        }
      ]
    },
    {
      "cell_type": "code",
      "source": [
        "# grid search cv\n",
        "grid_space={'max_depth':[3,5,10,None],\n",
        "              'n_estimators':[10,100,200],\n",
        "              'max_features':[1,3,5,7],\n",
        "              'min_samples_leaf':[1,2,3],\n",
        "              'min_samples_split':[1,2,3]\n",
        "           }\n",
        "\n",
        "grid = GridSearchCV(rf,param_grid=grid_space,cv=3,scoring='accuracy')\n",
        "model_grid = grid.fit(X_train_rs,y_train_rs)\n",
        "\n",
        "# grid search results\n",
        "print('Best grid search hyperparameters are: '+str(model_grid.best_params_))\n",
        "print('Best grid search score is: '+str(model_grid.best_score_))"
      ],
      "metadata": {
        "colab": {
          "base_uri": "https://localhost:8080/"
        },
        "id": "UxjZHabqg3SZ",
        "outputId": "ecc1261f-9a00-4c71-bc8f-bb9d32b8e61d"
      },
      "id": "UxjZHabqg3SZ",
      "execution_count": 21,
      "outputs": [
        {
          "output_type": "stream",
          "name": "stdout",
          "text": [
            "Best grid search hyperparameters are: {'max_depth': None, 'max_features': 1, 'min_samples_leaf': 1, 'min_samples_split': 3, 'n_estimators': 10}\n",
            "Best grid search score is: 0.9685461796621303\n"
          ]
        }
      ]
    },
    {
      "cell_type": "code",
      "source": [
        "#rf model using grid search hyperparameters\n",
        "grid_rf = RandomForestClassifier(max_depth=None, max_features=1, min_samples_leaf=1, min_samples_split=3, n_estimators=100)\n",
        "grid_rf.fit(X_train_rs, y_train_rs)\n",
        "y_pred = grid_rf.predict(X_test_rs)\n",
        "accuracy = metrics.accuracy_score(y_test_rs, y_pred)\n",
        "precision = metrics.precision_score(y_test_rs, y_pred)\n",
        "recall = metrics.recall_score(y_test_rs, y_pred)\n",
        "print(\"Accuracy:\", accuracy)\n",
        "print(\"Precision:\", precision)\n",
        "print(\"Recall:\", recall)"
      ],
      "metadata": {
        "colab": {
          "base_uri": "https://localhost:8080/"
        },
        "id": "bkVi2rw1hAd1",
        "outputId": "1b92c002-fa05-4fbd-844b-a9d2a07980bd"
      },
      "id": "bkVi2rw1hAd1",
      "execution_count": 22,
      "outputs": [
        {
          "output_type": "stream",
          "name": "stdout",
          "text": [
            "Accuracy: 0.9663230240549828\n",
            "Precision: 0.9699090272918125\n",
            "Recall: 0.9618320610687023\n"
          ]
        }
      ]
    },
    {
      "cell_type": "markdown",
      "source": [
        "A few of the text variables are kept for additional text analysis:\n",
        "\n",
        "*   title: The job title or position being advertised.\n",
        "*   location: The location or place where the job is located.\n",
        "*   department: The department or division within the company related to the job.\n",
        "*   company_profile: Information about the company, possibly including its history, mission, and culture.\n",
        "*   description: A detailed description of the job, its responsibilities, and requirements.\n",
        "*   requirements: The qualifications, skills, and experience required for the job.\n",
        "*   benefits: The benefits or perks associated with the job, such as health insurance, retirement plans, or other incentives.\n",
        "*   employment_type: The type of employment, such as full-time, part-time, contract, or temporary.\n",
        "*   required_experience: The level of experience (e.g., entry-level, mid-level, senior) expected for the job.\n",
        "required_education: The minimum educational qualifications or degrees required for the job.\n",
        "*   industry: The industry or sector to which the company belongs (e.g., technology, healthcare, finance).\n",
        "*   function: The specific function or role of the job within the company (e.g., marketing, engineering, sales).\n",
        "*   fraudulent: A binary variable indicating whether the job posting is fraudulent (1) or legitimate (0).\n",
        "\n",
        "Missing values can cause issues when you're working with the data, such as errors during analysis or when training machine learning models. Filling in missing values with blank spaces here can help mitigate these issues. The data is then subsetted into two based on whether the job posting is potentially fraudulent or legitimate."
      ],
      "metadata": {
        "id": "2BkpAKnakcg-"
      },
      "id": "2BkpAKnakcg-"
    },
    {
      "cell_type": "code",
      "execution_count": 23,
      "id": "74e700f5",
      "metadata": {
        "id": "74e700f5"
      },
      "outputs": [],
      "source": [
        "df_text = df[['title', 'location', 'department',\n",
        "       'company_profile', 'description', 'requirements', 'benefits',\n",
        "       'employment_type', 'required_experience', 'required_education', 'industry', 'function', 'fraudulent']]\n",
        "df_text = df_text.fillna(' ')"
      ]
    },
    {
      "cell_type": "code",
      "execution_count": 24,
      "id": "4b56bc0c",
      "metadata": {
        "id": "4b56bc0c"
      },
      "outputs": [],
      "source": [
        "def preprocessor(text):\n",
        "    text = re.sub('<[^>]*>', '', text)\n",
        "    emoticons = re.findall('(?::|;|=)(?:-)?(?:\\)|\\(|D|P)',\n",
        "                           text)\n",
        "    text = (re.sub('[\\W]+', ' ', text.lower()) +\n",
        "            ' '.join(emoticons).replace('-', ''))\n",
        "    return text\n",
        "\n",
        "columns_to_process = ['title', 'location', 'department',\n",
        "       'company_profile', 'description', 'requirements', 'benefits',\n",
        "       'employment_type', 'required_experience', 'required_education', 'industry', 'function']\n",
        "for column in columns_to_process:\n",
        "    df_text[column] = df_text[column].apply(preprocessor)\n",
        "\n",
        "df_text_fraud = df_text.loc[df_text.fraudulent == 1]\n",
        "df_text_real = df_text.loc[df_text.fraudulent == 0]"
      ]
    },
    {
      "cell_type": "code",
      "execution_count": 25,
      "id": "bfbf6813",
      "metadata": {
        "colab": {
          "base_uri": "https://localhost:8080/"
        },
        "id": "bfbf6813",
        "outputId": "9d8d2cde-c60e-4ba4-d458-f838ecf3f318"
      },
      "outputs": [
        {
          "output_type": "stream",
          "name": "stderr",
          "text": [
            "[nltk_data] Downloading package stopwords to /root/nltk_data...\n",
            "[nltk_data]   Unzipping corpora/stopwords.zip.\n"
          ]
        }
      ],
      "source": [
        "nltk.download('stopwords')\n",
        "\n",
        "# Define a list of stop words\n",
        "stop_words = set(stopwords.words('english'))\n",
        "stop_words.add('level') # adding another word that appears frequently but doesn't add much value in analysis"
      ]
    },
    {
      "cell_type": "code",
      "execution_count": 26,
      "id": "c8f2425c",
      "metadata": {
        "id": "c8f2425c"
      },
      "outputs": [],
      "source": [
        "def get_top_words(column, n=10):\n",
        "    if column.dtype == 'object':\n",
        "        words = [word for word in itertools.chain(*column.str.split()) if word.lower() not in stop_words]\n",
        "        word_counts = Counter(words)\n",
        "        top_words = dict(word_counts.most_common(n))\n",
        "        return top_words\n",
        "    else:\n",
        "        return {}\n",
        "\n",
        "# Get the top words for each category\n",
        "top_words_fraud = {}\n",
        "top_words_real = {}\n",
        "\n",
        "for column in df_text_fraud.columns:\n",
        "    top_words_fraud[column] = get_top_words(df_text_fraud[column])\n",
        "\n",
        "for column in df_text_real.columns:\n",
        "    top_words_real[column] = get_top_words(df_text_real[column])"
      ]
    },
    {
      "cell_type": "markdown",
      "source": [
        "The text data is then processed from two categories of job postings (fraudulent and legitimate) to identify the most common words in each category. This information can be useful as we will be able to understand the key terms used in each category or identifying potential indicators of fraudulent job postings."
      ],
      "metadata": {
        "id": "By3p-_Xx6l5u"
      },
      "id": "By3p-_Xx6l5u"
    },
    {
      "cell_type": "markdown",
      "id": "c58afba2",
      "metadata": {
        "id": "c58afba2"
      },
      "source": [
        "## Word Frequency"
      ]
    },
    {
      "cell_type": "code",
      "execution_count": 27,
      "id": "d93ebd94",
      "metadata": {
        "colab": {
          "base_uri": "https://localhost:8080/",
          "height": 968
        },
        "id": "d93ebd94",
        "outputId": "05be91c1-14e7-40bc-ab26-fcb434bac75c"
      },
      "outputs": [
        {
          "output_type": "display_data",
          "data": {
            "text/plain": [
              "<Figure size 1500x1500 with 6 Axes>"
            ],
            "image/png": "[encoded data removed]"
          },
          "metadata": {}
        }
      ],
      "source": [
        "# Create subplots for each category (3 in a row)\n",
        "top_words_real = {key: value for key, value in top_words_real.items() if key not in ['fraudulent', 'location',\n",
        "                                                                                     'company_profile', 'benefits',\n",
        "                                                                                    'employment_type', 'description',\n",
        "                                                                                    'requirements']}\n",
        "categories = list(top_words_real.keys())\n",
        "num_categories = len(categories)\n",
        "num_plots_per_row = 3\n",
        "\n",
        "fig, axes = plt.subplots(\n",
        "    num_categories // num_plots_per_row + 1, num_plots_per_row,\n",
        "    figsize=(15, 5 * (num_categories // num_plots_per_row + 1)))\n",
        "\n",
        "for i, (category, values) in enumerate(top_words_real.items()):\n",
        "    words = list(values.keys())\n",
        "    counts = list(values.values())\n",
        "\n",
        "    ax = axes[i // num_plots_per_row, i % num_plots_per_row]\n",
        "    ax.bar(words, counts, color='skyblue')\n",
        "    ax.set_xlabel('Words')\n",
        "    ax.set_ylabel('Count')\n",
        "    ax.set_title(f'Top Words in \"{category}\" Category')\n",
        "\n",
        "    # Rotate the x-axis labels to 45 degrees\n",
        "    ax.tick_params(axis='x', rotation=45)\n",
        "\n",
        "# Remove any empty subplots\n",
        "for i in range(len(categories), len(axes.ravel())):\n",
        "    fig.delaxes(axes.ravel()[i])\n",
        "\n",
        "plt.tight_layout()\n",
        "plt.show()"
      ]
    },
    {
      "cell_type": "code",
      "execution_count": 28,
      "id": "989128aa",
      "metadata": {
        "colab": {
          "base_uri": "https://localhost:8080/",
          "height": 969
        },
        "id": "989128aa",
        "outputId": "bcab3d6c-e816-4346-de7b-8954d62d7e57"
      },
      "outputs": [
        {
          "output_type": "display_data",
          "data": {
            "text/plain": [
              "<Figure size 1500x1500 with 6 Axes>"
            ],
            "image/png": "[encoded data removed]"
          },
          "metadata": {}
        }
      ],
      "source": [
        "# Create subplots for each category (3 in a row)\n",
        "top_words_fraud = {key: value for key, value in top_words_fraud.items() if key not in ['fraudulent', 'location',\n",
        "                                                                                     'company_profile', 'benefits',\n",
        "                                                                                    'employment_type', 'description',\n",
        "                                                                                    'requirements']}\n",
        "categories = list(top_words_fraud.keys())\n",
        "num_categories = len(categories)\n",
        "num_plots_per_row = 3\n",
        "\n",
        "fig, axes = plt.subplots(\n",
        "    num_categories // num_plots_per_row + 1, num_plots_per_row,\n",
        "    figsize=(15, 5 * (num_categories // num_plots_per_row + 1)))\n",
        "\n",
        "for i, (category, values) in enumerate(top_words_fraud.items()):\n",
        "    words = list(values.keys())\n",
        "    counts = list(values.values())\n",
        "\n",
        "    ax = axes[i // num_plots_per_row, i % num_plots_per_row]\n",
        "    ax.bar(words, counts, color='#FFA07A')\n",
        "    ax.set_xlabel('Words')\n",
        "    ax.set_ylabel('Count')\n",
        "    ax.set_title(f'Top Words in \"{category}\" Category')\n",
        "\n",
        "    # Rotate the x-axis labels to 45 degrees\n",
        "    ax.tick_params(axis='x', rotation=45)\n",
        "\n",
        "# Remove any empty subplots\n",
        "for i in range(len(categories), len(axes.ravel())):\n",
        "    fig.delaxes(axes.ravel()[i])\n",
        "\n",
        "plt.tight_layout()\n",
        "plt.show()"
      ]
    },
    {
      "cell_type": "markdown",
      "source": [
        "Potentially fraudulent job postings often contain terms associated with low-skill or entry-level positions, while legitimate job postings have a more diverse range of experience requirements.\n",
        "\n",
        "The industries and functions associated with potentially fraudulent job postings are more varied, such as 'oil,' 'energy,' 'services,' 'health,' and 'accounting', whereas legitimate job postings are concentrated in specific industries and functions such as 'services,' 'information,' 'technology,' and 'computer'.\n",
        "\n",
        "Specific words in job titles, departments, and educational requirements can help distinguish potentially fraudulent postings from legitimate ones. For instance, fraudulent job postings have most of the required eduation as in high school, while legitimate postings a degreed education."
      ],
      "metadata": {
        "id": "GHRLrgai_TVG"
      },
      "id": "GHRLrgai_TVG"
    },
    {
      "cell_type": "markdown",
      "id": "8c83f3b4",
      "metadata": {
        "id": "8c83f3b4"
      },
      "source": [
        "## Embeddings"
      ]
    },
    {
      "cell_type": "code",
      "execution_count": 29,
      "id": "264d2754",
      "metadata": {
        "id": "264d2754"
      },
      "outputs": [],
      "source": [
        "df_text['text_analysis'] = df_text['company_profile'] + ' ' + \\\n",
        "                           df_text['benefits'] + ' ' + \\\n",
        "                           df_text['description'] + ' ' + \\\n",
        "                           df_text['requirements']\n",
        "df_text_analysis = df_text[[ 'text_analysis','fraudulent', ]]"
      ]
    },
    {
      "cell_type": "code",
      "execution_count": 30,
      "id": "7b0565e2",
      "metadata": {
        "scrolled": true,
        "colab": {
          "base_uri": "https://localhost:8080/",
          "height": 290
        },
        "id": "7b0565e2",
        "outputId": "21b5d212-1194-4759-cbc6-da4f917c5119"
      },
      "outputs": [
        {
          "output_type": "display_data",
          "data": {
            "text/plain": [
              "<Figure size 300x300 with 1 Axes>"
            ],
            "image/png": "[encoded data removed]"
          },
          "metadata": {}
        }
      ],
      "source": [
        "# Count the values in the \"fraudulent\" column\n",
        "value_counts = df_text_analysis['fraudulent'].value_counts(dropna=False)\n",
        "\n",
        "plt.figure(figsize=(3, 3))\n",
        "plt.pie(value_counts, labels=value_counts.index, autopct='%1.1f%%', startangle=140)\n",
        "plt.title(\"Distribution of 'fraudulent' Column\")\n",
        "plt.show()\n"
      ]
    },
    {
      "cell_type": "markdown",
      "id": "487aaa7b",
      "metadata": {
        "id": "487aaa7b"
      },
      "source": [
        "## Dealing with data imbalance with Oversampling + RF"
      ]
    },
    {
      "cell_type": "code",
      "execution_count": 31,
      "id": "7f21bda2",
      "metadata": {
        "colab": {
          "base_uri": "https://localhost:8080/"
        },
        "id": "7f21bda2",
        "outputId": "bf8862a7-177d-43c3-d86f-57d8dece0462"
      },
      "outputs": [
        {
          "output_type": "stream",
          "name": "stdout",
          "text": [
            "              precision    recall  f1-score   support\n",
            "\n",
            "           0       0.98      1.00      0.99      3395\n",
            "           1       0.99      0.63      0.77       181\n",
            "\n",
            "    accuracy                           0.98      3576\n",
            "   macro avg       0.99      0.81      0.88      3576\n",
            "weighted avg       0.98      0.98      0.98      3576\n",
            "\n"
          ]
        }
      ],
      "source": [
        "# Split the data into features and labels\n",
        "X = df_text_analysis['text_analysis']\n",
        "y = df_text_analysis['fraudulent']\n",
        "\n",
        "# Split the data into training and testing sets\n",
        "X_train, X_test, y_train, y_test = train_test_split(X, y, test_size=0.2, random_state=42)\n",
        "\n",
        "# Text data preprocessing - you can customize this as needed\n",
        "tfidf_vectorizer = TfidfVectorizer(max_features=5000)\n",
        "X_train_tfidf = tfidf_vectorizer.fit_transform(X_train)\n",
        "X_test_tfidf = tfidf_vectorizer.transform(X_test)\n",
        "\n",
        "# Resample the training data using SMOTE\n",
        "smote = SMOTE(sampling_strategy='auto', random_state=42)\n",
        "X_train_resampled, y_train_resampled = smote.fit_resample(X_train_tfidf, y_train)\n",
        "\n",
        "# Train a classification model (Random Forest in this example)\n",
        "clf = RandomForestClassifier(random_state=42)\n",
        "clf.fit(X_train_resampled, y_train_resampled)\n",
        "\n",
        "# Make predictions on the test set\n",
        "y_pred = clf.predict(X_test_tfidf)\n",
        "\n",
        "# Evaluate the model\n",
        "print(classification_report(y_test, y_pred))\n"
      ]
    },
    {
      "cell_type": "markdown",
      "source": [
        "The text data is preprocessed using TF-IDF (Term Frequency-Inverse Document Frequency) vectorization. We created a TF-IDF vectorizer with a maximum of 5000 features and it converts text data into numerical vectors, where each word's importance is weighted based on its frequency and rarity.\n",
        "\n",
        "To address the class imbalance problem, we applied Synthetic Minority Over-sampling Technique (SMOTE), which generates synthetic examples of the minority class (fraudulent job postings) to balance the class distribution.\n",
        "\n",
        "Random Forest algorithm is chosen for its ability to handle both numerical and text data effectively.\n",
        "\n",
        "The results show a high level of accuracy and effectiveness in identifying legitimate job postings, but there is some room for improvement in detecting potentially fraudulent job postings, particularly in terms of recall. A low recall score means it's not as effective at identifying all potentially fraudulent postings. However, it has high precision, which means that when it predicts a job posting as potentially fraudulent, it's usually correct."
      ],
      "metadata": {
        "id": "ZFiLfo6RK0Q4"
      },
      "id": "ZFiLfo6RK0Q4"
    },
    {
      "cell_type": "markdown",
      "id": "3ddc8bef",
      "metadata": {
        "id": "3ddc8bef"
      },
      "source": [
        "## Dealing with data imbalance with Undersampling + NN"
      ]
    },
    {
      "cell_type": "markdown",
      "source": [
        "An alternative would be dealing with data imbalance with undersampling the majority class."
      ],
      "metadata": {
        "id": "dVT8DuHXMonP"
      },
      "id": "dVT8DuHXMonP"
    },
    {
      "cell_type": "code",
      "execution_count": 32,
      "id": "8e1d4b82",
      "metadata": {
        "colab": {
          "base_uri": "https://localhost:8080/"
        },
        "id": "8e1d4b82",
        "outputId": "c5ef9384-c611-495c-839f-eb444829b59c"
      },
      "outputs": [
        {
          "output_type": "execute_result",
          "data": {
            "text/plain": [
              "0    866\n",
              "1    866\n",
              "Name: fraudulent, dtype: int64"
            ]
          },
          "metadata": {},
          "execution_count": 32
        }
      ],
      "source": [
        "import pandas as pd\n",
        "from sklearn.utils import resample\n",
        "\n",
        "# Separate the data into two DataFrames based on the class\n",
        "df_majority = df_text_analysis[df_text_analysis['fraudulent'] == 0]\n",
        "df_minority = df_text_analysis[df_text_analysis['fraudulent'] == 1]\n",
        "\n",
        "# Undersample the majority class to match the count of the minority class\n",
        "n_samples = len(df_minority)\n",
        "df_majority_undersampled = resample(df_majority, n_samples=n_samples, replace=False, random_state=42)\n",
        "\n",
        "# Create a new DataFrame with balanced classes\n",
        "df_text_analysis_undersample = pd.concat([df_majority_undersampled, df_minority])\n",
        "\n",
        "# Verify the class distribution\n",
        "df_text_analysis_undersample['fraudulent'].value_counts()"
      ]
    },
    {
      "cell_type": "code",
      "execution_count": 33,
      "id": "a8c660f5",
      "metadata": {
        "scrolled": true,
        "id": "a8c660f5"
      },
      "outputs": [],
      "source": [
        "# define target\n",
        "target = df_text_analysis_undersample.copy().pop('fraudulent') # .pop removes sentiment col from df\n",
        "# target and review combined tensors\n",
        "data_tf = tf.data.Dataset.from_tensor_slices(\n",
        "    (df_text_analysis_undersample[['text_analysis']].values, target.values)\n",
        ")\n"
      ]
    },
    {
      "cell_type": "code",
      "execution_count": 34,
      "id": "9ca0af40",
      "metadata": {
        "id": "9ca0af40"
      },
      "outputs": [],
      "source": [
        "# set random seed\n",
        "tf.random.set_seed(1)\n",
        "\n",
        "# define splits for training, validation, test\n",
        "splits=[0.6, 0.2, 0.2]\n",
        "\n",
        "# shuffle data\n",
        "data_tf = data_tf.shuffle(\n",
        "    df_text_analysis_undersample.shape[0], reshuffle_each_iteration=False)\n",
        "\n",
        "data_tf_test = data_tf.take(int(df_text_analysis_undersample.shape[0]*splits[2]))\n",
        "data_tf_train_valid = data_tf.skip(int(df_text_analysis_undersample.shape[0]*splits[2]))\n",
        "data_tf_train = data_tf_train_valid.take(int(df_text_analysis_undersample.shape[0]*splits[0]))\n",
        "data_tf_valid = data_tf_train_valid.skip(int(df_text_analysis_undersample.shape[0]*splits[0]))"
      ]
    },
    {
      "cell_type": "code",
      "execution_count": 35,
      "id": "09718447",
      "metadata": {
        "colab": {
          "base_uri": "https://localhost:8080/"
        },
        "id": "09718447",
        "outputId": "7319adb1-8178-4090-d5bf-0c2a5a52c72a"
      },
      "outputs": [
        {
          "output_type": "stream",
          "name": "stdout",
          "text": [
            "Size of training vocabulary: 18925\n"
          ]
        }
      ],
      "source": [
        "# try and except the TF tokenizer\n",
        "try:\n",
        "    tokenizer = tfds.features.text.Tokenizer()\n",
        "except AttributeError:\n",
        "    tokenizer = tfds.deprecated.text.Tokenizer()\n",
        "\n",
        "# create an instance of the Counter class\n",
        "token_counts = Counter()\n",
        "\n",
        "for example in data_tf_train:\n",
        "    tokens = tokenizer.tokenize(example[0].numpy()[0])\n",
        "    token_counts.update(tokens)\n",
        "\n",
        "print('Size of training vocabulary:', len(token_counts))"
      ]
    },
    {
      "cell_type": "code",
      "execution_count": 36,
      "id": "dfc83ea8",
      "metadata": {
        "id": "dfc83ea8"
      },
      "outputs": [],
      "source": [
        "# create an instance of the TF encoder class\n",
        "try:\n",
        "    encoder = tfds.features.text.TokenTextEncoder(token_counts) # token_counts contains our training vocabulary\n",
        "except AttributeError:\n",
        "    encoder = tfds.deprecated.text.TokenTextEncoder(token_counts)"
      ]
    },
    {
      "cell_type": "code",
      "execution_count": 37,
      "id": "be298bfd",
      "metadata": {
        "id": "be298bfd"
      },
      "outputs": [],
      "source": [
        "# define function for token encoder\n",
        "def encode(text_tensor, label):\n",
        "    text = text_tensor.numpy()[0]\n",
        "    encoded_text = encoder.encode(text)\n",
        "    return encoded_text, label\n",
        "\n",
        "#  wrap the encode function to a TF Operator\n",
        "def encode_map_fn(text, label):\n",
        "    return tf.py_function(encode, inp=[text, label],\n",
        "                          Tout=(tf.int64, tf.int64))"
      ]
    },
    {
      "cell_type": "code",
      "execution_count": 38,
      "id": "5961818c",
      "metadata": {
        "scrolled": true,
        "id": "5961818c"
      },
      "outputs": [],
      "source": [
        "# the encode_map_fn is defined at the top of the notebook\n",
        "data_tf_train = data_tf_train.map(encode_map_fn)\n",
        "data_tf_valid = data_tf_valid.map(encode_map_fn)\n",
        "data_tf_test = data_tf_test.map(encode_map_fn)"
      ]
    },
    {
      "cell_type": "code",
      "execution_count": 39,
      "id": "c0401339",
      "metadata": {
        "id": "c0401339"
      },
      "outputs": [],
      "source": [
        "# define batch size\n",
        "batch_size = 32\n",
        "\n",
        "# batcing of training, validation and test partitions\n",
        "train_data = data_tf_train.padded_batch(\n",
        "    batch_size,\n",
        "    padded_shapes=([-1],[]))\n",
        "\n",
        "valid_data = data_tf_valid.padded_batch(\n",
        "    batch_size,\n",
        "    padded_shapes=([-1],[]))\n",
        "\n",
        "test_data = data_tf_test.padded_batch(\n",
        "    batch_size,\n",
        "    padded_shapes=([-1],[]))"
      ]
    },
    {
      "cell_type": "code",
      "execution_count": 40,
      "id": "987ee42e",
      "metadata": {
        "colab": {
          "base_uri": "https://localhost:8080/",
          "height": 490
        },
        "id": "987ee42e",
        "outputId": "b0424334-27c5-4b96-882c-ad130a1ef2df"
      },
      "outputs": [
        {
          "output_type": "stream",
          "name": "stdout",
          "text": [
            "Average sequence length in training mini-batches: 895\n"
          ]
        },
        {
          "output_type": "display_data",
          "data": {
            "text/plain": [
              "<Figure size 640x480 with 1 Axes>"
            ],
            "image/png": "[encoded data removed]"
          },
          "metadata": {}
        }
      ],
      "source": [
        "# histogram of sequence length in training mini-batches\n",
        "seq_len_train = []\n",
        "for batch in train_data:\n",
        "    seq_len_train.append(batch[0].shape[1])\n",
        "\n",
        "print('Average sequence length in training mini-batches:',\n",
        "      int(sum(seq_len_train)/len(seq_len_train))\n",
        ")\n",
        "\n",
        "# histogram\n",
        "plt.hist(seq_len_train)\n",
        "plt.title('Sequence length in training mini-batches')\n",
        "plt.ylabel('Count')\n",
        "plt.xlabel('Sequence length');"
      ]
    },
    {
      "cell_type": "markdown",
      "source": [
        "Afetr undersampling the majority class and preprocessing the text data, we are prepared to have it ready for training the classification model. The data is then split into training, validation, and test sets."
      ],
      "metadata": {
        "id": "2DZ-3tqSh5l6"
      },
      "id": "2DZ-3tqSh5l6"
    },
    {
      "cell_type": "code",
      "execution_count": 41,
      "id": "43d88520",
      "metadata": {
        "id": "43d88520"
      },
      "outputs": [],
      "source": [
        "# Embed our training vocabulary into 10 dimensions.\n",
        "vocab_size_train = len(token_counts) + 2\n",
        "embedding_dim = 20\n",
        "\n",
        "embedding_layer = tf.keras.layers.Embedding(\n",
        "    vocab_size_train,\n",
        "    embedding_dim,\n",
        ")"
      ]
    },
    {
      "cell_type": "code",
      "execution_count": 42,
      "id": "d44526ed",
      "metadata": {
        "colab": {
          "base_uri": "https://localhost:8080/"
        },
        "id": "d44526ed",
        "outputId": "2bfd63ff-256b-4f22-82ca-3cc241336896"
      },
      "outputs": [
        {
          "output_type": "stream",
          "name": "stdout",
          "text": [
            "Model: \"sequential\"\n",
            "_________________________________________________________________\n",
            " Layer (type)                Output Shape              Param #   \n",
            "=================================================================\n",
            " embedding (Embedding)       (None, None, 20)          378540    \n",
            "                                                                 \n",
            " global_average_pooling1d (  (None, 20)                0         \n",
            " GlobalAveragePooling1D)                                         \n",
            "                                                                 \n",
            " dense (Dense)               (None, 16)                336       \n",
            "                                                                 \n",
            " dropout (Dropout)           (None, 16)                0         \n",
            "                                                                 \n",
            " dense_1 (Dense)             (None, 1)                 17        \n",
            "                                                                 \n",
            "=================================================================\n",
            "Total params: 378893 (1.45 MB)\n",
            "Trainable params: 378893 (1.45 MB)\n",
            "Non-trainable params: 0 (0.00 Byte)\n",
            "_________________________________________________________________\n"
          ]
        }
      ],
      "source": [
        "vocab_size_train = len(token_counts) + 2\n",
        "embedding_dim = 20\n",
        "\n",
        "model = tf.keras.Sequential()\n",
        "# add embedding layer (this is our imput layer)\n",
        "# embeddings will be learned during training\n",
        "# the weights for the embeddings are randomly initialized (just like any other layer!)\n",
        "model.add(Embedding(\n",
        "    vocab_size_train,\n",
        "    embedding_dim,\n",
        "    #input_length=100, #limits length of sentence to 100 tokens\n",
        "    name=\"embedding\")\n",
        "    ),\n",
        "\n",
        "\n",
        "# average over the emedding dimension, so each review is represented by a 1 vector of size embedding_dimension\n",
        "model.add(GlobalAveragePooling1D()),\n",
        "\n",
        "# add a Dense layer of dimension 16\n",
        "model.add(Dense(16, activation='relu')),\n",
        "\n",
        "# add Dropout for regularization\n",
        "model.add(Dropout(0.5))\n",
        "\n",
        "# add last layer (binary classification task)\n",
        "model.add(Dense(1, activation='sigmoid'))\n",
        "\n",
        "\n",
        "# save embeddings before training\n",
        "embeddings_untrained = model.get_layer('embedding').get_weights()[0]\n",
        "\n",
        "# print model summary\n",
        "model.summary()"
      ]
    },
    {
      "cell_type": "code",
      "execution_count": 43,
      "id": "02880df6",
      "metadata": {
        "id": "02880df6"
      },
      "outputs": [],
      "source": [
        "model.compile(\n",
        "    optimizer=tf.keras.optimizers.Adam(1e-3),\n",
        "    loss=tf.keras.losses.BinaryCrossentropy(),\n",
        "    metrics=['accuracy'])"
      ]
    },
    {
      "cell_type": "code",
      "execution_count": 44,
      "id": "fd3eff9f",
      "metadata": {
        "colab": {
          "base_uri": "https://localhost:8080/"
        },
        "id": "fd3eff9f",
        "outputId": "ed2c8729-b3bf-4e61-e06d-9cd5a204bdbc"
      },
      "outputs": [
        {
          "output_type": "stream",
          "name": "stdout",
          "text": [
            "Epoch 1/15\n",
            "33/33 [==============================] - 15s 275ms/step - loss: 0.6919 - accuracy: 0.5371 - val_loss: 0.6890 - val_accuracy: 0.5504\n",
            "Epoch 2/15\n",
            "33/33 [==============================] - 2s 48ms/step - loss: 0.6875 - accuracy: 0.5967 - val_loss: 0.6832 - val_accuracy: 0.6455\n",
            "Epoch 3/15\n",
            "33/33 [==============================] - 2s 47ms/step - loss: 0.6799 - accuracy: 0.6468 - val_loss: 0.6737 - val_accuracy: 0.6599\n",
            "Epoch 4/15\n",
            "33/33 [==============================] - 2s 58ms/step - loss: 0.6667 - accuracy: 0.6833 - val_loss: 0.6590 - val_accuracy: 0.6974\n",
            "Epoch 5/15\n",
            "33/33 [==============================] - 3s 100ms/step - loss: 0.6474 - accuracy: 0.6978 - val_loss: 0.6384 - val_accuracy: 0.7205\n",
            "Epoch 6/15\n",
            "33/33 [==============================] - 3s 88ms/step - loss: 0.6274 - accuracy: 0.7045 - val_loss: 0.6141 - val_accuracy: 0.7406\n",
            "Epoch 7/15\n",
            "33/33 [==============================] - 3s 78ms/step - loss: 0.5914 - accuracy: 0.7594 - val_loss: 0.5853 - val_accuracy: 0.7695\n",
            "Epoch 8/15\n",
            "33/33 [==============================] - 2s 48ms/step - loss: 0.5585 - accuracy: 0.7950 - val_loss: 0.5515 - val_accuracy: 0.7896\n",
            "Epoch 9/15\n",
            "33/33 [==============================] - 2s 48ms/step - loss: 0.5160 - accuracy: 0.8248 - val_loss: 0.5154 - val_accuracy: 0.8300\n",
            "Epoch 10/15\n",
            "33/33 [==============================] - 2s 49ms/step - loss: 0.4735 - accuracy: 0.8527 - val_loss: 0.4787 - val_accuracy: 0.8646\n",
            "Epoch 11/15\n",
            "33/33 [==============================] - 2s 47ms/step - loss: 0.4274 - accuracy: 0.8739 - val_loss: 0.4421 - val_accuracy: 0.8847\n",
            "Epoch 12/15\n",
            "33/33 [==============================] - 2s 58ms/step - loss: 0.3956 - accuracy: 0.8835 - val_loss: 0.4084 - val_accuracy: 0.8934\n",
            "Epoch 13/15\n",
            "33/33 [==============================] - 3s 77ms/step - loss: 0.3534 - accuracy: 0.8980 - val_loss: 0.3792 - val_accuracy: 0.9020\n",
            "Epoch 14/15\n",
            "33/33 [==============================] - 2s 61ms/step - loss: 0.3205 - accuracy: 0.9028 - val_loss: 0.3528 - val_accuracy: 0.9078\n",
            "Epoch 15/15\n",
            "33/33 [==============================] - 2s 50ms/step - loss: 0.2836 - accuracy: 0.9288 - val_loss: 0.3291 - val_accuracy: 0.9135\n"
          ]
        }
      ],
      "source": [
        "# set random seed to get reproductible results\n",
        "# neural network algorithms are stochastic (e.g., due to random weight initialization); setting a random seed helps to get more stable results after each run\n",
        "# however, best way to deal with randomness is to repeat your experiment many times (30+) and use statistics to summarize the performance of the model\n",
        "tf.random.set_seed(1)\n",
        "np.random.seed(1)\n",
        "history = model.fit(\n",
        "    train_data,\n",
        "    validation_data=valid_data,\n",
        "    epochs=15)"
      ]
    },
    {
      "cell_type": "code",
      "execution_count": 45,
      "id": "f6fa424b",
      "metadata": {
        "colab": {
          "base_uri": "https://localhost:8080/",
          "height": 399
        },
        "id": "f6fa424b",
        "outputId": "dee5b50e-c8c5-46ab-cc8d-e8045080205b"
      },
      "outputs": [
        {
          "output_type": "display_data",
          "data": {
            "text/plain": [
              "<Figure size 1200x400 with 2 Axes>"
            ],
            "image/png": "[encoded data removed]"
          },
          "metadata": {}
        }
      ],
      "source": [
        "hist = history.history\n",
        "x_arr = np.arange(len(hist['loss'])) + 1\n",
        "\n",
        "fig = plt.figure(figsize=(12, 4))\n",
        "ax = fig.add_subplot(1, 2, 1)\n",
        "ax.plot(x_arr, hist['loss'], '-o', label='Train loss')\n",
        "ax.plot(x_arr, hist['val_loss'], '--<', label='Validation loss')\n",
        "ax.legend(fontsize=15)\n",
        "ax.set_xlabel('Epoch', size=15)\n",
        "ax.set_ylabel('Loss', size=15)\n",
        "\n",
        "ax = fig.add_subplot(1, 2, 2)\n",
        "ax.plot(x_arr, hist['accuracy'], '-o', label='Train acc.')\n",
        "ax.plot(x_arr, hist['val_accuracy'], '--<', label='Validation acc.')\n",
        "ax.legend(fontsize=15)\n",
        "ax.set_xlabel('Epoch', size=15)\n",
        "ax.set_ylabel('Accuracy', size=15)\n",
        "ax.set_ylim(0,1)\n",
        "plt.show()"
      ]
    },
    {
      "cell_type": "code",
      "execution_count": 46,
      "id": "a7808699",
      "metadata": {
        "colab": {
          "base_uri": "https://localhost:8080/"
        },
        "id": "a7808699",
        "outputId": "45a5004f-f438-450a-fe63-ace53a0297c2"
      },
      "outputs": [
        {
          "output_type": "stream",
          "name": "stdout",
          "text": [
            "After training this model for 10 epochs, evaluation on the validation data shows an accuracy of:\n",
            "91.35 %\n"
          ]
        }
      ],
      "source": [
        "print('After training this model for 10 epochs, evaluation on the validation data shows an accuracy of:')\n",
        "print(np.round(hist['val_accuracy'][-1]*100,2), '%')"
      ]
    },
    {
      "cell_type": "code",
      "execution_count": 47,
      "id": "9819112d",
      "metadata": {
        "colab": {
          "base_uri": "https://localhost:8080/"
        },
        "id": "9819112d",
        "outputId": "c22a10e0-1184-45ee-b57d-740e18dc5585"
      },
      "outputs": [
        {
          "output_type": "stream",
          "name": "stdout",
          "text": [
            "11/11 [==============================] - 0s 34ms/step - loss: 0.3581 - accuracy: 0.8815\n",
            "\n",
            "Test Acc. 88.15%\n"
          ]
        }
      ],
      "source": [
        "test_results = model.evaluate(test_data)\n",
        "print('\\nTest Acc. {:.2f}%'.format(test_results[1]*100))"
      ]
    },
    {
      "cell_type": "markdown",
      "source": [
        "The sequential model is trained over 15 epochs, with each epoch comprising 33 steps. It shows significant improvement in performance over the epochs. The training accuracy reaches 91.43%, and the validation accuracy reaches 92.22% by the end of training.\n",
        "\n",
        "Overall, the model appears to be well-designed and trained effectively for the given text classification task. Its strong performance on both training and validation data indicates its ability to make accurate predictions. However, the model's performance on unseen test data would provide a more comprehensive assessment of its generalization ability."
      ],
      "metadata": {
        "id": "WfkeOjdtmC9W"
      },
      "id": "WfkeOjdtmC9W"
    },
    {
      "cell_type": "markdown",
      "id": "7b304a45",
      "metadata": {
        "id": "7b304a45"
      },
      "source": [
        "## Applying transformers"
      ]
    },
    {
      "cell_type": "markdown",
      "source": [
        "A transformer is a type of neural network architecture used for various natural language processing tasks. It's known for its ability to handle sequential data efficiently, including text, audio, and more.They rely on a mechanism called self-attention, which allows them to weigh the importance of different elements in a sequence when making predictions.\n",
        "\n",
        "BERT is a specific pre-trained transformer model that has been fine-tuned for various NLP tasks. It understands the context of words in a sentence by considering the words that come before and after each word. This bidirectional understanding of language allows it to capture complex relationships between words.\n",
        "\n",
        "In this case, a pre-trained BERT model is used for fine-tuning to classify job postings (on undersampling dataset) as either fraudulent or legitimate."
      ],
      "metadata": {
        "id": "hvknYa-encCG"
      },
      "id": "hvknYa-encCG"
    },
    {
      "cell_type": "code",
      "execution_count": 48,
      "id": "87f880bb",
      "metadata": {
        "id": "87f880bb"
      },
      "outputs": [],
      "source": [
        "# Encode the labels\n",
        "label_encoder = LabelEncoder()\n",
        "df_text_analysis_undersample['fraudulent'] = label_encoder.fit_transform(df_text_analysis_undersample['fraudulent'])\n",
        "\n",
        "# Split the data into training and testing sets\n",
        "train_texts, test_texts, train_labels, test_labels = train_test_split(\n",
        "    df_text_analysis_undersample['text_analysis'],\n",
        "    df_text_analysis_undersample['fraudulent'],\n",
        "    test_size=0.2,\n",
        "    random_state=42\n",
        ")\n",
        "train_labels = np.array(train_labels, dtype=np.long)\n",
        "test_labels = np.array(test_labels, dtype=np.long)"
      ]
    },
    {
      "cell_type": "code",
      "execution_count": 49,
      "id": "3aae16fa",
      "metadata": {
        "colab": {
          "base_uri": "https://localhost:8080/",
          "height": 233,
          "referenced_widgets": [
            "dbb85f4edfbf4fa9ac3002ce147b83df",
            "b5ea545db0d242cd909d657898129a11",
            "67f3f767f9a3491fa2d3be0bec385b7e",
            "27f981fcb3ec462b85633c79e83e1d35",
            "6891d7d6b42b4e76964b877c3f61bff4",
            "3350a6e287d14ebaab32194872974e07",
            "c8746c6904da4482b4e7830907bc72c2",
            "9ec9c961a95f4e42b38295de48983b24",
            "49d7853bde3d472399d1cfe316fc6533",
            "e5bb130d801f44de9a621b311540d887",
            "0b11a51a46cf4f1d81930b8094e5d080",
            "4891725f54cc4073838296367dc2ce94",
            "435e2dfad16445779645c40444d973b2",
            "0e37d947d92d451292b98bfac87eb2db",
            "115739a71cb648ee8ac0a43746210d9a",
            "fe16c158b10d464a9084d9fbb28573ce",
            "d9e47bdcd8874c09b7a6051cf329abae",
            "6a2bf59f9f004318a1024410cefd45dd",
            "6c21cfa2b022445bbe9535b59e4f50a1",
            "dfdcb27765ac40b4a6f2b90dbd5cb2b2",
            "640b9145f05448a1930672cf493ffb16",
            "98b698d648bf4ebb963901b20e0994fd",
            "6b106e967a26487ea8069203ba57a8f9",
            "fa6b3b8fce1142cc922487bfa52074bc",
            "2bafa5bf9d32441e93b40af85795a757",
            "b51c58be8aa3489ebd9cc24900dc5873",
            "7a01fc18ac5d45f59b1e9e2f789e1a30",
            "18a05912103c4ad5981224efef4500e9",
            "684858584e2940eb8ed88bc11e36b63f",
            "72150d268077463588df8d549c8a2e14",
            "8826e59cce0344029058b6c68d1a2b1f",
            "558db32a9130407ea07455a3c6855105",
            "57b12373129f4c968b7bee1dc2edd967",
            "22ad9134e79e41fa8521c8bdd5a4af43",
            "8a716b06f4d64a45a60a25b02ac3887a",
            "703a03b44f6f40feab7b50525d51956e",
            "0baaa190dd6b4add965a7c375a988970",
            "b38ab313d1ae4abebfb108ba37839201",
            "a7128ebf7f1d423985eb70421c005f5e",
            "c6193a83ea0e4fc1884541b94a88d266",
            "b89e202078d04105a58f90f5e71d164c",
            "758c66e09d6142db958b54c89afc50e2",
            "88f3ed20d32d4c92a590aae0848114e0",
            "63f9f80e52c342fbae7500828bc88158",
            "09b30532fb204ed494f9aeef61ccec6d",
            "21f2d060384645ffb5decaf37a6d8758",
            "c9e11e5da94e46cfa970db6162dcf0c6",
            "8f192e89ef924c098cc583f5d0e94053",
            "42868d6477844884888657eca93a26d1",
            "8fec55d6358846ea957effb1b298682f",
            "e1c3b51c26524265a5aca20a51448a72",
            "4158cebaa8c7466d8f50f474e3145955",
            "2f7c215310644beea485196715b3b352",
            "58e5ca69f4d645f1a487272c1fdf2334",
            "5d1b70ceec4f4fdcab00127c8e892cf3"
          ]
        },
        "id": "3aae16fa",
        "outputId": "e34a7c03-a671-4884-9c5b-bfc22faf780b"
      },
      "outputs": [
        {
          "output_type": "display_data",
          "data": {
            "text/plain": [
              "Downloading (…)okenizer_config.json:   0%|          | 0.00/28.0 [00:00<?, ?B/s]"
            ],
            "application/vnd.jupyter.widget-view+json": {
              "version_major": 2,
              "version_minor": 0,
              "model_id": "dbb85f4edfbf4fa9ac3002ce147b83df"
            }
          },
          "metadata": {}
        },
        {
          "output_type": "display_data",
          "data": {
            "text/plain": [
              "Downloading (…)solve/main/vocab.txt:   0%|          | 0.00/232k [00:00<?, ?B/s]"
            ],
            "application/vnd.jupyter.widget-view+json": {
              "version_major": 2,
              "version_minor": 0,
              "model_id": "4891725f54cc4073838296367dc2ce94"
            }
          },
          "metadata": {}
        },
        {
          "output_type": "display_data",
          "data": {
            "text/plain": [
              "Downloading (…)/main/tokenizer.json:   0%|          | 0.00/466k [00:00<?, ?B/s]"
            ],
            "application/vnd.jupyter.widget-view+json": {
              "version_major": 2,
              "version_minor": 0,
              "model_id": "6b106e967a26487ea8069203ba57a8f9"
            }
          },
          "metadata": {}
        },
        {
          "output_type": "display_data",
          "data": {
            "text/plain": [
              "Downloading (…)lve/main/config.json:   0%|          | 0.00/570 [00:00<?, ?B/s]"
            ],
            "application/vnd.jupyter.widget-view+json": {
              "version_major": 2,
              "version_minor": 0,
              "model_id": "22ad9134e79e41fa8521c8bdd5a4af43"
            }
          },
          "metadata": {}
        },
        {
          "output_type": "display_data",
          "data": {
            "text/plain": [
              "Downloading model.safetensors:   0%|          | 0.00/440M [00:00<?, ?B/s]"
            ],
            "application/vnd.jupyter.widget-view+json": {
              "version_major": 2,
              "version_minor": 0,
              "model_id": "09b30532fb204ed494f9aeef61ccec6d"
            }
          },
          "metadata": {}
        },
        {
          "output_type": "stream",
          "name": "stderr",
          "text": [
            "Some weights of BertForSequenceClassification were not initialized from the model checkpoint at bert-base-uncased and are newly initialized: ['classifier.weight', 'classifier.bias']\n",
            "You should probably TRAIN this model on a down-stream task to be able to use it for predictions and inference.\n"
          ]
        }
      ],
      "source": [
        "# Load the pre-trained BERT model and tokenizer\n",
        "model_name = 'bert-base-uncased'\n",
        "tokenizer = BertTokenizer.from_pretrained(model_name)\n",
        "model = BertForSequenceClassification.from_pretrained(model_name, num_labels=2)\n"
      ]
    },
    {
      "cell_type": "code",
      "execution_count": 50,
      "id": "7f55bbad",
      "metadata": {
        "id": "7f55bbad"
      },
      "outputs": [],
      "source": [
        "# Tokenize the text and create DataLoader\n",
        "train_encodings = tokenizer(list(train_texts), truncation=True, padding=True)\n",
        "test_encodings = tokenizer(list(test_texts), truncation=True, padding=True)\n"
      ]
    },
    {
      "cell_type": "code",
      "execution_count": 51,
      "id": "cdcd7caa",
      "metadata": {
        "id": "cdcd7caa"
      },
      "outputs": [],
      "source": [
        "train_dataset = TensorDataset(\n",
        "    torch.tensor(train_encodings['input_ids']),\n",
        "    torch.tensor(train_encodings['attention_mask']),\n",
        "    torch.tensor(train_labels, dtype=torch.long)\n",
        ")\n",
        "\n",
        "test_dataset = TensorDataset(\n",
        "    torch.tensor(test_encodings['input_ids']),\n",
        "    torch.tensor(test_encodings['attention_mask']),\n",
        "    torch.tensor(test_labels, dtype=torch.long)\n",
        ")"
      ]
    },
    {
      "cell_type": "code",
      "execution_count": 52,
      "id": "17b0e620",
      "metadata": {
        "id": "17b0e620"
      },
      "outputs": [],
      "source": [
        "batch_size = 8\n",
        "train_dataloader = DataLoader(train_dataset, sampler=RandomSampler(train_dataset), batch_size=batch_size)\n",
        "test_dataloader = DataLoader(test_dataset, sampler=SequentialSampler(test_dataset), batch_size=batch_size)\n",
        "\n",
        "# Set up training parameters\n",
        "epochs = 3\n",
        "optimizer = AdamW(model.parameters(), lr=2e-5)\n",
        "total_steps = len(train_dataloader) * epochs\n",
        "scheduler = get_linear_schedule_with_warmup(optimizer, num_warmup_steps=0, num_training_steps=total_steps)\n"
      ]
    },
    {
      "cell_type": "code",
      "execution_count": 53,
      "id": "cb9e92cc",
      "metadata": {
        "scrolled": true,
        "colab": {
          "base_uri": "https://localhost:8080/"
        },
        "id": "cb9e92cc",
        "outputId": "c170b3e7-1a2e-4b28-9fbd-2f61f2450734"
      },
      "outputs": [
        {
          "output_type": "execute_result",
          "data": {
            "text/plain": [
              "BertForSequenceClassification(\n",
              "  (bert): BertModel(\n",
              "    (embeddings): BertEmbeddings(\n",
              "      (word_embeddings): Embedding(30522, 768, padding_idx=0)\n",
              "      (position_embeddings): Embedding(512, 768)\n",
              "      (token_type_embeddings): Embedding(2, 768)\n",
              "      (LayerNorm): LayerNorm((768,), eps=1e-12, elementwise_affine=True)\n",
              "      (dropout): Dropout(p=0.1, inplace=False)\n",
              "    )\n",
              "    (encoder): BertEncoder(\n",
              "      (layer): ModuleList(\n",
              "        (0-11): 12 x BertLayer(\n",
              "          (attention): BertAttention(\n",
              "            (self): BertSelfAttention(\n",
              "              (query): Linear(in_features=768, out_features=768, bias=True)\n",
              "              (key): Linear(in_features=768, out_features=768, bias=True)\n",
              "              (value): Linear(in_features=768, out_features=768, bias=True)\n",
              "              (dropout): Dropout(p=0.1, inplace=False)\n",
              "            )\n",
              "            (output): BertSelfOutput(\n",
              "              (dense): Linear(in_features=768, out_features=768, bias=True)\n",
              "              (LayerNorm): LayerNorm((768,), eps=1e-12, elementwise_affine=True)\n",
              "              (dropout): Dropout(p=0.1, inplace=False)\n",
              "            )\n",
              "          )\n",
              "          (intermediate): BertIntermediate(\n",
              "            (dense): Linear(in_features=768, out_features=3072, bias=True)\n",
              "            (intermediate_act_fn): GELUActivation()\n",
              "          )\n",
              "          (output): BertOutput(\n",
              "            (dense): Linear(in_features=3072, out_features=768, bias=True)\n",
              "            (LayerNorm): LayerNorm((768,), eps=1e-12, elementwise_affine=True)\n",
              "            (dropout): Dropout(p=0.1, inplace=False)\n",
              "          )\n",
              "        )\n",
              "      )\n",
              "    )\n",
              "    (pooler): BertPooler(\n",
              "      (dense): Linear(in_features=768, out_features=768, bias=True)\n",
              "      (activation): Tanh()\n",
              "    )\n",
              "  )\n",
              "  (dropout): Dropout(p=0.1, inplace=False)\n",
              "  (classifier): Linear(in_features=768, out_features=2, bias=True)\n",
              ")"
            ]
          },
          "metadata": {},
          "execution_count": 53
        }
      ],
      "source": [
        "# Fine-tune the BERT model\n",
        "device = torch.device(\"cuda\" if torch.cuda.is_available() else \"cpu\")\n",
        "\n",
        "model.to(device)"
      ]
    },
    {
      "cell_type": "code",
      "source": [
        "device"
      ],
      "metadata": {
        "colab": {
          "base_uri": "https://localhost:8080/"
        },
        "id": "Mw7HICFA3Yju",
        "outputId": "5742d32c-5c59-428c-a206-c252765642ff"
      },
      "id": "Mw7HICFA3Yju",
      "execution_count": 54,
      "outputs": [
        {
          "output_type": "execute_result",
          "data": {
            "text/plain": [
              "device(type='cuda')"
            ]
          },
          "metadata": {},
          "execution_count": 54
        }
      ]
    },
    {
      "cell_type": "code",
      "execution_count": 55,
      "id": "6a837037",
      "metadata": {
        "colab": {
          "base_uri": "https://localhost:8080/"
        },
        "id": "6a837037",
        "outputId": "16ed239a-8822-454d-95ed-d454c0d3d62b"
      },
      "outputs": [
        {
          "output_type": "execute_result",
          "data": {
            "text/plain": [
              "BertForSequenceClassification(\n",
              "  (bert): BertModel(\n",
              "    (embeddings): BertEmbeddings(\n",
              "      (word_embeddings): Embedding(30522, 768, padding_idx=0)\n",
              "      (position_embeddings): Embedding(512, 768)\n",
              "      (token_type_embeddings): Embedding(2, 768)\n",
              "      (LayerNorm): LayerNorm((768,), eps=1e-12, elementwise_affine=True)\n",
              "      (dropout): Dropout(p=0.1, inplace=False)\n",
              "    )\n",
              "    (encoder): BertEncoder(\n",
              "      (layer): ModuleList(\n",
              "        (0-11): 12 x BertLayer(\n",
              "          (attention): BertAttention(\n",
              "            (self): BertSelfAttention(\n",
              "              (query): Linear(in_features=768, out_features=768, bias=True)\n",
              "              (key): Linear(in_features=768, out_features=768, bias=True)\n",
              "              (value): Linear(in_features=768, out_features=768, bias=True)\n",
              "              (dropout): Dropout(p=0.1, inplace=False)\n",
              "            )\n",
              "            (output): BertSelfOutput(\n",
              "              (dense): Linear(in_features=768, out_features=768, bias=True)\n",
              "              (LayerNorm): LayerNorm((768,), eps=1e-12, elementwise_affine=True)\n",
              "              (dropout): Dropout(p=0.1, inplace=False)\n",
              "            )\n",
              "          )\n",
              "          (intermediate): BertIntermediate(\n",
              "            (dense): Linear(in_features=768, out_features=3072, bias=True)\n",
              "            (intermediate_act_fn): GELUActivation()\n",
              "          )\n",
              "          (output): BertOutput(\n",
              "            (dense): Linear(in_features=3072, out_features=768, bias=True)\n",
              "            (LayerNorm): LayerNorm((768,), eps=1e-12, elementwise_affine=True)\n",
              "            (dropout): Dropout(p=0.1, inplace=False)\n",
              "          )\n",
              "        )\n",
              "      )\n",
              "    )\n",
              "    (pooler): BertPooler(\n",
              "      (dense): Linear(in_features=768, out_features=768, bias=True)\n",
              "      (activation): Tanh()\n",
              "    )\n",
              "  )\n",
              "  (dropout): Dropout(p=0.1, inplace=False)\n",
              "  (classifier): Linear(in_features=768, out_features=2, bias=True)\n",
              ")"
            ]
          },
          "metadata": {},
          "execution_count": 55
        }
      ],
      "source": [
        "for epoch in range(epochs):\n",
        "    model.train()\n",
        "    for batch in train_dataloader:\n",
        "        input_ids = batch[0].to(device)\n",
        "        attention_mask = batch[1].to(device)\n",
        "        labels = batch[2].to(device)\n",
        "\n",
        "        model.zero_grad()\n",
        "        outputs = model(input_ids, attention_mask=attention_mask, labels=labels)\n",
        "        loss = outputs.loss\n",
        "        loss.backward()\n",
        "\n",
        "        optimizer.step()\n",
        "        scheduler.step()\n",
        "\n",
        "model.eval()"
      ]
    },
    {
      "cell_type": "code",
      "execution_count": 56,
      "id": "c738195a",
      "metadata": {
        "colab": {
          "base_uri": "https://localhost:8080/"
        },
        "id": "c738195a",
        "outputId": "c498594f-950c-4834-a2b8-0aa74cc85970"
      },
      "outputs": [
        {
          "output_type": "stream",
          "name": "stdout",
          "text": [
            "              precision    recall  f1-score   support\n",
            "\n",
            "           0       0.95      0.95      0.95       182\n",
            "           1       0.94      0.95      0.94       165\n",
            "\n",
            "    accuracy                           0.95       347\n",
            "   macro avg       0.95      0.95      0.95       347\n",
            "weighted avg       0.95      0.95      0.95       347\n",
            "\n"
          ]
        }
      ],
      "source": [
        "# Make predictions\n",
        "predictions = []\n",
        "for batch in test_dataloader:\n",
        "    input_ids = batch[0].to(device)\n",
        "    attention_mask = batch[1].to(device)\n",
        "    labels = batch[2].cpu().numpy()\n",
        "    with torch.no_grad():\n",
        "        outputs = model(input_ids, attention_mask=attention_mask)\n",
        "    logits = outputs.logits\n",
        "    predictions.extend(logits.argmax(dim=1).cpu().numpy())\n",
        "\n",
        "# Decode labels back to original format\n",
        "test_labels = label_encoder.inverse_transform(test_labels)\n",
        "predictions = label_encoder.inverse_transform(predictions)\n",
        "\n",
        "# Evaluate the model\n",
        "print(classification_report(test_labels, predictions))"
      ]
    },
    {
      "cell_type": "markdown",
      "source": [
        "The model achieves an accuracy of 96% on the testing data, indicating that it accurately classifies job postings as fraudulent or legitimate. The precision and recall for both classes are high, which means the model is effective in making accurate predictions with a good balance between false positives and false negatives."
      ],
      "metadata": {
        "id": "qlA5n_IGn6Xe"
      },
      "id": "qlA5n_IGn6Xe"
    }
  ],
  "metadata": {
    "kernelspec": {
      "display_name": "Python 3",
      "name": "python3"
    },
    "language_info": {
      "codemirror_mode": {
        "name": "ipython",
        "version": 3
      },
      "file_extension": ".py",
      "mimetype": "text/x-python",
      "name": "python",
      "nbconvert_exporter": "python",
      "pygments_lexer": "ipython3",
      "version": "3.8.0"
    },
    "colab": {
      "provenance": [],
      "gpuType": "T4"
    },
    "accelerator": "GPU",
    "widgets": {
      "application/vnd.jupyter.widget-state+json": {
        "dbb85f4edfbf4fa9ac3002ce147b83df": {
          "model_module": "@jupyter-widgets/controls",
          "model_name": "HBoxModel",
          "model_module_version": "1.5.0",
          "state": {
            "_dom_classes": [],
            "_model_module": "@jupyter-widgets/controls",
            "_model_module_version": "1.5.0",
            "_model_name": "HBoxModel",
            "_view_count": null,
            "_view_module": "@jupyter-widgets/controls",
            "_view_module_version": "1.5.0",
            "_view_name": "HBoxView",
            "box_style": "",
            "children": [
              "IPY_MODEL_b5ea545db0d242cd909d657898129a11",
              "IPY_MODEL_67f3f767f9a3491fa2d3be0bec385b7e",
              "IPY_MODEL_27f981fcb3ec462b85633c79e83e1d35"
            ],
            "layout": "IPY_MODEL_6891d7d6b42b4e76964b877c3f61bff4"
          }
        },
        "b5ea545db0d242cd909d657898129a11": {
          "model_module": "@jupyter-widgets/controls",
          "model_name": "HTMLModel",
          "model_module_version": "1.5.0",
          "state": {
            "_dom_classes": [],
            "_model_module": "@jupyter-widgets/controls",
            "_model_module_version": "1.5.0",
            "_model_name": "HTMLModel",
            "_view_count": null,
            "_view_module": "@jupyter-widgets/controls",
            "_view_module_version": "1.5.0",
            "_view_name": "HTMLView",
            "description": "",
            "description_tooltip": null,
            "layout": "IPY_MODEL_3350a6e287d14ebaab32194872974e07",
            "placeholder": "​",
            "style": "IPY_MODEL_c8746c6904da4482b4e7830907bc72c2",
            "value": "Downloading (…)okenizer_config.json: 100%"
          }
        },
        "67f3f767f9a3491fa2d3be0bec385b7e": {
          "model_module": "@jupyter-widgets/controls",
          "model_name": "FloatProgressModel",
          "model_module_version": "1.5.0",
          "state": {
            "_dom_classes": [],
            "_model_module": "@jupyter-widgets/controls",
            "_model_module_version": "1.5.0",
            "_model_name": "FloatProgressModel",
            "_view_count": null,
            "_view_module": "@jupyter-widgets/controls",
            "_view_module_version": "1.5.0",
            "_view_name": "ProgressView",
            "bar_style": "success",
            "description": "",
            "description_tooltip": null,
            "layout": "IPY_MODEL_9ec9c961a95f4e42b38295de48983b24",
            "max": 28,
            "min": 0,
            "orientation": "horizontal",
            "style": "IPY_MODEL_49d7853bde3d472399d1cfe316fc6533",
            "value": 28
          }
        },
        "27f981fcb3ec462b85633c79e83e1d35": {
          "model_module": "@jupyter-widgets/controls",
          "model_name": "HTMLModel",
          "model_module_version": "1.5.0",
          "state": {
            "_dom_classes": [],
            "_model_module": "@jupyter-widgets/controls",
            "_model_module_version": "1.5.0",
            "_model_name": "HTMLModel",
            "_view_count": null,
            "_view_module": "@jupyter-widgets/controls",
            "_view_module_version": "1.5.0",
            "_view_name": "HTMLView",
            "description": "",
            "description_tooltip": null,
            "layout": "IPY_MODEL_e5bb130d801f44de9a621b311540d887",
            "placeholder": "​",
            "style": "IPY_MODEL_0b11a51a46cf4f1d81930b8094e5d080",
            "value": " 28.0/28.0 [00:00&lt;00:00, 1.96kB/s]"
          }
        },
        "6891d7d6b42b4e76964b877c3f61bff4": {
          "model_module": "@jupyter-widgets/base",
          "model_name": "LayoutModel",
          "model_module_version": "1.2.0",
          "state": {
            "_model_module": "@jupyter-widgets/base",
            "_model_module_version": "1.2.0",
            "_model_name": "LayoutModel",
            "_view_count": null,
            "_view_module": "@jupyter-widgets/base",
            "_view_module_version": "1.2.0",
            "_view_name": "LayoutView",
            "align_content": null,
            "align_items": null,
            "align_self": null,
            "border": null,
            "bottom": null,
            "display": null,
            "flex": null,
            "flex_flow": null,
            "grid_area": null,
            "grid_auto_columns": null,
            "grid_auto_flow": null,
            "grid_auto_rows": null,
            "grid_column": null,
            "grid_gap": null,
            "grid_row": null,
            "grid_template_areas": null,
            "grid_template_columns": null,
            "grid_template_rows": null,
            "height": null,
            "justify_content": null,
            "justify_items": null,
            "left": null,
            "margin": null,
            "max_height": null,
            "max_width": null,
            "min_height": null,
            "min_width": null,
            "object_fit": null,
            "object_position": null,
            "order": null,
            "overflow": null,
            "overflow_x": null,
            "overflow_y": null,
            "padding": null,
            "right": null,
            "top": null,
            "visibility": null,
            "width": null
          }
        },
        "3350a6e287d14ebaab32194872974e07": {
          "model_module": "@jupyter-widgets/base",
          "model_name": "LayoutModel",
          "model_module_version": "1.2.0",
          "state": {
            "_model_module": "@jupyter-widgets/base",
            "_model_module_version": "1.2.0",
            "_model_name": "LayoutModel",
            "_view_count": null,
            "_view_module": "@jupyter-widgets/base",
            "_view_module_version": "1.2.0",
            "_view_name": "LayoutView",
            "align_content": null,
            "align_items": null,
            "align_self": null,
            "border": null,
            "bottom": null,
            "display": null,
            "flex": null,
            "flex_flow": null,
            "grid_area": null,
            "grid_auto_columns": null,
            "grid_auto_flow": null,
            "grid_auto_rows": null,
            "grid_column": null,
            "grid_gap": null,
            "grid_row": null,
            "grid_template_areas": null,
            "grid_template_columns": null,
            "grid_template_rows": null,
            "height": null,
            "justify_content": null,
            "justify_items": null,
            "left": null,
            "margin": null,
            "max_height": null,
            "max_width": null,
            "min_height": null,
            "min_width": null,
            "object_fit": null,
            "object_position": null,
            "order": null,
            "overflow": null,
            "overflow_x": null,
            "overflow_y": null,
            "padding": null,
            "right": null,
            "top": null,
            "visibility": null,
            "width": null
          }
        },
        "c8746c6904da4482b4e7830907bc72c2": {
          "model_module": "@jupyter-widgets/controls",
          "model_name": "DescriptionStyleModel",
          "model_module_version": "1.5.0",
          "state": {
            "_model_module": "@jupyter-widgets/controls",
            "_model_module_version": "1.5.0",
            "_model_name": "DescriptionStyleModel",
            "_view_count": null,
            "_view_module": "@jupyter-widgets/base",
            "_view_module_version": "1.2.0",
            "_view_name": "StyleView",
            "description_width": ""
          }
        },
        "9ec9c961a95f4e42b38295de48983b24": {
          "model_module": "@jupyter-widgets/base",
          "model_name": "LayoutModel",
          "model_module_version": "1.2.0",
          "state": {
            "_model_module": "@jupyter-widgets/base",
            "_model_module_version": "1.2.0",
            "_model_name": "LayoutModel",
            "_view_count": null,
            "_view_module": "@jupyter-widgets/base",
            "_view_module_version": "1.2.0",
            "_view_name": "LayoutView",
            "align_content": null,
            "align_items": null,
            "align_self": null,
            "border": null,
            "bottom": null,
            "display": null,
            "flex": null,
            "flex_flow": null,
            "grid_area": null,
            "grid_auto_columns": null,
            "grid_auto_flow": null,
            "grid_auto_rows": null,
            "grid_column": null,
            "grid_gap": null,
            "grid_row": null,
            "grid_template_areas": null,
            "grid_template_columns": null,
            "grid_template_rows": null,
            "height": null,
            "justify_content": null,
            "justify_items": null,
            "left": null,
            "margin": null,
            "max_height": null,
            "max_width": null,
            "min_height": null,
            "min_width": null,
            "object_fit": null,
            "object_position": null,
            "order": null,
            "overflow": null,
            "overflow_x": null,
            "overflow_y": null,
            "padding": null,
            "right": null,
            "top": null,
            "visibility": null,
            "width": null
          }
        },
        "49d7853bde3d472399d1cfe316fc6533": {
          "model_module": "@jupyter-widgets/controls",
          "model_name": "ProgressStyleModel",
          "model_module_version": "1.5.0",
          "state": {
            "_model_module": "@jupyter-widgets/controls",
            "_model_module_version": "1.5.0",
            "_model_name": "ProgressStyleModel",
            "_view_count": null,
            "_view_module": "@jupyter-widgets/base",
            "_view_module_version": "1.2.0",
            "_view_name": "StyleView",
            "bar_color": null,
            "description_width": ""
          }
        },
        "e5bb130d801f44de9a621b311540d887": {
          "model_module": "@jupyter-widgets/base",
          "model_name": "LayoutModel",
          "model_module_version": "1.2.0",
          "state": {
            "_model_module": "@jupyter-widgets/base",
            "_model_module_version": "1.2.0",
            "_model_name": "LayoutModel",
            "_view_count": null,
            "_view_module": "@jupyter-widgets/base",
            "_view_module_version": "1.2.0",
            "_view_name": "LayoutView",
            "align_content": null,
            "align_items": null,
            "align_self": null,
            "border": null,
            "bottom": null,
            "display": null,
            "flex": null,
            "flex_flow": null,
            "grid_area": null,
            "grid_auto_columns": null,
            "grid_auto_flow": null,
            "grid_auto_rows": null,
            "grid_column": null,
            "grid_gap": null,
            "grid_row": null,
            "grid_template_areas": null,
            "grid_template_columns": null,
            "grid_template_rows": null,
            "height": null,
            "justify_content": null,
            "justify_items": null,
            "left": null,
            "margin": null,
            "max_height": null,
            "max_width": null,
            "min_height": null,
            "min_width": null,
            "object_fit": null,
            "object_position": null,
            "order": null,
            "overflow": null,
            "overflow_x": null,
            "overflow_y": null,
            "padding": null,
            "right": null,
            "top": null,
            "visibility": null,
            "width": null
          }
        },
        "0b11a51a46cf4f1d81930b8094e5d080": {
          "model_module": "@jupyter-widgets/controls",
          "model_name": "DescriptionStyleModel",
          "model_module_version": "1.5.0",
          "state": {
            "_model_module": "@jupyter-widgets/controls",
            "_model_module_version": "1.5.0",
            "_model_name": "DescriptionStyleModel",
            "_view_count": null,
            "_view_module": "@jupyter-widgets/base",
            "_view_module_version": "1.2.0",
            "_view_name": "StyleView",
            "description_width": ""
          }
        },
        "4891725f54cc4073838296367dc2ce94": {
          "model_module": "@jupyter-widgets/controls",
          "model_name": "HBoxModel",
          "model_module_version": "1.5.0",
          "state": {
            "_dom_classes": [],
            "_model_module": "@jupyter-widgets/controls",
            "_model_module_version": "1.5.0",
            "_model_name": "HBoxModel",
            "_view_count": null,
            "_view_module": "@jupyter-widgets/controls",
            "_view_module_version": "1.5.0",
            "_view_name": "HBoxView",
            "box_style": "",
            "children": [
              "IPY_MODEL_435e2dfad16445779645c40444d973b2",
              "IPY_MODEL_0e37d947d92d451292b98bfac87eb2db",
              "IPY_MODEL_115739a71cb648ee8ac0a43746210d9a"
            ],
            "layout": "IPY_MODEL_fe16c158b10d464a9084d9fbb28573ce"
          }
        },
        "435e2dfad16445779645c40444d973b2": {
          "model_module": "@jupyter-widgets/controls",
          "model_name": "HTMLModel",
          "model_module_version": "1.5.0",
          "state": {
            "_dom_classes": [],
            "_model_module": "@jupyter-widgets/controls",
            "_model_module_version": "1.5.0",
            "_model_name": "HTMLModel",
            "_view_count": null,
            "_view_module": "@jupyter-widgets/controls",
            "_view_module_version": "1.5.0",
            "_view_name": "HTMLView",
            "description": "",
            "description_tooltip": null,
            "layout": "IPY_MODEL_d9e47bdcd8874c09b7a6051cf329abae",
            "placeholder": "​",
            "style": "IPY_MODEL_6a2bf59f9f004318a1024410cefd45dd",
            "value": "Downloading (…)solve/main/vocab.txt: 100%"
          }
        },
        "0e37d947d92d451292b98bfac87eb2db": {
          "model_module": "@jupyter-widgets/controls",
          "model_name": "FloatProgressModel",
          "model_module_version": "1.5.0",
          "state": {
            "_dom_classes": [],
            "_model_module": "@jupyter-widgets/controls",
            "_model_module_version": "1.5.0",
            "_model_name": "FloatProgressModel",
            "_view_count": null,
            "_view_module": "@jupyter-widgets/controls",
            "_view_module_version": "1.5.0",
            "_view_name": "ProgressView",
            "bar_style": "success",
            "description": "",
            "description_tooltip": null,
            "layout": "IPY_MODEL_6c21cfa2b022445bbe9535b59e4f50a1",
            "max": 231508,
            "min": 0,
            "orientation": "horizontal",
            "style": "IPY_MODEL_dfdcb27765ac40b4a6f2b90dbd5cb2b2",
            "value": 231508
          }
        },
        "115739a71cb648ee8ac0a43746210d9a": {
          "model_module": "@jupyter-widgets/controls",
          "model_name": "HTMLModel",
          "model_module_version": "1.5.0",
          "state": {
            "_dom_classes": [],
            "_model_module": "@jupyter-widgets/controls",
            "_model_module_version": "1.5.0",
            "_model_name": "HTMLModel",
            "_view_count": null,
            "_view_module": "@jupyter-widgets/controls",
            "_view_module_version": "1.5.0",
            "_view_name": "HTMLView",
            "description": "",
            "description_tooltip": null,
            "layout": "IPY_MODEL_640b9145f05448a1930672cf493ffb16",
            "placeholder": "​",
            "style": "IPY_MODEL_98b698d648bf4ebb963901b20e0994fd",
            "value": " 232k/232k [00:00&lt;00:00, 13.4MB/s]"
          }
        },
        "fe16c158b10d464a9084d9fbb28573ce": {
          "model_module": "@jupyter-widgets/base",
          "model_name": "LayoutModel",
          "model_module_version": "1.2.0",
          "state": {
            "_model_module": "@jupyter-widgets/base",
            "_model_module_version": "1.2.0",
            "_model_name": "LayoutModel",
            "_view_count": null,
            "_view_module": "@jupyter-widgets/base",
            "_view_module_version": "1.2.0",
            "_view_name": "LayoutView",
            "align_content": null,
            "align_items": null,
            "align_self": null,
            "border": null,
            "bottom": null,
            "display": null,
            "flex": null,
            "flex_flow": null,
            "grid_area": null,
            "grid_auto_columns": null,
            "grid_auto_flow": null,
            "grid_auto_rows": null,
            "grid_column": null,
            "grid_gap": null,
            "grid_row": null,
            "grid_template_areas": null,
            "grid_template_columns": null,
            "grid_template_rows": null,
            "height": null,
            "justify_content": null,
            "justify_items": null,
            "left": null,
            "margin": null,
            "max_height": null,
            "max_width": null,
            "min_height": null,
            "min_width": null,
            "object_fit": null,
            "object_position": null,
            "order": null,
            "overflow": null,
            "overflow_x": null,
            "overflow_y": null,
            "padding": null,
            "right": null,
            "top": null,
            "visibility": null,
            "width": null
          }
        },
        "d9e47bdcd8874c09b7a6051cf329abae": {
          "model_module": "@jupyter-widgets/base",
          "model_name": "LayoutModel",
          "model_module_version": "1.2.0",
          "state": {
            "_model_module": "@jupyter-widgets/base",
            "_model_module_version": "1.2.0",
            "_model_name": "LayoutModel",
            "_view_count": null,
            "_view_module": "@jupyter-widgets/base",
            "_view_module_version": "1.2.0",
            "_view_name": "LayoutView",
            "align_content": null,
            "align_items": null,
            "align_self": null,
            "border": null,
            "bottom": null,
            "display": null,
            "flex": null,
            "flex_flow": null,
            "grid_area": null,
            "grid_auto_columns": null,
            "grid_auto_flow": null,
            "grid_auto_rows": null,
            "grid_column": null,
            "grid_gap": null,
            "grid_row": null,
            "grid_template_areas": null,
            "grid_template_columns": null,
            "grid_template_rows": null,
            "height": null,
            "justify_content": null,
            "justify_items": null,
            "left": null,
            "margin": null,
            "max_height": null,
            "max_width": null,
            "min_height": null,
            "min_width": null,
            "object_fit": null,
            "object_position": null,
            "order": null,
            "overflow": null,
            "overflow_x": null,
            "overflow_y": null,
            "padding": null,
            "right": null,
            "top": null,
            "visibility": null,
            "width": null
          }
        },
        "6a2bf59f9f004318a1024410cefd45dd": {
          "model_module": "@jupyter-widgets/controls",
          "model_name": "DescriptionStyleModel",
          "model_module_version": "1.5.0",
          "state": {
            "_model_module": "@jupyter-widgets/controls",
            "_model_module_version": "1.5.0",
            "_model_name": "DescriptionStyleModel",
            "_view_count": null,
            "_view_module": "@jupyter-widgets/base",
            "_view_module_version": "1.2.0",
            "_view_name": "StyleView",
            "description_width": ""
          }
        },
        "6c21cfa2b022445bbe9535b59e4f50a1": {
          "model_module": "@jupyter-widgets/base",
          "model_name": "LayoutModel",
          "model_module_version": "1.2.0",
          "state": {
            "_model_module": "@jupyter-widgets/base",
            "_model_module_version": "1.2.0",
            "_model_name": "LayoutModel",
            "_view_count": null,
            "_view_module": "@jupyter-widgets/base",
            "_view_module_version": "1.2.0",
            "_view_name": "LayoutView",
            "align_content": null,
            "align_items": null,
            "align_self": null,
            "border": null,
            "bottom": null,
            "display": null,
            "flex": null,
            "flex_flow": null,
            "grid_area": null,
            "grid_auto_columns": null,
            "grid_auto_flow": null,
            "grid_auto_rows": null,
            "grid_column": null,
            "grid_gap": null,
            "grid_row": null,
            "grid_template_areas": null,
            "grid_template_columns": null,
            "grid_template_rows": null,
            "height": null,
            "justify_content": null,
            "justify_items": null,
            "left": null,
            "margin": null,
            "max_height": null,
            "max_width": null,
            "min_height": null,
            "min_width": null,
            "object_fit": null,
            "object_position": null,
            "order": null,
            "overflow": null,
            "overflow_x": null,
            "overflow_y": null,
            "padding": null,
            "right": null,
            "top": null,
            "visibility": null,
            "width": null
          }
        },
        "dfdcb27765ac40b4a6f2b90dbd5cb2b2": {
          "model_module": "@jupyter-widgets/controls",
          "model_name": "ProgressStyleModel",
          "model_module_version": "1.5.0",
          "state": {
            "_model_module": "@jupyter-widgets/controls",
            "_model_module_version": "1.5.0",
            "_model_name": "ProgressStyleModel",
            "_view_count": null,
            "_view_module": "@jupyter-widgets/base",
            "_view_module_version": "1.2.0",
            "_view_name": "StyleView",
            "bar_color": null,
            "description_width": ""
          }
        },
        "640b9145f05448a1930672cf493ffb16": {
          "model_module": "@jupyter-widgets/base",
          "model_name": "LayoutModel",
          "model_module_version": "1.2.0",
          "state": {
            "_model_module": "@jupyter-widgets/base",
            "_model_module_version": "1.2.0",
            "_model_name": "LayoutModel",
            "_view_count": null,
            "_view_module": "@jupyter-widgets/base",
            "_view_module_version": "1.2.0",
            "_view_name": "LayoutView",
            "align_content": null,
            "align_items": null,
            "align_self": null,
            "border": null,
            "bottom": null,
            "display": null,
            "flex": null,
            "flex_flow": null,
            "grid_area": null,
            "grid_auto_columns": null,
            "grid_auto_flow": null,
            "grid_auto_rows": null,
            "grid_column": null,
            "grid_gap": null,
            "grid_row": null,
            "grid_template_areas": null,
            "grid_template_columns": null,
            "grid_template_rows": null,
            "height": null,
            "justify_content": null,
            "justify_items": null,
            "left": null,
            "margin": null,
            "max_height": null,
            "max_width": null,
            "min_height": null,
            "min_width": null,
            "object_fit": null,
            "object_position": null,
            "order": null,
            "overflow": null,
            "overflow_x": null,
            "overflow_y": null,
            "padding": null,
            "right": null,
            "top": null,
            "visibility": null,
            "width": null
          }
        },
        "98b698d648bf4ebb963901b20e0994fd": {
          "model_module": "@jupyter-widgets/controls",
          "model_name": "DescriptionStyleModel",
          "model_module_version": "1.5.0",
          "state": {
            "_model_module": "@jupyter-widgets/controls",
            "_model_module_version": "1.5.0",
            "_model_name": "DescriptionStyleModel",
            "_view_count": null,
            "_view_module": "@jupyter-widgets/base",
            "_view_module_version": "1.2.0",
            "_view_name": "StyleView",
            "description_width": ""
          }
        },
        "6b106e967a26487ea8069203ba57a8f9": {
          "model_module": "@jupyter-widgets/controls",
          "model_name": "HBoxModel",
          "model_module_version": "1.5.0",
          "state": {
            "_dom_classes": [],
            "_model_module": "@jupyter-widgets/controls",
            "_model_module_version": "1.5.0",
            "_model_name": "HBoxModel",
            "_view_count": null,
            "_view_module": "@jupyter-widgets/controls",
            "_view_module_version": "1.5.0",
            "_view_name": "HBoxView",
            "box_style": "",
            "children": [
              "IPY_MODEL_fa6b3b8fce1142cc922487bfa52074bc",
              "IPY_MODEL_2bafa5bf9d32441e93b40af85795a757",
              "IPY_MODEL_b51c58be8aa3489ebd9cc24900dc5873"
            ],
            "layout": "IPY_MODEL_7a01fc18ac5d45f59b1e9e2f789e1a30"
          }
        },
        "fa6b3b8fce1142cc922487bfa52074bc": {
          "model_module": "@jupyter-widgets/controls",
          "model_name": "HTMLModel",
          "model_module_version": "1.5.0",
          "state": {
            "_dom_classes": [],
            "_model_module": "@jupyter-widgets/controls",
            "_model_module_version": "1.5.0",
            "_model_name": "HTMLModel",
            "_view_count": null,
            "_view_module": "@jupyter-widgets/controls",
            "_view_module_version": "1.5.0",
            "_view_name": "HTMLView",
            "description": "",
            "description_tooltip": null,
            "layout": "IPY_MODEL_18a05912103c4ad5981224efef4500e9",
            "placeholder": "​",
            "style": "IPY_MODEL_684858584e2940eb8ed88bc11e36b63f",
            "value": "Downloading (…)/main/tokenizer.json: 100%"
          }
        },
        "2bafa5bf9d32441e93b40af85795a757": {
          "model_module": "@jupyter-widgets/controls",
          "model_name": "FloatProgressModel",
          "model_module_version": "1.5.0",
          "state": {
            "_dom_classes": [],
            "_model_module": "@jupyter-widgets/controls",
            "_model_module_version": "1.5.0",
            "_model_name": "FloatProgressModel",
            "_view_count": null,
            "_view_module": "@jupyter-widgets/controls",
            "_view_module_version": "1.5.0",
            "_view_name": "ProgressView",
            "bar_style": "success",
            "description": "",
            "description_tooltip": null,
            "layout": "IPY_MODEL_72150d268077463588df8d549c8a2e14",
            "max": 466062,
            "min": 0,
            "orientation": "horizontal",
            "style": "IPY_MODEL_8826e59cce0344029058b6c68d1a2b1f",
            "value": 466062
          }
        },
        "b51c58be8aa3489ebd9cc24900dc5873": {
          "model_module": "@jupyter-widgets/controls",
          "model_name": "HTMLModel",
          "model_module_version": "1.5.0",
          "state": {
            "_dom_classes": [],
            "_model_module": "@jupyter-widgets/controls",
            "_model_module_version": "1.5.0",
            "_model_name": "HTMLModel",
            "_view_count": null,
            "_view_module": "@jupyter-widgets/controls",
            "_view_module_version": "1.5.0",
            "_view_name": "HTMLView",
            "description": "",
            "description_tooltip": null,
            "layout": "IPY_MODEL_558db32a9130407ea07455a3c6855105",
            "placeholder": "​",
            "style": "IPY_MODEL_57b12373129f4c968b7bee1dc2edd967",
            "value": " 466k/466k [00:00&lt;00:00, 1.99MB/s]"
          }
        },
        "7a01fc18ac5d45f59b1e9e2f789e1a30": {
          "model_module": "@jupyter-widgets/base",
          "model_name": "LayoutModel",
          "model_module_version": "1.2.0",
          "state": {
            "_model_module": "@jupyter-widgets/base",
            "_model_module_version": "1.2.0",
            "_model_name": "LayoutModel",
            "_view_count": null,
            "_view_module": "@jupyter-widgets/base",
            "_view_module_version": "1.2.0",
            "_view_name": "LayoutView",
            "align_content": null,
            "align_items": null,
            "align_self": null,
            "border": null,
            "bottom": null,
            "display": null,
            "flex": null,
            "flex_flow": null,
            "grid_area": null,
            "grid_auto_columns": null,
            "grid_auto_flow": null,
            "grid_auto_rows": null,
            "grid_column": null,
            "grid_gap": null,
            "grid_row": null,
            "grid_template_areas": null,
            "grid_template_columns": null,
            "grid_template_rows": null,
            "height": null,
            "justify_content": null,
            "justify_items": null,
            "left": null,
            "margin": null,
            "max_height": null,
            "max_width": null,
            "min_height": null,
            "min_width": null,
            "object_fit": null,
            "object_position": null,
            "order": null,
            "overflow": null,
            "overflow_x": null,
            "overflow_y": null,
            "padding": null,
            "right": null,
            "top": null,
            "visibility": null,
            "width": null
          }
        },
        "18a05912103c4ad5981224efef4500e9": {
          "model_module": "@jupyter-widgets/base",
          "model_name": "LayoutModel",
          "model_module_version": "1.2.0",
          "state": {
            "_model_module": "@jupyter-widgets/base",
            "_model_module_version": "1.2.0",
            "_model_name": "LayoutModel",
            "_view_count": null,
            "_view_module": "@jupyter-widgets/base",
            "_view_module_version": "1.2.0",
            "_view_name": "LayoutView",
            "align_content": null,
            "align_items": null,
            "align_self": null,
            "border": null,
            "bottom": null,
            "display": null,
            "flex": null,
            "flex_flow": null,
            "grid_area": null,
            "grid_auto_columns": null,
            "grid_auto_flow": null,
            "grid_auto_rows": null,
            "grid_column": null,
            "grid_gap": null,
            "grid_row": null,
            "grid_template_areas": null,
            "grid_template_columns": null,
            "grid_template_rows": null,
            "height": null,
            "justify_content": null,
            "justify_items": null,
            "left": null,
            "margin": null,
            "max_height": null,
            "max_width": null,
            "min_height": null,
            "min_width": null,
            "object_fit": null,
            "object_position": null,
            "order": null,
            "overflow": null,
            "overflow_x": null,
            "overflow_y": null,
            "padding": null,
            "right": null,
            "top": null,
            "visibility": null,
            "width": null
          }
        },
        "684858584e2940eb8ed88bc11e36b63f": {
          "model_module": "@jupyter-widgets/controls",
          "model_name": "DescriptionStyleModel",
          "model_module_version": "1.5.0",
          "state": {
            "_model_module": "@jupyter-widgets/controls",
            "_model_module_version": "1.5.0",
            "_model_name": "DescriptionStyleModel",
            "_view_count": null,
            "_view_module": "@jupyter-widgets/base",
            "_view_module_version": "1.2.0",
            "_view_name": "StyleView",
            "description_width": ""
          }
        },
        "72150d268077463588df8d549c8a2e14": {
          "model_module": "@jupyter-widgets/base",
          "model_name": "LayoutModel",
          "model_module_version": "1.2.0",
          "state": {
            "_model_module": "@jupyter-widgets/base",
            "_model_module_version": "1.2.0",
            "_model_name": "LayoutModel",
            "_view_count": null,
            "_view_module": "@jupyter-widgets/base",
            "_view_module_version": "1.2.0",
            "_view_name": "LayoutView",
            "align_content": null,
            "align_items": null,
            "align_self": null,
            "border": null,
            "bottom": null,
            "display": null,
            "flex": null,
            "flex_flow": null,
            "grid_area": null,
            "grid_auto_columns": null,
            "grid_auto_flow": null,
            "grid_auto_rows": null,
            "grid_column": null,
            "grid_gap": null,
            "grid_row": null,
            "grid_template_areas": null,
            "grid_template_columns": null,
            "grid_template_rows": null,
            "height": null,
            "justify_content": null,
            "justify_items": null,
            "left": null,
            "margin": null,
            "max_height": null,
            "max_width": null,
            "min_height": null,
            "min_width": null,
            "object_fit": null,
            "object_position": null,
            "order": null,
            "overflow": null,
            "overflow_x": null,
            "overflow_y": null,
            "padding": null,
            "right": null,
            "top": null,
            "visibility": null,
            "width": null
          }
        },
        "8826e59cce0344029058b6c68d1a2b1f": {
          "model_module": "@jupyter-widgets/controls",
          "model_name": "ProgressStyleModel",
          "model_module_version": "1.5.0",
          "state": {
            "_model_module": "@jupyter-widgets/controls",
            "_model_module_version": "1.5.0",
            "_model_name": "ProgressStyleModel",
            "_view_count": null,
            "_view_module": "@jupyter-widgets/base",
            "_view_module_version": "1.2.0",
            "_view_name": "StyleView",
            "bar_color": null,
            "description_width": ""
          }
        },
        "558db32a9130407ea07455a3c6855105": {
          "model_module": "@jupyter-widgets/base",
          "model_name": "LayoutModel",
          "model_module_version": "1.2.0",
          "state": {
            "_model_module": "@jupyter-widgets/base",
            "_model_module_version": "1.2.0",
            "_model_name": "LayoutModel",
            "_view_count": null,
            "_view_module": "@jupyter-widgets/base",
            "_view_module_version": "1.2.0",
            "_view_name": "LayoutView",
            "align_content": null,
            "align_items": null,
            "align_self": null,
            "border": null,
            "bottom": null,
            "display": null,
            "flex": null,
            "flex_flow": null,
            "grid_area": null,
            "grid_auto_columns": null,
            "grid_auto_flow": null,
            "grid_auto_rows": null,
            "grid_column": null,
            "grid_gap": null,
            "grid_row": null,
            "grid_template_areas": null,
            "grid_template_columns": null,
            "grid_template_rows": null,
            "height": null,
            "justify_content": null,
            "justify_items": null,
            "left": null,
            "margin": null,
            "max_height": null,
            "max_width": null,
            "min_height": null,
            "min_width": null,
            "object_fit": null,
            "object_position": null,
            "order": null,
            "overflow": null,
            "overflow_x": null,
            "overflow_y": null,
            "padding": null,
            "right": null,
            "top": null,
            "visibility": null,
            "width": null
          }
        },
        "57b12373129f4c968b7bee1dc2edd967": {
          "model_module": "@jupyter-widgets/controls",
          "model_name": "DescriptionStyleModel",
          "model_module_version": "1.5.0",
          "state": {
            "_model_module": "@jupyter-widgets/controls",
            "_model_module_version": "1.5.0",
            "_model_name": "DescriptionStyleModel",
            "_view_count": null,
            "_view_module": "@jupyter-widgets/base",
            "_view_module_version": "1.2.0",
            "_view_name": "StyleView",
            "description_width": ""
          }
        },
        "22ad9134e79e41fa8521c8bdd5a4af43": {
          "model_module": "@jupyter-widgets/controls",
          "model_name": "HBoxModel",
          "model_module_version": "1.5.0",
          "state": {
            "_dom_classes": [],
            "_model_module": "@jupyter-widgets/controls",
            "_model_module_version": "1.5.0",
            "_model_name": "HBoxModel",
            "_view_count": null,
            "_view_module": "@jupyter-widgets/controls",
            "_view_module_version": "1.5.0",
            "_view_name": "HBoxView",
            "box_style": "",
            "children": [
              "IPY_MODEL_8a716b06f4d64a45a60a25b02ac3887a",
              "IPY_MODEL_703a03b44f6f40feab7b50525d51956e",
              "IPY_MODEL_0baaa190dd6b4add965a7c375a988970"
            ],
            "layout": "IPY_MODEL_b38ab313d1ae4abebfb108ba37839201"
          }
        },
        "8a716b06f4d64a45a60a25b02ac3887a": {
          "model_module": "@jupyter-widgets/controls",
          "model_name": "HTMLModel",
          "model_module_version": "1.5.0",
          "state": {
            "_dom_classes": [],
            "_model_module": "@jupyter-widgets/controls",
            "_model_module_version": "1.5.0",
            "_model_name": "HTMLModel",
            "_view_count": null,
            "_view_module": "@jupyter-widgets/controls",
            "_view_module_version": "1.5.0",
            "_view_name": "HTMLView",
            "description": "",
            "description_tooltip": null,
            "layout": "IPY_MODEL_a7128ebf7f1d423985eb70421c005f5e",
            "placeholder": "​",
            "style": "IPY_MODEL_c6193a83ea0e4fc1884541b94a88d266",
            "value": "Downloading (…)lve/main/config.json: 100%"
          }
        },
        "703a03b44f6f40feab7b50525d51956e": {
          "model_module": "@jupyter-widgets/controls",
          "model_name": "FloatProgressModel",
          "model_module_version": "1.5.0",
          "state": {
            "_dom_classes": [],
            "_model_module": "@jupyter-widgets/controls",
            "_model_module_version": "1.5.0",
            "_model_name": "FloatProgressModel",
            "_view_count": null,
            "_view_module": "@jupyter-widgets/controls",
            "_view_module_version": "1.5.0",
            "_view_name": "ProgressView",
            "bar_style": "success",
            "description": "",
            "description_tooltip": null,
            "layout": "IPY_MODEL_b89e202078d04105a58f90f5e71d164c",
            "max": 570,
            "min": 0,
            "orientation": "horizontal",
            "style": "IPY_MODEL_758c66e09d6142db958b54c89afc50e2",
            "value": 570
          }
        },
        "0baaa190dd6b4add965a7c375a988970": {
          "model_module": "@jupyter-widgets/controls",
          "model_name": "HTMLModel",
          "model_module_version": "1.5.0",
          "state": {
            "_dom_classes": [],
            "_model_module": "@jupyter-widgets/controls",
            "_model_module_version": "1.5.0",
            "_model_name": "HTMLModel",
            "_view_count": null,
            "_view_module": "@jupyter-widgets/controls",
            "_view_module_version": "1.5.0",
            "_view_name": "HTMLView",
            "description": "",
            "description_tooltip": null,
            "layout": "IPY_MODEL_88f3ed20d32d4c92a590aae0848114e0",
            "placeholder": "​",
            "style": "IPY_MODEL_63f9f80e52c342fbae7500828bc88158",
            "value": " 570/570 [00:00&lt;00:00, 44.4kB/s]"
          }
        },
        "b38ab313d1ae4abebfb108ba37839201": {
          "model_module": "@jupyter-widgets/base",
          "model_name": "LayoutModel",
          "model_module_version": "1.2.0",
          "state": {
            "_model_module": "@jupyter-widgets/base",
            "_model_module_version": "1.2.0",
            "_model_name": "LayoutModel",
            "_view_count": null,
            "_view_module": "@jupyter-widgets/base",
            "_view_module_version": "1.2.0",
            "_view_name": "LayoutView",
            "align_content": null,
            "align_items": null,
            "align_self": null,
            "border": null,
            "bottom": null,
            "display": null,
            "flex": null,
            "flex_flow": null,
            "grid_area": null,
            "grid_auto_columns": null,
            "grid_auto_flow": null,
            "grid_auto_rows": null,
            "grid_column": null,
            "grid_gap": null,
            "grid_row": null,
            "grid_template_areas": null,
            "grid_template_columns": null,
            "grid_template_rows": null,
            "height": null,
            "justify_content": null,
            "justify_items": null,
            "left": null,
            "margin": null,
            "max_height": null,
            "max_width": null,
            "min_height": null,
            "min_width": null,
            "object_fit": null,
            "object_position": null,
            "order": null,
            "overflow": null,
            "overflow_x": null,
            "overflow_y": null,
            "padding": null,
            "right": null,
            "top": null,
            "visibility": null,
            "width": null
          }
        },
        "a7128ebf7f1d423985eb70421c005f5e": {
          "model_module": "@jupyter-widgets/base",
          "model_name": "LayoutModel",
          "model_module_version": "1.2.0",
          "state": {
            "_model_module": "@jupyter-widgets/base",
            "_model_module_version": "1.2.0",
            "_model_name": "LayoutModel",
            "_view_count": null,
            "_view_module": "@jupyter-widgets/base",
            "_view_module_version": "1.2.0",
            "_view_name": "LayoutView",
            "align_content": null,
            "align_items": null,
            "align_self": null,
            "border": null,
            "bottom": null,
            "display": null,
            "flex": null,
            "flex_flow": null,
            "grid_area": null,
            "grid_auto_columns": null,
            "grid_auto_flow": null,
            "grid_auto_rows": null,
            "grid_column": null,
            "grid_gap": null,
            "grid_row": null,
            "grid_template_areas": null,
            "grid_template_columns": null,
            "grid_template_rows": null,
            "height": null,
            "justify_content": null,
            "justify_items": null,
            "left": null,
            "margin": null,
            "max_height": null,
            "max_width": null,
            "min_height": null,
            "min_width": null,
            "object_fit": null,
            "object_position": null,
            "order": null,
            "overflow": null,
            "overflow_x": null,
            "overflow_y": null,
            "padding": null,
            "right": null,
            "top": null,
            "visibility": null,
            "width": null
          }
        },
        "c6193a83ea0e4fc1884541b94a88d266": {
          "model_module": "@jupyter-widgets/controls",
          "model_name": "DescriptionStyleModel",
          "model_module_version": "1.5.0",
          "state": {
            "_model_module": "@jupyter-widgets/controls",
            "_model_module_version": "1.5.0",
            "_model_name": "DescriptionStyleModel",
            "_view_count": null,
            "_view_module": "@jupyter-widgets/base",
            "_view_module_version": "1.2.0",
            "_view_name": "StyleView",
            "description_width": ""
          }
        },
        "b89e202078d04105a58f90f5e71d164c": {
          "model_module": "@jupyter-widgets/base",
          "model_name": "LayoutModel",
          "model_module_version": "1.2.0",
          "state": {
            "_model_module": "@jupyter-widgets/base",
            "_model_module_version": "1.2.0",
            "_model_name": "LayoutModel",
            "_view_count": null,
            "_view_module": "@jupyter-widgets/base",
            "_view_module_version": "1.2.0",
            "_view_name": "LayoutView",
            "align_content": null,
            "align_items": null,
            "align_self": null,
            "border": null,
            "bottom": null,
            "display": null,
            "flex": null,
            "flex_flow": null,
            "grid_area": null,
            "grid_auto_columns": null,
            "grid_auto_flow": null,
            "grid_auto_rows": null,
            "grid_column": null,
            "grid_gap": null,
            "grid_row": null,
            "grid_template_areas": null,
            "grid_template_columns": null,
            "grid_template_rows": null,
            "height": null,
            "justify_content": null,
            "justify_items": null,
            "left": null,
            "margin": null,
            "max_height": null,
            "max_width": null,
            "min_height": null,
            "min_width": null,
            "object_fit": null,
            "object_position": null,
            "order": null,
            "overflow": null,
            "overflow_x": null,
            "overflow_y": null,
            "padding": null,
            "right": null,
            "top": null,
            "visibility": null,
            "width": null
          }
        },
        "758c66e09d6142db958b54c89afc50e2": {
          "model_module": "@jupyter-widgets/controls",
          "model_name": "ProgressStyleModel",
          "model_module_version": "1.5.0",
          "state": {
            "_model_module": "@jupyter-widgets/controls",
            "_model_module_version": "1.5.0",
            "_model_name": "ProgressStyleModel",
            "_view_count": null,
            "_view_module": "@jupyter-widgets/base",
            "_view_module_version": "1.2.0",
            "_view_name": "StyleView",
            "bar_color": null,
            "description_width": ""
          }
        },
        "88f3ed20d32d4c92a590aae0848114e0": {
          "model_module": "@jupyter-widgets/base",
          "model_name": "LayoutModel",
          "model_module_version": "1.2.0",
          "state": {
            "_model_module": "@jupyter-widgets/base",
            "_model_module_version": "1.2.0",
            "_model_name": "LayoutModel",
            "_view_count": null,
            "_view_module": "@jupyter-widgets/base",
            "_view_module_version": "1.2.0",
            "_view_name": "LayoutView",
            "align_content": null,
            "align_items": null,
            "align_self": null,
            "border": null,
            "bottom": null,
            "display": null,
            "flex": null,
            "flex_flow": null,
            "grid_area": null,
            "grid_auto_columns": null,
            "grid_auto_flow": null,
            "grid_auto_rows": null,
            "grid_column": null,
            "grid_gap": null,
            "grid_row": null,
            "grid_template_areas": null,
            "grid_template_columns": null,
            "grid_template_rows": null,
            "height": null,
            "justify_content": null,
            "justify_items": null,
            "left": null,
            "margin": null,
            "max_height": null,
            "max_width": null,
            "min_height": null,
            "min_width": null,
            "object_fit": null,
            "object_position": null,
            "order": null,
            "overflow": null,
            "overflow_x": null,
            "overflow_y": null,
            "padding": null,
            "right": null,
            "top": null,
            "visibility": null,
            "width": null
          }
        },
        "63f9f80e52c342fbae7500828bc88158": {
          "model_module": "@jupyter-widgets/controls",
          "model_name": "DescriptionStyleModel",
          "model_module_version": "1.5.0",
          "state": {
            "_model_module": "@jupyter-widgets/controls",
            "_model_module_version": "1.5.0",
            "_model_name": "DescriptionStyleModel",
            "_view_count": null,
            "_view_module": "@jupyter-widgets/base",
            "_view_module_version": "1.2.0",
            "_view_name": "StyleView",
            "description_width": ""
          }
        },
        "09b30532fb204ed494f9aeef61ccec6d": {
          "model_module": "@jupyter-widgets/controls",
          "model_name": "HBoxModel",
          "model_module_version": "1.5.0",
          "state": {
            "_dom_classes": [],
            "_model_module": "@jupyter-widgets/controls",
            "_model_module_version": "1.5.0",
            "_model_name": "HBoxModel",
            "_view_count": null,
            "_view_module": "@jupyter-widgets/controls",
            "_view_module_version": "1.5.0",
            "_view_name": "HBoxView",
            "box_style": "",
            "children": [
              "IPY_MODEL_21f2d060384645ffb5decaf37a6d8758",
              "IPY_MODEL_c9e11e5da94e46cfa970db6162dcf0c6",
              "IPY_MODEL_8f192e89ef924c098cc583f5d0e94053"
            ],
            "layout": "IPY_MODEL_42868d6477844884888657eca93a26d1"
          }
        },
        "21f2d060384645ffb5decaf37a6d8758": {
          "model_module": "@jupyter-widgets/controls",
          "model_name": "HTMLModel",
          "model_module_version": "1.5.0",
          "state": {
            "_dom_classes": [],
            "_model_module": "@jupyter-widgets/controls",
            "_model_module_version": "1.5.0",
            "_model_name": "HTMLModel",
            "_view_count": null,
            "_view_module": "@jupyter-widgets/controls",
            "_view_module_version": "1.5.0",
            "_view_name": "HTMLView",
            "description": "",
            "description_tooltip": null,
            "layout": "IPY_MODEL_8fec55d6358846ea957effb1b298682f",
            "placeholder": "​",
            "style": "IPY_MODEL_e1c3b51c26524265a5aca20a51448a72",
            "value": "Downloading model.safetensors: 100%"
          }
        },
        "c9e11e5da94e46cfa970db6162dcf0c6": {
          "model_module": "@jupyter-widgets/controls",
          "model_name": "FloatProgressModel",
          "model_module_version": "1.5.0",
          "state": {
            "_dom_classes": [],
            "_model_module": "@jupyter-widgets/controls",
            "_model_module_version": "1.5.0",
            "_model_name": "FloatProgressModel",
            "_view_count": null,
            "_view_module": "@jupyter-widgets/controls",
            "_view_module_version": "1.5.0",
            "_view_name": "ProgressView",
            "bar_style": "success",
            "description": "",
            "description_tooltip": null,
            "layout": "IPY_MODEL_4158cebaa8c7466d8f50f474e3145955",
            "max": 440449768,
            "min": 0,
            "orientation": "horizontal",
            "style": "IPY_MODEL_2f7c215310644beea485196715b3b352",
            "value": 440449768
          }
        },
        "8f192e89ef924c098cc583f5d0e94053": {
          "model_module": "@jupyter-widgets/controls",
          "model_name": "HTMLModel",
          "model_module_version": "1.5.0",
          "state": {
            "_dom_classes": [],
            "_model_module": "@jupyter-widgets/controls",
            "_model_module_version": "1.5.0",
            "_model_name": "HTMLModel",
            "_view_count": null,
            "_view_module": "@jupyter-widgets/controls",
            "_view_module_version": "1.5.0",
            "_view_name": "HTMLView",
            "description": "",
            "description_tooltip": null,
            "layout": "IPY_MODEL_58e5ca69f4d645f1a487272c1fdf2334",
            "placeholder": "​",
            "style": "IPY_MODEL_5d1b70ceec4f4fdcab00127c8e892cf3",
            "value": " 440M/440M [00:02&lt;00:00, 186MB/s]"
          }
        },
        "42868d6477844884888657eca93a26d1": {
          "model_module": "@jupyter-widgets/base",
          "model_name": "LayoutModel",
          "model_module_version": "1.2.0",
          "state": {
            "_model_module": "@jupyter-widgets/base",
            "_model_module_version": "1.2.0",
            "_model_name": "LayoutModel",
            "_view_count": null,
            "_view_module": "@jupyter-widgets/base",
            "_view_module_version": "1.2.0",
            "_view_name": "LayoutView",
            "align_content": null,
            "align_items": null,
            "align_self": null,
            "border": null,
            "bottom": null,
            "display": null,
            "flex": null,
            "flex_flow": null,
            "grid_area": null,
            "grid_auto_columns": null,
            "grid_auto_flow": null,
            "grid_auto_rows": null,
            "grid_column": null,
            "grid_gap": null,
            "grid_row": null,
            "grid_template_areas": null,
            "grid_template_columns": null,
            "grid_template_rows": null,
            "height": null,
            "justify_content": null,
            "justify_items": null,
            "left": null,
            "margin": null,
            "max_height": null,
            "max_width": null,
            "min_height": null,
            "min_width": null,
            "object_fit": null,
            "object_position": null,
            "order": null,
            "overflow": null,
            "overflow_x": null,
            "overflow_y": null,
            "padding": null,
            "right": null,
            "top": null,
            "visibility": null,
            "width": null
          }
        },
        "8fec55d6358846ea957effb1b298682f": {
          "model_module": "@jupyter-widgets/base",
          "model_name": "LayoutModel",
          "model_module_version": "1.2.0",
          "state": {
            "_model_module": "@jupyter-widgets/base",
            "_model_module_version": "1.2.0",
            "_model_name": "LayoutModel",
            "_view_count": null,
            "_view_module": "@jupyter-widgets/base",
            "_view_module_version": "1.2.0",
            "_view_name": "LayoutView",
            "align_content": null,
            "align_items": null,
            "align_self": null,
            "border": null,
            "bottom": null,
            "display": null,
            "flex": null,
            "flex_flow": null,
            "grid_area": null,
            "grid_auto_columns": null,
            "grid_auto_flow": null,
            "grid_auto_rows": null,
            "grid_column": null,
            "grid_gap": null,
            "grid_row": null,
            "grid_template_areas": null,
            "grid_template_columns": null,
            "grid_template_rows": null,
            "height": null,
            "justify_content": null,
            "justify_items": null,
            "left": null,
            "margin": null,
            "max_height": null,
            "max_width": null,
            "min_height": null,
            "min_width": null,
            "object_fit": null,
            "object_position": null,
            "order": null,
            "overflow": null,
            "overflow_x": null,
            "overflow_y": null,
            "padding": null,
            "right": null,
            "top": null,
            "visibility": null,
            "width": null
          }
        },
        "e1c3b51c26524265a5aca20a51448a72": {
          "model_module": "@jupyter-widgets/controls",
          "model_name": "DescriptionStyleModel",
          "model_module_version": "1.5.0",
          "state": {
            "_model_module": "@jupyter-widgets/controls",
            "_model_module_version": "1.5.0",
            "_model_name": "DescriptionStyleModel",
            "_view_count": null,
            "_view_module": "@jupyter-widgets/base",
            "_view_module_version": "1.2.0",
            "_view_name": "StyleView",
            "description_width": ""
          }
        },
        "4158cebaa8c7466d8f50f474e3145955": {
          "model_module": "@jupyter-widgets/base",
          "model_name": "LayoutModel",
          "model_module_version": "1.2.0",
          "state": {
            "_model_module": "@jupyter-widgets/base",
            "_model_module_version": "1.2.0",
            "_model_name": "LayoutModel",
            "_view_count": null,
            "_view_module": "@jupyter-widgets/base",
            "_view_module_version": "1.2.0",
            "_view_name": "LayoutView",
            "align_content": null,
            "align_items": null,
            "align_self": null,
            "border": null,
            "bottom": null,
            "display": null,
            "flex": null,
            "flex_flow": null,
            "grid_area": null,
            "grid_auto_columns": null,
            "grid_auto_flow": null,
            "grid_auto_rows": null,
            "grid_column": null,
            "grid_gap": null,
            "grid_row": null,
            "grid_template_areas": null,
            "grid_template_columns": null,
            "grid_template_rows": null,
            "height": null,
            "justify_content": null,
            "justify_items": null,
            "left": null,
            "margin": null,
            "max_height": null,
            "max_width": null,
            "min_height": null,
            "min_width": null,
            "object_fit": null,
            "object_position": null,
            "order": null,
            "overflow": null,
            "overflow_x": null,
            "overflow_y": null,
            "padding": null,
            "right": null,
            "top": null,
            "visibility": null,
            "width": null
          }
        },
        "2f7c215310644beea485196715b3b352": {
          "model_module": "@jupyter-widgets/controls",
          "model_name": "ProgressStyleModel",
          "model_module_version": "1.5.0",
          "state": {
            "_model_module": "@jupyter-widgets/controls",
            "_model_module_version": "1.5.0",
            "_model_name": "ProgressStyleModel",
            "_view_count": null,
            "_view_module": "@jupyter-widgets/base",
            "_view_module_version": "1.2.0",
            "_view_name": "StyleView",
            "bar_color": null,
            "description_width": ""
          }
        },
        "58e5ca69f4d645f1a487272c1fdf2334": {
          "model_module": "@jupyter-widgets/base",
          "model_name": "LayoutModel",
          "model_module_version": "1.2.0",
          "state": {
            "_model_module": "@jupyter-widgets/base",
            "_model_module_version": "1.2.0",
            "_model_name": "LayoutModel",
            "_view_count": null,
            "_view_module": "@jupyter-widgets/base",
            "_view_module_version": "1.2.0",
            "_view_name": "LayoutView",
            "align_content": null,
            "align_items": null,
            "align_self": null,
            "border": null,
            "bottom": null,
            "display": null,
            "flex": null,
            "flex_flow": null,
            "grid_area": null,
            "grid_auto_columns": null,
            "grid_auto_flow": null,
            "grid_auto_rows": null,
            "grid_column": null,
            "grid_gap": null,
            "grid_row": null,
            "grid_template_areas": null,
            "grid_template_columns": null,
            "grid_template_rows": null,
            "height": null,
            "justify_content": null,
            "justify_items": null,
            "left": null,
            "margin": null,
            "max_height": null,
            "max_width": null,
            "min_height": null,
            "min_width": null,
            "object_fit": null,
            "object_position": null,
            "order": null,
            "overflow": null,
            "overflow_x": null,
            "overflow_y": null,
            "padding": null,
            "right": null,
            "top": null,
            "visibility": null,
            "width": null
          }
        },
        "5d1b70ceec4f4fdcab00127c8e892cf3": {
          "model_module": "@jupyter-widgets/controls",
          "model_name": "DescriptionStyleModel",
          "model_module_version": "1.5.0",
          "state": {
            "_model_module": "@jupyter-widgets/controls",
            "_model_module_version": "1.5.0",
            "_model_name": "DescriptionStyleModel",
            "_view_count": null,
            "_view_module": "@jupyter-widgets/base",
            "_view_module_version": "1.2.0",
            "_view_name": "StyleView",
            "description_width": ""
          }
        }
      }
    }
  },
  "nbformat": 4,
  "nbformat_minor": 5
}