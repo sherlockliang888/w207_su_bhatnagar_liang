{
  "cells": [
    {
      "cell_type": "code",
      "source": [
        "!pip install transformers"
      ],
      "metadata": {
        "colab": {
          "base_uri": "https://localhost:8080/"
        },
        "id": "ZvMwXfyYf2DR",
        "outputId": "bb88ee68-69e8-4c49-dbf1-35db1bd092de"
      },
      "id": "ZvMwXfyYf2DR",
      "execution_count": 1,
      "outputs": [
        {
          "output_type": "stream",
          "name": "stdout",
          "text": [
            "Collecting transformers\n",
            "  Downloading transformers-4.35.0-py3-none-any.whl (7.9 MB)\n",
            "\u001b[2K     \u001b[90m━━━━━━━━━━━━━━━━━━━━━━━━━━━━━━━━━━━━━━━━\u001b[0m \u001b[32m7.9/7.9 MB\u001b[0m \u001b[31m18.1 MB/s\u001b[0m eta \u001b[36m0:00:00\u001b[0m\n",
            "\u001b[?25hRequirement already satisfied: filelock in /usr/local/lib/python3.10/dist-packages (from transformers) (3.13.1)\n",
            "Collecting huggingface-hub<1.0,>=0.16.4 (from transformers)\n",
            "  Downloading huggingface_hub-0.19.0-py3-none-any.whl (311 kB)\n",
            "\u001b[2K     \u001b[90m━━━━━━━━━━━━━━━━━━━━━━━━━━━━━━━━━━━━━━━━\u001b[0m \u001b[32m311.2/311.2 kB\u001b[0m \u001b[31m18.8 MB/s\u001b[0m eta \u001b[36m0:00:00\u001b[0m\n",
            "\u001b[?25hRequirement already satisfied: numpy>=1.17 in /usr/local/lib/python3.10/dist-packages (from transformers) (1.23.5)\n",
            "Requirement already satisfied: packaging>=20.0 in /usr/local/lib/python3.10/dist-packages (from transformers) (23.2)\n",
            "Requirement already satisfied: pyyaml>=5.1 in /usr/local/lib/python3.10/dist-packages (from transformers) (6.0.1)\n",
            "Requirement already satisfied: regex!=2019.12.17 in /usr/local/lib/python3.10/dist-packages (from transformers) (2023.6.3)\n",
            "Requirement already satisfied: requests in /usr/local/lib/python3.10/dist-packages (from transformers) (2.31.0)\n",
            "Collecting tokenizers<0.15,>=0.14 (from transformers)\n",
            "  Downloading tokenizers-0.14.1-cp310-cp310-manylinux_2_17_x86_64.manylinux2014_x86_64.whl (3.8 MB)\n",
            "\u001b[2K     \u001b[90m━━━━━━━━━━━━━━━━━━━━━━━━━━━━━━━━━━━━━━━━\u001b[0m \u001b[32m3.8/3.8 MB\u001b[0m \u001b[31m42.7 MB/s\u001b[0m eta \u001b[36m0:00:00\u001b[0m\n",
            "\u001b[?25hCollecting safetensors>=0.3.1 (from transformers)\n",
            "  Downloading safetensors-0.4.0-cp310-cp310-manylinux_2_17_x86_64.manylinux2014_x86_64.whl (1.3 MB)\n",
            "\u001b[2K     \u001b[90m━━━━━━━━━━━━━━━━━━━━━━━━━━━━━━━━━━━━━━━━\u001b[0m \u001b[32m1.3/1.3 MB\u001b[0m \u001b[31m56.4 MB/s\u001b[0m eta \u001b[36m0:00:00\u001b[0m\n",
            "\u001b[?25hRequirement already satisfied: tqdm>=4.27 in /usr/local/lib/python3.10/dist-packages (from transformers) (4.66.1)\n",
            "Requirement already satisfied: fsspec>=2023.5.0 in /usr/local/lib/python3.10/dist-packages (from huggingface-hub<1.0,>=0.16.4->transformers) (2023.6.0)\n",
            "Requirement already satisfied: typing-extensions>=3.7.4.3 in /usr/local/lib/python3.10/dist-packages (from huggingface-hub<1.0,>=0.16.4->transformers) (4.5.0)\n",
            "Collecting huggingface-hub<1.0,>=0.16.4 (from transformers)\n",
            "  Downloading huggingface_hub-0.17.3-py3-none-any.whl (295 kB)\n",
            "\u001b[2K     \u001b[90m━━━━━━━━━━━━━━━━━━━━━━━━━━━━━━━━━━━━━━━━\u001b[0m \u001b[32m295.0/295.0 kB\u001b[0m \u001b[31m30.5 MB/s\u001b[0m eta \u001b[36m0:00:00\u001b[0m\n",
            "\u001b[?25hRequirement already satisfied: charset-normalizer<4,>=2 in /usr/local/lib/python3.10/dist-packages (from requests->transformers) (3.3.2)\n",
            "Requirement already satisfied: idna<4,>=2.5 in /usr/local/lib/python3.10/dist-packages (from requests->transformers) (3.4)\n",
            "Requirement already satisfied: urllib3<3,>=1.21.1 in /usr/local/lib/python3.10/dist-packages (from requests->transformers) (2.0.7)\n",
            "Requirement already satisfied: certifi>=2017.4.17 in /usr/local/lib/python3.10/dist-packages (from requests->transformers) (2023.7.22)\n",
            "Installing collected packages: safetensors, huggingface-hub, tokenizers, transformers\n",
            "Successfully installed huggingface-hub-0.17.3 safetensors-0.4.0 tokenizers-0.14.1 transformers-4.35.0\n"
          ]
        }
      ]
    },
    {
      "cell_type": "code",
      "execution_count": 2,
      "id": "f113322e",
      "metadata": {
        "id": "f113322e"
      },
      "outputs": [],
      "source": [
        "# standard\n",
        "import pandas as pd\n",
        "import numpy as np\n",
        "import random\n",
        "import os\n",
        "\n",
        "# plots and images\n",
        "import seaborn as sns\n",
        "import matplotlib.pyplot as plt\n",
        "\n",
        "# ML from sklearn\n",
        "from sklearn.decomposition import PCA\n",
        "from sklearn.model_selection import train_test_split\n",
        "from imblearn.over_sampling import SMOTE\n",
        "from sklearn.feature_extraction.text import TfidfVectorizer\n",
        "from sklearn.ensemble import RandomForestClassifier\n",
        "from sklearn.metrics import classification_report\n",
        "from sklearn.preprocessing import LabelEncoder\n",
        "\n",
        "# tf, keras and torch\n",
        "import tensorflow as tf\n",
        "import tensorflow_datasets as tfds\n",
        "import torch\n",
        "from tensorflow.keras import Sequential\n",
        "from tensorflow.keras.layers import Dense\n",
        "from tensorflow.keras.layers import Embedding\n",
        "from tensorflow.keras.layers import GlobalAveragePooling1D\n",
        "from tensorflow.keras.layers import Dropout\n",
        "from torch.utils.data import DataLoader, TensorDataset, RandomSampler, SequentialSampler\n",
        "\n",
        "# text analysis\n",
        "import nltk\n",
        "from nltk.corpus import stopwords\n",
        "from wordcloud import WordCloud\n",
        "\n",
        "# Transformers\n",
        "from transformers import BertTokenizer, BertForSequenceClassification, AdamW\n",
        "from transformers import get_linear_schedule_with_warmup\n",
        "\n",
        "#  others\n",
        "import re\n",
        "from collections import Counter\n",
        "import itertools\n",
        "import warnings\n",
        "warnings.filterwarnings(\"ignore\")"
      ]
    },
    {
      "cell_type": "code",
      "execution_count": 3,
      "id": "dc2b7eaf",
      "metadata": {
        "colab": {
          "base_uri": "https://localhost:8080/",
          "height": 556
        },
        "id": "dc2b7eaf",
        "outputId": "cc71c50d-50f0-4cf3-b086-8bfdd7a86632"
      },
      "outputs": [
        {
          "output_type": "execute_result",
          "data": {
            "text/plain": [
              "   job_id                                      title            location  \\\n",
              "0       1                           Marketing Intern    US, NY, New York   \n",
              "1       2  Customer Service - Cloud Video Production      NZ, , Auckland   \n",
              "2       3    Commissioning Machinery Assistant (CMA)       US, IA, Wever   \n",
              "3       4          Account Executive - Washington DC  US, DC, Washington   \n",
              "4       5                        Bill Review Manager  US, FL, Fort Worth   \n",
              "\n",
              "  department salary_range                                    company_profile  \\\n",
              "0  Marketing          NaN  We're Food52, and we've created a groundbreaki...   \n",
              "1    Success          NaN  90 Seconds, the worlds Cloud Video Production ...   \n",
              "2        NaN          NaN  Valor Services provides Workforce Solutions th...   \n",
              "3      Sales          NaN  Our passion for improving quality of life thro...   \n",
              "4        NaN          NaN  SpotSource Solutions LLC is a Global Human Cap...   \n",
              "\n",
              "                                         description  \\\n",
              "0  Food52, a fast-growing, James Beard Award-winn...   \n",
              "1  Organised - Focused - Vibrant - Awesome!Do you...   \n",
              "2  Our client, located in Houston, is actively se...   \n",
              "3  THE COMPANY: ESRI – Environmental Systems Rese...   \n",
              "4  JOB TITLE: Itemization Review ManagerLOCATION:...   \n",
              "\n",
              "                                        requirements  \\\n",
              "0  Experience with content management systems a m...   \n",
              "1  What we expect from you:Your key responsibilit...   \n",
              "2  Implement pre-commissioning and commissioning ...   \n",
              "3  EDUCATION: Bachelor’s or Master’s in GIS, busi...   \n",
              "4  QUALIFICATIONS:RN license in the State of Texa...   \n",
              "\n",
              "                                            benefits  telecommuting  \\\n",
              "0                                                NaN              0   \n",
              "1  What you will get from usThrough being part of...              0   \n",
              "2                                                NaN              0   \n",
              "3  Our culture is anything but corporate—we have ...              0   \n",
              "4                              Full Benefits Offered              0   \n",
              "\n",
              "   has_company_logo  has_questions employment_type required_experience  \\\n",
              "0                 1              0           Other          Internship   \n",
              "1                 1              0       Full-time      Not Applicable   \n",
              "2                 1              0             NaN                 NaN   \n",
              "3                 1              0       Full-time    Mid-Senior level   \n",
              "4                 1              1       Full-time    Mid-Senior level   \n",
              "\n",
              "  required_education                   industry              function  \\\n",
              "0                NaN                        NaN             Marketing   \n",
              "1                NaN  Marketing and Advertising      Customer Service   \n",
              "2                NaN                        NaN                   NaN   \n",
              "3  Bachelor's Degree          Computer Software                 Sales   \n",
              "4  Bachelor's Degree     Hospital & Health Care  Health Care Provider   \n",
              "\n",
              "   fraudulent  \n",
              "0           0  \n",
              "1           0  \n",
              "2           0  \n",
              "3           0  \n",
              "4           0  "
            ],
            "text/html": [
              "\n",
              "  <div id=\"df-b2dae2b6-a6cf-43bc-8175-44a412109eb0\" class=\"colab-df-container\">\n",
              "    <div>\n",
              "<style scoped>\n",
              "    .dataframe tbody tr th:only-of-type {\n",
              "        vertical-align: middle;\n",
              "    }\n",
              "\n",
              "    .dataframe tbody tr th {\n",
              "        vertical-align: top;\n",
              "    }\n",
              "\n",
              "    .dataframe thead th {\n",
              "        text-align: right;\n",
              "    }\n",
              "</style>\n",
              "<table border=\"1\" class=\"dataframe\">\n",
              "  <thead>\n",
              "    <tr style=\"text-align: right;\">\n",
              "      <th></th>\n",
              "      <th>job_id</th>\n",
              "      <th>title</th>\n",
              "      <th>location</th>\n",
              "      <th>department</th>\n",
              "      <th>salary_range</th>\n",
              "      <th>company_profile</th>\n",
              "      <th>description</th>\n",
              "      <th>requirements</th>\n",
              "      <th>benefits</th>\n",
              "      <th>telecommuting</th>\n",
              "      <th>has_company_logo</th>\n",
              "      <th>has_questions</th>\n",
              "      <th>employment_type</th>\n",
              "      <th>required_experience</th>\n",
              "      <th>required_education</th>\n",
              "      <th>industry</th>\n",
              "      <th>function</th>\n",
              "      <th>fraudulent</th>\n",
              "    </tr>\n",
              "  </thead>\n",
              "  <tbody>\n",
              "    <tr>\n",
              "      <th>0</th>\n",
              "      <td>1</td>\n",
              "      <td>Marketing Intern</td>\n",
              "      <td>US, NY, New York</td>\n",
              "      <td>Marketing</td>\n",
              "      <td>NaN</td>\n",
              "      <td>We're Food52, and we've created a groundbreaki...</td>\n",
              "      <td>Food52, a fast-growing, James Beard Award-winn...</td>\n",
              "      <td>Experience with content management systems a m...</td>\n",
              "      <td>NaN</td>\n",
              "      <td>0</td>\n",
              "      <td>1</td>\n",
              "      <td>0</td>\n",
              "      <td>Other</td>\n",
              "      <td>Internship</td>\n",
              "      <td>NaN</td>\n",
              "      <td>NaN</td>\n",
              "      <td>Marketing</td>\n",
              "      <td>0</td>\n",
              "    </tr>\n",
              "    <tr>\n",
              "      <th>1</th>\n",
              "      <td>2</td>\n",
              "      <td>Customer Service - Cloud Video Production</td>\n",
              "      <td>NZ, , Auckland</td>\n",
              "      <td>Success</td>\n",
              "      <td>NaN</td>\n",
              "      <td>90 Seconds, the worlds Cloud Video Production ...</td>\n",
              "      <td>Organised - Focused - Vibrant - Awesome!Do you...</td>\n",
              "      <td>What we expect from you:Your key responsibilit...</td>\n",
              "      <td>What you will get from usThrough being part of...</td>\n",
              "      <td>0</td>\n",
              "      <td>1</td>\n",
              "      <td>0</td>\n",
              "      <td>Full-time</td>\n",
              "      <td>Not Applicable</td>\n",
              "      <td>NaN</td>\n",
              "      <td>Marketing and Advertising</td>\n",
              "      <td>Customer Service</td>\n",
              "      <td>0</td>\n",
              "    </tr>\n",
              "    <tr>\n",
              "      <th>2</th>\n",
              "      <td>3</td>\n",
              "      <td>Commissioning Machinery Assistant (CMA)</td>\n",
              "      <td>US, IA, Wever</td>\n",
              "      <td>NaN</td>\n",
              "      <td>NaN</td>\n",
              "      <td>Valor Services provides Workforce Solutions th...</td>\n",
              "      <td>Our client, located in Houston, is actively se...</td>\n",
              "      <td>Implement pre-commissioning and commissioning ...</td>\n",
              "      <td>NaN</td>\n",
              "      <td>0</td>\n",
              "      <td>1</td>\n",
              "      <td>0</td>\n",
              "      <td>NaN</td>\n",
              "      <td>NaN</td>\n",
              "      <td>NaN</td>\n",
              "      <td>NaN</td>\n",
              "      <td>NaN</td>\n",
              "      <td>0</td>\n",
              "    </tr>\n",
              "    <tr>\n",
              "      <th>3</th>\n",
              "      <td>4</td>\n",
              "      <td>Account Executive - Washington DC</td>\n",
              "      <td>US, DC, Washington</td>\n",
              "      <td>Sales</td>\n",
              "      <td>NaN</td>\n",
              "      <td>Our passion for improving quality of life thro...</td>\n",
              "      <td>THE COMPANY: ESRI – Environmental Systems Rese...</td>\n",
              "      <td>EDUCATION: Bachelor’s or Master’s in GIS, busi...</td>\n",
              "      <td>Our culture is anything but corporate—we have ...</td>\n",
              "      <td>0</td>\n",
              "      <td>1</td>\n",
              "      <td>0</td>\n",
              "      <td>Full-time</td>\n",
              "      <td>Mid-Senior level</td>\n",
              "      <td>Bachelor's Degree</td>\n",
              "      <td>Computer Software</td>\n",
              "      <td>Sales</td>\n",
              "      <td>0</td>\n",
              "    </tr>\n",
              "    <tr>\n",
              "      <th>4</th>\n",
              "      <td>5</td>\n",
              "      <td>Bill Review Manager</td>\n",
              "      <td>US, FL, Fort Worth</td>\n",
              "      <td>NaN</td>\n",
              "      <td>NaN</td>\n",
              "      <td>SpotSource Solutions LLC is a Global Human Cap...</td>\n",
              "      <td>JOB TITLE: Itemization Review ManagerLOCATION:...</td>\n",
              "      <td>QUALIFICATIONS:RN license in the State of Texa...</td>\n",
              "      <td>Full Benefits Offered</td>\n",
              "      <td>0</td>\n",
              "      <td>1</td>\n",
              "      <td>1</td>\n",
              "      <td>Full-time</td>\n",
              "      <td>Mid-Senior level</td>\n",
              "      <td>Bachelor's Degree</td>\n",
              "      <td>Hospital &amp; Health Care</td>\n",
              "      <td>Health Care Provider</td>\n",
              "      <td>0</td>\n",
              "    </tr>\n",
              "  </tbody>\n",
              "</table>\n",
              "</div>\n",
              "    <div class=\"colab-df-buttons\">\n",
              "\n",
              "  <div class=\"colab-df-container\">\n",
              "    <button class=\"colab-df-convert\" onclick=\"convertToInteractive('df-b2dae2b6-a6cf-43bc-8175-44a412109eb0')\"\n",
              "            title=\"Convert this dataframe to an interactive table.\"\n",
              "            style=\"display:none;\">\n",
              "\n",
              "  <svg xmlns=\"http://www.w3.org/2000/svg\" height=\"24px\" viewBox=\"0 -960 960 960\">\n",
              "    <path d=\"M120-120v-720h720v720H120Zm60-500h600v-160H180v160Zm220 220h160v-160H400v160Zm0 220h160v-160H400v160ZM180-400h160v-160H180v160Zm440 0h160v-160H620v160ZM180-180h160v-160H180v160Zm440 0h160v-160H620v160Z\"/>\n",
              "  </svg>\n",
              "    </button>\n",
              "\n",
              "  <style>\n",
              "    .colab-df-container {\n",
              "      display:flex;\n",
              "      gap: 12px;\n",
              "    }\n",
              "\n",
              "    .colab-df-convert {\n",
              "      background-color: #E8F0FE;\n",
              "      border: none;\n",
              "      border-radius: 50%;\n",
              "      cursor: pointer;\n",
              "      display: none;\n",
              "      fill: #1967D2;\n",
              "      height: 32px;\n",
              "      padding: 0 0 0 0;\n",
              "      width: 32px;\n",
              "    }\n",
              "\n",
              "    .colab-df-convert:hover {\n",
              "      background-color: #E2EBFA;\n",
              "      box-shadow: 0px 1px 2px rgba(60, 64, 67, 0.3), 0px 1px 3px 1px rgba(60, 64, 67, 0.15);\n",
              "      fill: #174EA6;\n",
              "    }\n",
              "\n",
              "    .colab-df-buttons div {\n",
              "      margin-bottom: 4px;\n",
              "    }\n",
              "\n",
              "    [theme=dark] .colab-df-convert {\n",
              "      background-color: #3B4455;\n",
              "      fill: #D2E3FC;\n",
              "    }\n",
              "\n",
              "    [theme=dark] .colab-df-convert:hover {\n",
              "      background-color: #434B5C;\n",
              "      box-shadow: 0px 1px 3px 1px rgba(0, 0, 0, 0.15);\n",
              "      filter: drop-shadow(0px 1px 2px rgba(0, 0, 0, 0.3));\n",
              "      fill: #FFFFFF;\n",
              "    }\n",
              "  </style>\n",
              "\n",
              "    <script>\n",
              "      const buttonEl =\n",
              "        document.querySelector('#df-b2dae2b6-a6cf-43bc-8175-44a412109eb0 button.colab-df-convert');\n",
              "      buttonEl.style.display =\n",
              "        google.colab.kernel.accessAllowed ? 'block' : 'none';\n",
              "\n",
              "      async function convertToInteractive(key) {\n",
              "        const element = document.querySelector('#df-b2dae2b6-a6cf-43bc-8175-44a412109eb0');\n",
              "        const dataTable =\n",
              "          await google.colab.kernel.invokeFunction('convertToInteractive',\n",
              "                                                    [key], {});\n",
              "        if (!dataTable) return;\n",
              "\n",
              "        const docLinkHtml = 'Like what you see? Visit the ' +\n",
              "          '<a target=\"_blank\" href=https://colab.research.google.com/notebooks/data_table.ipynb>data table notebook</a>'\n",
              "          + ' to learn more about interactive tables.';\n",
              "        element.innerHTML = '';\n",
              "        dataTable['output_type'] = 'display_data';\n",
              "        await google.colab.output.renderOutput(dataTable, element);\n",
              "        const docLink = document.createElement('div');\n",
              "        docLink.innerHTML = docLinkHtml;\n",
              "        element.appendChild(docLink);\n",
              "      }\n",
              "    </script>\n",
              "  </div>\n",
              "\n",
              "\n",
              "<div id=\"df-8521f7c4-7a68-4d92-b179-830e5e0a80af\">\n",
              "  <button class=\"colab-df-quickchart\" onclick=\"quickchart('df-8521f7c4-7a68-4d92-b179-830e5e0a80af')\"\n",
              "            title=\"Suggest charts\"\n",
              "            style=\"display:none;\">\n",
              "\n",
              "<svg xmlns=\"http://www.w3.org/2000/svg\" height=\"24px\"viewBox=\"0 0 24 24\"\n",
              "     width=\"24px\">\n",
              "    <g>\n",
              "        <path d=\"M19 3H5c-1.1 0-2 .9-2 2v14c0 1.1.9 2 2 2h14c1.1 0 2-.9 2-2V5c0-1.1-.9-2-2-2zM9 17H7v-7h2v7zm4 0h-2V7h2v10zm4 0h-2v-4h2v4z\"/>\n",
              "    </g>\n",
              "</svg>\n",
              "  </button>\n",
              "\n",
              "<style>\n",
              "  .colab-df-quickchart {\n",
              "      --bg-color: #E8F0FE;\n",
              "      --fill-color: #1967D2;\n",
              "      --hover-bg-color: #E2EBFA;\n",
              "      --hover-fill-color: #174EA6;\n",
              "      --disabled-fill-color: #AAA;\n",
              "      --disabled-bg-color: #DDD;\n",
              "  }\n",
              "\n",
              "  [theme=dark] .colab-df-quickchart {\n",
              "      --bg-color: #3B4455;\n",
              "      --fill-color: #D2E3FC;\n",
              "      --hover-bg-color: #434B5C;\n",
              "      --hover-fill-color: #FFFFFF;\n",
              "      --disabled-bg-color: #3B4455;\n",
              "      --disabled-fill-color: #666;\n",
              "  }\n",
              "\n",
              "  .colab-df-quickchart {\n",
              "    background-color: var(--bg-color);\n",
              "    border: none;\n",
              "    border-radius: 50%;\n",
              "    cursor: pointer;\n",
              "    display: none;\n",
              "    fill: var(--fill-color);\n",
              "    height: 32px;\n",
              "    padding: 0;\n",
              "    width: 32px;\n",
              "  }\n",
              "\n",
              "  .colab-df-quickchart:hover {\n",
              "    background-color: var(--hover-bg-color);\n",
              "    box-shadow: 0 1px 2px rgba(60, 64, 67, 0.3), 0 1px 3px 1px rgba(60, 64, 67, 0.15);\n",
              "    fill: var(--button-hover-fill-color);\n",
              "  }\n",
              "\n",
              "  .colab-df-quickchart-complete:disabled,\n",
              "  .colab-df-quickchart-complete:disabled:hover {\n",
              "    background-color: var(--disabled-bg-color);\n",
              "    fill: var(--disabled-fill-color);\n",
              "    box-shadow: none;\n",
              "  }\n",
              "\n",
              "  .colab-df-spinner {\n",
              "    border: 2px solid var(--fill-color);\n",
              "    border-color: transparent;\n",
              "    border-bottom-color: var(--fill-color);\n",
              "    animation:\n",
              "      spin 1s steps(1) infinite;\n",
              "  }\n",
              "\n",
              "  @keyframes spin {\n",
              "    0% {\n",
              "      border-color: transparent;\n",
              "      border-bottom-color: var(--fill-color);\n",
              "      border-left-color: var(--fill-color);\n",
              "    }\n",
              "    20% {\n",
              "      border-color: transparent;\n",
              "      border-left-color: var(--fill-color);\n",
              "      border-top-color: var(--fill-color);\n",
              "    }\n",
              "    30% {\n",
              "      border-color: transparent;\n",
              "      border-left-color: var(--fill-color);\n",
              "      border-top-color: var(--fill-color);\n",
              "      border-right-color: var(--fill-color);\n",
              "    }\n",
              "    40% {\n",
              "      border-color: transparent;\n",
              "      border-right-color: var(--fill-color);\n",
              "      border-top-color: var(--fill-color);\n",
              "    }\n",
              "    60% {\n",
              "      border-color: transparent;\n",
              "      border-right-color: var(--fill-color);\n",
              "    }\n",
              "    80% {\n",
              "      border-color: transparent;\n",
              "      border-right-color: var(--fill-color);\n",
              "      border-bottom-color: var(--fill-color);\n",
              "    }\n",
              "    90% {\n",
              "      border-color: transparent;\n",
              "      border-bottom-color: var(--fill-color);\n",
              "    }\n",
              "  }\n",
              "</style>\n",
              "\n",
              "  <script>\n",
              "    async function quickchart(key) {\n",
              "      const quickchartButtonEl =\n",
              "        document.querySelector('#' + key + ' button');\n",
              "      quickchartButtonEl.disabled = true;  // To prevent multiple clicks.\n",
              "      quickchartButtonEl.classList.add('colab-df-spinner');\n",
              "      try {\n",
              "        const charts = await google.colab.kernel.invokeFunction(\n",
              "            'suggestCharts', [key], {});\n",
              "      } catch (error) {\n",
              "        console.error('Error during call to suggestCharts:', error);\n",
              "      }\n",
              "      quickchartButtonEl.classList.remove('colab-df-spinner');\n",
              "      quickchartButtonEl.classList.add('colab-df-quickchart-complete');\n",
              "    }\n",
              "    (() => {\n",
              "      let quickchartButtonEl =\n",
              "        document.querySelector('#df-8521f7c4-7a68-4d92-b179-830e5e0a80af button');\n",
              "      quickchartButtonEl.style.display =\n",
              "        google.colab.kernel.accessAllowed ? 'block' : 'none';\n",
              "    })();\n",
              "  </script>\n",
              "</div>\n",
              "    </div>\n",
              "  </div>\n"
            ]
          },
          "metadata": {},
          "execution_count": 3
        }
      ],
      "source": [
        "df = pd.read_csv(\"fake_job_postings.csv\")\n",
        "df.head()"
      ]
    },
    {
      "cell_type": "markdown",
      "source": [
        "A few of the text variables are kept for additional text analysis:\n",
        "\n",
        "*   title: The job title or position being advertised.\n",
        "*   location: The location or place where the job is located.\n",
        "*   department: The department or division within the company related to the job.\n",
        "*   company_profile: Information about the company, possibly including its history, mission, and culture.\n",
        "*   description: A detailed description of the job, its responsibilities, and requirements.\n",
        "*   requirements: The qualifications, skills, and experience required for the job.\n",
        "*   benefits: The benefits or perks associated with the job, such as health insurance, retirement plans, or other incentives.\n",
        "*   employment_type: The type of employment, such as full-time, part-time, contract, or temporary.\n",
        "*   required_experience: The level of experience (e.g., entry-level, mid-level, senior) expected for the job.\n",
        "required_education: The minimum educational qualifications or degrees required for the job.\n",
        "*   industry: The industry or sector to which the company belongs (e.g., technology, healthcare, finance).\n",
        "*   function: The specific function or role of the job within the company (e.g., marketing, engineering, sales).\n",
        "*   fraudulent: A binary variable indicating whether the job posting is fraudulent (1) or legitimate (0).\n",
        "\n",
        "Missing values can cause issues when you're working with the data, such as errors during analysis or when training machine learning models. Filling in missing values with blank spaces here can help mitigate these issues. The data is then subsetted into two based on whether the job posting is potentially fraudulent or legitimate."
      ],
      "metadata": {
        "id": "2BkpAKnakcg-"
      },
      "id": "2BkpAKnakcg-"
    },
    {
      "cell_type": "code",
      "execution_count": 4,
      "id": "74e700f5",
      "metadata": {
        "id": "74e700f5"
      },
      "outputs": [],
      "source": [
        "df_text = df[['title', 'location', 'department',\n",
        "       'company_profile', 'description', 'requirements', 'benefits',\n",
        "       'employment_type', 'required_experience', 'required_education', 'industry', 'function', 'fraudulent']]\n",
        "df_text = df_text.fillna(' ')"
      ]
    },
    {
      "cell_type": "code",
      "execution_count": 5,
      "id": "4b56bc0c",
      "metadata": {
        "id": "4b56bc0c"
      },
      "outputs": [],
      "source": [
        "def preprocessor(text):\n",
        "    text = re.sub('<[^>]*>', '', text)\n",
        "    emoticons = re.findall('(?::|;|=)(?:-)?(?:\\)|\\(|D|P)',\n",
        "                           text)\n",
        "    text = (re.sub('[\\W]+', ' ', text.lower()) +\n",
        "            ' '.join(emoticons).replace('-', ''))\n",
        "    return text\n",
        "\n",
        "columns_to_process = ['title', 'location', 'department',\n",
        "       'company_profile', 'description', 'requirements', 'benefits',\n",
        "       'employment_type', 'required_experience', 'required_education', 'industry', 'function']\n",
        "for column in columns_to_process:\n",
        "    df_text[column] = df_text[column].apply(preprocessor)\n",
        "\n",
        "df_text_fraud = df_text.loc[df_text.fraudulent == 1]\n",
        "df_text_real = df_text.loc[df_text.fraudulent == 0]"
      ]
    },
    {
      "cell_type": "code",
      "execution_count": 6,
      "id": "bfbf6813",
      "metadata": {
        "colab": {
          "base_uri": "https://localhost:8080/"
        },
        "id": "bfbf6813",
        "outputId": "abb61223-d948-4d71-a362-8dddbb1a50b0"
      },
      "outputs": [
        {
          "output_type": "stream",
          "name": "stderr",
          "text": [
            "[nltk_data] Downloading package stopwords to /root/nltk_data...\n",
            "[nltk_data]   Unzipping corpora/stopwords.zip.\n"
          ]
        }
      ],
      "source": [
        "nltk.download('stopwords')\n",
        "\n",
        "# Define a list of stop words\n",
        "stop_words = set(stopwords.words('english'))\n",
        "stop_words.add('level') # adding another word that appears frequently but doesn't add much value in analysis"
      ]
    },
    {
      "cell_type": "code",
      "execution_count": 7,
      "id": "c8f2425c",
      "metadata": {
        "id": "c8f2425c"
      },
      "outputs": [],
      "source": [
        "def get_top_words(column, n=10):\n",
        "    if column.dtype == 'object':\n",
        "        words = [word for word in itertools.chain(*column.str.split()) if word.lower() not in stop_words]\n",
        "        word_counts = Counter(words)\n",
        "        top_words = dict(word_counts.most_common(n))\n",
        "        return top_words\n",
        "    else:\n",
        "        return {}\n",
        "\n",
        "# Get the top words for each category\n",
        "top_words_fraud = {}\n",
        "top_words_real = {}\n",
        "\n",
        "for column in df_text_fraud.columns:\n",
        "    top_words_fraud[column] = get_top_words(df_text_fraud[column])\n",
        "\n",
        "for column in df_text_real.columns:\n",
        "    top_words_real[column] = get_top_words(df_text_real[column])"
      ]
    },
    {
      "cell_type": "markdown",
      "source": [
        "The text data is then processed from two categories of job postings (fraudulent and legitimate) to identify the most common words in each category. This information can be useful as we will be able to understand the key terms used in each category or identifying potential indicators of fraudulent job postings."
      ],
      "metadata": {
        "id": "By3p-_Xx6l5u"
      },
      "id": "By3p-_Xx6l5u"
    },
    {
      "cell_type": "markdown",
      "id": "c58afba2",
      "metadata": {
        "id": "c58afba2"
      },
      "source": [
        "## Word Frequency"
      ]
    },
    {
      "cell_type": "code",
      "execution_count": 8,
      "id": "d93ebd94",
      "metadata": {
        "colab": {
          "base_uri": "https://localhost:8080/",
          "height": 968
        },
        "id": "d93ebd94",
        "outputId": "8332a25b-1bb3-457a-fdb5-252cee94f53e"
      },
      "outputs": [
        {
          "output_type": "display_data",
          "data": {
            "text/plain": [
              "<Figure size 1500x1500 with 6 Axes>"
            ],
            "image/png": "[encoded data removed]"
          },
          "metadata": {}
        }
      ],
      "source": [
        "# Create subplots for each category (3 in a row)\n",
        "top_words_real = {key: value for key, value in top_words_real.items() if key not in ['fraudulent', 'location',\n",
        "                                                                                     'company_profile', 'benefits',\n",
        "                                                                                    'employment_type', 'description',\n",
        "                                                                                    'requirements']}\n",
        "categories = list(top_words_real.keys())\n",
        "num_categories = len(categories)\n",
        "num_plots_per_row = 3\n",
        "\n",
        "fig, axes = plt.subplots(\n",
        "    num_categories // num_plots_per_row + 1, num_plots_per_row,\n",
        "    figsize=(15, 5 * (num_categories // num_plots_per_row + 1)))\n",
        "\n",
        "for i, (category, values) in enumerate(top_words_real.items()):\n",
        "    words = list(values.keys())\n",
        "    counts = list(values.values())\n",
        "\n",
        "    ax = axes[i // num_plots_per_row, i % num_plots_per_row]\n",
        "    ax.bar(words, counts, color='skyblue')\n",
        "    ax.set_xlabel('Words')\n",
        "    ax.set_ylabel('Count')\n",
        "    ax.set_title(f'Top Words in \"{category}\" Category')\n",
        "\n",
        "    # Rotate the x-axis labels to 45 degrees\n",
        "    ax.tick_params(axis='x', rotation=45)\n",
        "\n",
        "# Remove any empty subplots\n",
        "for i in range(len(categories), len(axes.ravel())):\n",
        "    fig.delaxes(axes.ravel()[i])\n",
        "\n",
        "plt.tight_layout()\n",
        "plt.show()"
      ]
    },
    {
      "cell_type": "code",
      "execution_count": 9,
      "id": "989128aa",
      "metadata": {
        "colab": {
          "base_uri": "https://localhost:8080/",
          "height": 969
        },
        "id": "989128aa",
        "outputId": "ff303cc5-ec41-47de-d1b2-ad2fc1b1e7a0"
      },
      "outputs": [
        {
          "output_type": "display_data",
          "data": {
            "text/plain": [
              "<Figure size 1500x1500 with 6 Axes>"
            ],
            "image/png": "[encoded data removed]"
          },
          "metadata": {}
        }
      ],
      "source": [
        "# Create subplots for each category (3 in a row)\n",
        "top_words_fraud = {key: value for key, value in top_words_fraud.items() if key not in ['fraudulent', 'location',\n",
        "                                                                                     'company_profile', 'benefits',\n",
        "                                                                                    'employment_type', 'description',\n",
        "                                                                                    'requirements']}\n",
        "categories = list(top_words_fraud.keys())\n",
        "num_categories = len(categories)\n",
        "num_plots_per_row = 3\n",
        "\n",
        "fig, axes = plt.subplots(\n",
        "    num_categories // num_plots_per_row + 1, num_plots_per_row,\n",
        "    figsize=(15, 5 * (num_categories // num_plots_per_row + 1)))\n",
        "\n",
        "for i, (category, values) in enumerate(top_words_fraud.items()):\n",
        "    words = list(values.keys())\n",
        "    counts = list(values.values())\n",
        "\n",
        "    ax = axes[i // num_plots_per_row, i % num_plots_per_row]\n",
        "    ax.bar(words, counts, color='#FFA07A')\n",
        "    ax.set_xlabel('Words')\n",
        "    ax.set_ylabel('Count')\n",
        "    ax.set_title(f'Top Words in \"{category}\" Category')\n",
        "\n",
        "    # Rotate the x-axis labels to 45 degrees\n",
        "    ax.tick_params(axis='x', rotation=45)\n",
        "\n",
        "# Remove any empty subplots\n",
        "for i in range(len(categories), len(axes.ravel())):\n",
        "    fig.delaxes(axes.ravel()[i])\n",
        "\n",
        "plt.tight_layout()\n",
        "plt.show()"
      ]
    },
    {
      "cell_type": "markdown",
      "source": [
        "Potentially fraudulent job postings often contain terms associated with low-skill or entry-level positions, while legitimate job postings have a more diverse range of experience requirements.\n",
        "\n",
        "The industries and functions associated with potentially fraudulent job postings are more varied, such as 'oil,' 'energy,' 'services,' 'health,' and 'accounting', whereas legitimate job postings are concentrated in specific industries and functions such as 'services,' 'information,' 'technology,' and 'computer'.\n",
        "\n",
        "Specific words in job titles, departments, and educational requirements can help distinguish potentially fraudulent postings from legitimate ones. For instance, fraudulent job postings have most of the required eduation as in high school, while legitimate postings a degreed education."
      ],
      "metadata": {
        "id": "GHRLrgai_TVG"
      },
      "id": "GHRLrgai_TVG"
    },
    {
      "cell_type": "markdown",
      "id": "8c83f3b4",
      "metadata": {
        "id": "8c83f3b4"
      },
      "source": [
        "## Embeddings"
      ]
    },
    {
      "cell_type": "code",
      "execution_count": 10,
      "id": "264d2754",
      "metadata": {
        "id": "264d2754"
      },
      "outputs": [],
      "source": [
        "df_text['text_analysis'] = df_text['company_profile'] + ' ' + \\\n",
        "                           df_text['benefits'] + ' ' + \\\n",
        "                           df_text['description'] + ' ' + \\\n",
        "                           df_text['requirements']\n",
        "df_text_analysis = df_text[[ 'text_analysis','fraudulent', ]]"
      ]
    },
    {
      "cell_type": "code",
      "execution_count": 11,
      "id": "7b0565e2",
      "metadata": {
        "scrolled": true,
        "colab": {
          "base_uri": "https://localhost:8080/",
          "height": 290
        },
        "id": "7b0565e2",
        "outputId": "17ceeb77-f8f5-420a-f002-a62bb643c3a7"
      },
      "outputs": [
        {
          "output_type": "display_data",
          "data": {
            "text/plain": [
              "<Figure size 300x300 with 1 Axes>"
            ],
            "image/png": "[encoded data removed]"
          },
          "metadata": {}
        }
      ],
      "source": [
        "# Count the values in the \"fraudulent\" column\n",
        "value_counts = df_text_analysis['fraudulent'].value_counts(dropna=False)\n",
        "\n",
        "plt.figure(figsize=(3, 3))\n",
        "plt.pie(value_counts, labels=value_counts.index, autopct='%1.1f%%', startangle=140)\n",
        "plt.title(\"Distribution of 'fraudulent' Column\")\n",
        "plt.show()\n"
      ]
    },
    {
      "cell_type": "markdown",
      "id": "487aaa7b",
      "metadata": {
        "id": "487aaa7b"
      },
      "source": [
        "## Dealing with data imbalance with Oversampling + RF"
      ]
    },
    {
      "cell_type": "code",
      "execution_count": 12,
      "id": "7f21bda2",
      "metadata": {
        "colab": {
          "base_uri": "https://localhost:8080/"
        },
        "id": "7f21bda2",
        "outputId": "814307ac-7675-4ee0-ff22-7fd6ec678fb9"
      },
      "outputs": [
        {
          "output_type": "stream",
          "name": "stdout",
          "text": [
            "              precision    recall  f1-score   support\n",
            "\n",
            "           0       0.98      1.00      0.99      3395\n",
            "           1       0.99      0.65      0.78       181\n",
            "\n",
            "    accuracy                           0.98      3576\n",
            "   macro avg       0.99      0.82      0.89      3576\n",
            "weighted avg       0.98      0.98      0.98      3576\n",
            "\n"
          ]
        }
      ],
      "source": [
        "# Split the data into features and labels\n",
        "X = df_text_analysis['text_analysis']\n",
        "y = df_text_analysis['fraudulent']\n",
        "\n",
        "# Split the data into training and testing sets\n",
        "X_train, X_test, y_train, y_test = train_test_split(X, y, test_size=0.2, random_state=42)\n",
        "\n",
        "# Text data preprocessing - you can customize this as needed\n",
        "tfidf_vectorizer = TfidfVectorizer(max_features=5000)\n",
        "X_train_tfidf = tfidf_vectorizer.fit_transform(X_train)\n",
        "X_test_tfidf = tfidf_vectorizer.transform(X_test)\n",
        "\n",
        "# Resample the training data using SMOTE\n",
        "smote = SMOTE(sampling_strategy='auto', random_state=42)\n",
        "X_train_resampled, y_train_resampled = smote.fit_resample(X_train_tfidf, y_train)\n",
        "\n",
        "# Train a classification model (Random Forest in this example)\n",
        "clf = RandomForestClassifier(random_state=42)\n",
        "clf.fit(X_train_resampled, y_train_resampled)\n",
        "\n",
        "# Make predictions on the test set\n",
        "y_pred = clf.predict(X_test_tfidf)\n",
        "\n",
        "# Evaluate the model\n",
        "print(classification_report(y_test, y_pred))\n"
      ]
    },
    {
      "cell_type": "markdown",
      "source": [
        "The text data is preprocessed using TF-IDF (Term Frequency-Inverse Document Frequency) vectorization. We created a TF-IDF vectorizer with a maximum of 5000 features and it converts text data into numerical vectors, where each word's importance is weighted based on its frequency and rarity.\n",
        "\n",
        "To address the class imbalance problem, we applied Synthetic Minority Over-sampling Technique (SMOTE), which generates synthetic examples of the minority class (fraudulent job postings) to balance the class distribution.\n",
        "\n",
        "Random Forest algorithm is chosen for its ability to handle both numerical and text data effectively.\n",
        "\n",
        "The results show a high level of accuracy and effectiveness in identifying legitimate job postings, but there is some room for improvement in detecting potentially fraudulent job postings, particularly in terms of recall. A low recall score means it's not as effective at identifying all potentially fraudulent postings. However, it has high precision, which means that when it predicts a job posting as potentially fraudulent, it's usually correct."
      ],
      "metadata": {
        "id": "ZFiLfo6RK0Q4"
      },
      "id": "ZFiLfo6RK0Q4"
    },
    {
      "cell_type": "markdown",
      "id": "3ddc8bef",
      "metadata": {
        "id": "3ddc8bef"
      },
      "source": [
        "## Dealing with data imbalance with Undersampling + NN"
      ]
    },
    {
      "cell_type": "markdown",
      "source": [
        "An alternative would be dealing with data imbalance with undersampling the majority class."
      ],
      "metadata": {
        "id": "dVT8DuHXMonP"
      },
      "id": "dVT8DuHXMonP"
    },
    {
      "cell_type": "code",
      "execution_count": 13,
      "id": "8e1d4b82",
      "metadata": {
        "colab": {
          "base_uri": "https://localhost:8080/"
        },
        "id": "8e1d4b82",
        "outputId": "ea26468d-421c-47f2-b837-7af4f203c7c7"
      },
      "outputs": [
        {
          "output_type": "execute_result",
          "data": {
            "text/plain": [
              "0    866\n",
              "1    866\n",
              "Name: fraudulent, dtype: int64"
            ]
          },
          "metadata": {},
          "execution_count": 13
        }
      ],
      "source": [
        "import pandas as pd\n",
        "from sklearn.utils import resample\n",
        "\n",
        "# Separate the data into two DataFrames based on the class\n",
        "df_majority = df_text_analysis[df_text_analysis['fraudulent'] == 0]\n",
        "df_minority = df_text_analysis[df_text_analysis['fraudulent'] == 1]\n",
        "\n",
        "# Undersample the majority class to match the count of the minority class\n",
        "n_samples = len(df_minority)\n",
        "df_majority_undersampled = resample(df_majority, n_samples=n_samples, replace=False, random_state=42)\n",
        "\n",
        "# Create a new DataFrame with balanced classes\n",
        "df_text_analysis_undersample = pd.concat([df_majority_undersampled, df_minority])\n",
        "\n",
        "# Verify the class distribution\n",
        "df_text_analysis_undersample['fraudulent'].value_counts()"
      ]
    },
    {
      "cell_type": "code",
      "execution_count": 14,
      "id": "a8c660f5",
      "metadata": {
        "scrolled": true,
        "id": "a8c660f5"
      },
      "outputs": [],
      "source": [
        "# define target\n",
        "target = df_text_analysis_undersample.copy().pop('fraudulent') # .pop removes sentiment col from df\n",
        "# target and review combined tensors\n",
        "data_tf = tf.data.Dataset.from_tensor_slices(\n",
        "    (df_text_analysis_undersample[['text_analysis']].values, target.values)\n",
        ")\n"
      ]
    },
    {
      "cell_type": "code",
      "execution_count": 15,
      "id": "9ca0af40",
      "metadata": {
        "id": "9ca0af40"
      },
      "outputs": [],
      "source": [
        "# set random seed\n",
        "tf.random.set_seed(1)\n",
        "\n",
        "# define splits for training, validation, test\n",
        "splits=[0.6, 0.2, 0.2]\n",
        "\n",
        "# shuffle data\n",
        "data_tf = data_tf.shuffle(\n",
        "    df_text_analysis_undersample.shape[0], reshuffle_each_iteration=False)\n",
        "\n",
        "data_tf_test = data_tf.take(int(df_text_analysis_undersample.shape[0]*splits[2]))\n",
        "data_tf_train_valid = data_tf.skip(int(df_text_analysis_undersample.shape[0]*splits[2]))\n",
        "data_tf_train = data_tf_train_valid.take(int(df_text_analysis_undersample.shape[0]*splits[0]))\n",
        "data_tf_valid = data_tf_train_valid.skip(int(df_text_analysis_undersample.shape[0]*splits[0]))"
      ]
    },
    {
      "cell_type": "code",
      "execution_count": 16,
      "id": "09718447",
      "metadata": {
        "colab": {
          "base_uri": "https://localhost:8080/"
        },
        "id": "09718447",
        "outputId": "35218674-c5cd-4a25-c604-e14dc1d6ea7a"
      },
      "outputs": [
        {
          "output_type": "stream",
          "name": "stdout",
          "text": [
            "Size of training vocabulary: 18925\n"
          ]
        }
      ],
      "source": [
        "# try and except the TF tokenizer\n",
        "try:\n",
        "    tokenizer = tfds.features.text.Tokenizer()\n",
        "except AttributeError:\n",
        "    tokenizer = tfds.deprecated.text.Tokenizer()\n",
        "\n",
        "# create an instance of the Counter class\n",
        "token_counts = Counter()\n",
        "\n",
        "for example in data_tf_train:\n",
        "    tokens = tokenizer.tokenize(example[0].numpy()[0])\n",
        "    token_counts.update(tokens)\n",
        "\n",
        "print('Size of training vocabulary:', len(token_counts))"
      ]
    },
    {
      "cell_type": "code",
      "execution_count": 17,
      "id": "dfc83ea8",
      "metadata": {
        "id": "dfc83ea8"
      },
      "outputs": [],
      "source": [
        "# create an instance of the TF encoder class\n",
        "try:\n",
        "    encoder = tfds.features.text.TokenTextEncoder(token_counts) # token_counts contains our training vocabulary\n",
        "except AttributeError:\n",
        "    encoder = tfds.deprecated.text.TokenTextEncoder(token_counts)"
      ]
    },
    {
      "cell_type": "code",
      "execution_count": 18,
      "id": "be298bfd",
      "metadata": {
        "id": "be298bfd"
      },
      "outputs": [],
      "source": [
        "# define function for token encoder\n",
        "def encode(text_tensor, label):\n",
        "    text = text_tensor.numpy()[0]\n",
        "    encoded_text = encoder.encode(text)\n",
        "    return encoded_text, label\n",
        "\n",
        "#  wrap the encode function to a TF Operator\n",
        "def encode_map_fn(text, label):\n",
        "    return tf.py_function(encode, inp=[text, label],\n",
        "                          Tout=(tf.int64, tf.int64))"
      ]
    },
    {
      "cell_type": "code",
      "execution_count": 19,
      "id": "5961818c",
      "metadata": {
        "scrolled": true,
        "id": "5961818c"
      },
      "outputs": [],
      "source": [
        "# the encode_map_fn is defined at the top of the notebook\n",
        "data_tf_train = data_tf_train.map(encode_map_fn)\n",
        "data_tf_valid = data_tf_valid.map(encode_map_fn)\n",
        "data_tf_test = data_tf_test.map(encode_map_fn)"
      ]
    },
    {
      "cell_type": "code",
      "execution_count": 20,
      "id": "c0401339",
      "metadata": {
        "id": "c0401339"
      },
      "outputs": [],
      "source": [
        "# define batch size\n",
        "batch_size = 32\n",
        "\n",
        "# batcing of training, validation and test partitions\n",
        "train_data = data_tf_train.padded_batch(\n",
        "    batch_size,\n",
        "    padded_shapes=([-1],[]))\n",
        "\n",
        "valid_data = data_tf_valid.padded_batch(\n",
        "    batch_size,\n",
        "    padded_shapes=([-1],[]))\n",
        "\n",
        "test_data = data_tf_test.padded_batch(\n",
        "    batch_size,\n",
        "    padded_shapes=([-1],[]))"
      ]
    },
    {
      "cell_type": "code",
      "execution_count": 21,
      "id": "987ee42e",
      "metadata": {
        "colab": {
          "base_uri": "https://localhost:8080/",
          "height": 490
        },
        "id": "987ee42e",
        "outputId": "299ce93b-ba3f-43e7-8996-9eff8cd9dafb"
      },
      "outputs": [
        {
          "output_type": "stream",
          "name": "stdout",
          "text": [
            "Average sequence length in training mini-batches: 895\n"
          ]
        },
        {
          "output_type": "display_data",
          "data": {
            "text/plain": [
              "<Figure size 640x480 with 1 Axes>"
            ],
            "image/png": "[encoded data removed]"
          },
          "metadata": {}
        }
      ],
      "source": [
        "# histogram of sequence length in training mini-batches\n",
        "seq_len_train = []\n",
        "for batch in train_data:\n",
        "    seq_len_train.append(batch[0].shape[1])\n",
        "\n",
        "print('Average sequence length in training mini-batches:',\n",
        "      int(sum(seq_len_train)/len(seq_len_train))\n",
        ")\n",
        "\n",
        "# histogram\n",
        "plt.hist(seq_len_train)\n",
        "plt.title('Sequence length in training mini-batches')\n",
        "plt.ylabel('Count')\n",
        "plt.xlabel('Sequence length');"
      ]
    },
    {
      "cell_type": "markdown",
      "source": [
        "Afetr undersampling the majority class and preprocessing the text data, we are prepared to have it ready for training the classification model. The data is then split into training, validation, and test sets."
      ],
      "metadata": {
        "id": "2DZ-3tqSh5l6"
      },
      "id": "2DZ-3tqSh5l6"
    },
    {
      "cell_type": "code",
      "execution_count": 22,
      "id": "43d88520",
      "metadata": {
        "id": "43d88520"
      },
      "outputs": [],
      "source": [
        "# Embed our training vocabulary into 10 dimensions.\n",
        "vocab_size_train = len(token_counts) + 2\n",
        "embedding_dim = 20\n",
        "\n",
        "embedding_layer = tf.keras.layers.Embedding(\n",
        "    vocab_size_train,\n",
        "    embedding_dim,\n",
        ")"
      ]
    },
    {
      "cell_type": "code",
      "execution_count": 23,
      "id": "d44526ed",
      "metadata": {
        "colab": {
          "base_uri": "https://localhost:8080/"
        },
        "id": "d44526ed",
        "outputId": "2eba5b81-c5cc-4365-812f-1fd5b0b64d65"
      },
      "outputs": [
        {
          "output_type": "stream",
          "name": "stdout",
          "text": [
            "Model: \"sequential\"\n",
            "_________________________________________________________________\n",
            " Layer (type)                Output Shape              Param #   \n",
            "=================================================================\n",
            " embedding (Embedding)       (None, None, 20)          378540    \n",
            "                                                                 \n",
            " global_average_pooling1d (  (None, 20)                0         \n",
            " GlobalAveragePooling1D)                                         \n",
            "                                                                 \n",
            " dense (Dense)               (None, 16)                336       \n",
            "                                                                 \n",
            " dropout (Dropout)           (None, 16)                0         \n",
            "                                                                 \n",
            " dense_1 (Dense)             (None, 1)                 17        \n",
            "                                                                 \n",
            "=================================================================\n",
            "Total params: 378893 (1.45 MB)\n",
            "Trainable params: 378893 (1.45 MB)\n",
            "Non-trainable params: 0 (0.00 Byte)\n",
            "_________________________________________________________________\n"
          ]
        }
      ],
      "source": [
        "vocab_size_train = len(token_counts) + 2\n",
        "embedding_dim = 20\n",
        "\n",
        "model = tf.keras.Sequential()\n",
        "# add embedding layer (this is our imput layer)\n",
        "# embeddings will be learned during training\n",
        "# the weights for the embeddings are randomly initialized (just like any other layer!)\n",
        "model.add(Embedding(\n",
        "    vocab_size_train,\n",
        "    embedding_dim,\n",
        "    #input_length=100, #limits length of sentence to 100 tokens\n",
        "    name=\"embedding\")\n",
        "    ),\n",
        "\n",
        "\n",
        "# average over the emedding dimension, so each review is represented by a 1 vector of size embedding_dimension\n",
        "model.add(GlobalAveragePooling1D()),\n",
        "\n",
        "# add a Dense layer of dimension 16\n",
        "model.add(Dense(16, activation='relu')),\n",
        "\n",
        "# add Dropout for regularization\n",
        "model.add(Dropout(0.5))\n",
        "\n",
        "# add last layer (binary classification task)\n",
        "model.add(Dense(1, activation='sigmoid'))\n",
        "\n",
        "\n",
        "# save embeddings before training\n",
        "embeddings_untrained = model.get_layer('embedding').get_weights()[0]\n",
        "\n",
        "# print model summary\n",
        "model.summary()"
      ]
    },
    {
      "cell_type": "code",
      "execution_count": 24,
      "id": "02880df6",
      "metadata": {
        "id": "02880df6"
      },
      "outputs": [],
      "source": [
        "model.compile(\n",
        "    optimizer=tf.keras.optimizers.Adam(1e-3),\n",
        "    loss=tf.keras.losses.BinaryCrossentropy(),\n",
        "    metrics=['accuracy'])"
      ]
    },
    {
      "cell_type": "code",
      "execution_count": 25,
      "id": "fd3eff9f",
      "metadata": {
        "colab": {
          "base_uri": "https://localhost:8080/"
        },
        "id": "fd3eff9f",
        "outputId": "f994cac0-6f7b-4c56-e17d-d30e099e3cb2"
      },
      "outputs": [
        {
          "output_type": "stream",
          "name": "stdout",
          "text": [
            "Epoch 1/15\n",
            "33/33 [==============================] - 13s 199ms/step - loss: 0.6906 - accuracy: 0.5448 - val_loss: 0.6883 - val_accuracy: 0.5418\n",
            "Epoch 2/15\n",
            "33/33 [==============================] - 2s 59ms/step - loss: 0.6856 - accuracy: 0.6015 - val_loss: 0.6809 - val_accuracy: 0.6427\n",
            "Epoch 3/15\n",
            "33/33 [==============================] - 2s 57ms/step - loss: 0.6779 - accuracy: 0.6410 - val_loss: 0.6707 - val_accuracy: 0.6571\n",
            "Epoch 4/15\n",
            "33/33 [==============================] - 1s 45ms/step - loss: 0.6648 - accuracy: 0.6670 - val_loss: 0.6562 - val_accuracy: 0.6888\n",
            "Epoch 5/15\n",
            "33/33 [==============================] - 1s 45ms/step - loss: 0.6446 - accuracy: 0.6891 - val_loss: 0.6375 - val_accuracy: 0.7147\n",
            "Epoch 6/15\n",
            "33/33 [==============================] - 1s 44ms/step - loss: 0.6271 - accuracy: 0.7074 - val_loss: 0.6168 - val_accuracy: 0.7349\n",
            "Epoch 7/15\n",
            "33/33 [==============================] - 1s 45ms/step - loss: 0.5950 - accuracy: 0.7507 - val_loss: 0.5916 - val_accuracy: 0.7666\n",
            "Epoch 8/15\n",
            "33/33 [==============================] - 1s 45ms/step - loss: 0.5646 - accuracy: 0.7767 - val_loss: 0.5625 - val_accuracy: 0.7810\n",
            "Epoch 9/15\n",
            "33/33 [==============================] - 1s 45ms/step - loss: 0.5291 - accuracy: 0.8085 - val_loss: 0.5312 - val_accuracy: 0.8012\n",
            "Epoch 10/15\n",
            "33/33 [==============================] - 2s 56ms/step - loss: 0.4904 - accuracy: 0.8296 - val_loss: 0.4979 - val_accuracy: 0.8329\n",
            "Epoch 11/15\n",
            "33/33 [==============================] - 2s 63ms/step - loss: 0.4490 - accuracy: 0.8614 - val_loss: 0.4654 - val_accuracy: 0.8847\n",
            "Epoch 12/15\n",
            "33/33 [==============================] - 2s 48ms/step - loss: 0.4204 - accuracy: 0.8643 - val_loss: 0.4336 - val_accuracy: 0.8876\n",
            "Epoch 13/15\n",
            "33/33 [==============================] - 2s 63ms/step - loss: 0.3959 - accuracy: 0.8835 - val_loss: 0.4056 - val_accuracy: 0.9049\n",
            "Epoch 14/15\n",
            "33/33 [==============================] - 2s 50ms/step - loss: 0.3490 - accuracy: 0.9076 - val_loss: 0.3792 - val_accuracy: 0.9193\n",
            "Epoch 15/15\n",
            "33/33 [==============================] - 1s 44ms/step - loss: 0.3234 - accuracy: 0.9143 - val_loss: 0.3543 - val_accuracy: 0.9222\n"
          ]
        }
      ],
      "source": [
        "# set random seed to get reproductible results\n",
        "# neural network algorithms are stochastic (e.g., due to random weight initialization); setting a random seed helps to get more stable results after each run\n",
        "# however, best way to deal with randomness is to repeat your experiment many times (30+) and use statistics to summarize the performance of the model\n",
        "tf.random.set_seed(1)\n",
        "np.random.seed(1)\n",
        "history = model.fit(\n",
        "    train_data,\n",
        "    validation_data=valid_data,\n",
        "    epochs=15)"
      ]
    },
    {
      "cell_type": "code",
      "execution_count": 26,
      "id": "f6fa424b",
      "metadata": {
        "colab": {
          "base_uri": "https://localhost:8080/",
          "height": 399
        },
        "id": "f6fa424b",
        "outputId": "2e3bbf5e-128c-4572-9be1-0f8a01f19d1c"
      },
      "outputs": [
        {
          "output_type": "display_data",
          "data": {
            "text/plain": [
              "<Figure size 1200x400 with 2 Axes>"
            ],
            "image/png": "[encoded data removed]"
          },
          "metadata": {}
        }
      ],
      "source": [
        "hist = history.history\n",
        "x_arr = np.arange(len(hist['loss'])) + 1\n",
        "\n",
        "fig = plt.figure(figsize=(12, 4))\n",
        "ax = fig.add_subplot(1, 2, 1)\n",
        "ax.plot(x_arr, hist['loss'], '-o', label='Train loss')\n",
        "ax.plot(x_arr, hist['val_loss'], '--<', label='Validation loss')\n",
        "ax.legend(fontsize=15)\n",
        "ax.set_xlabel('Epoch', size=15)\n",
        "ax.set_ylabel('Loss', size=15)\n",
        "\n",
        "ax = fig.add_subplot(1, 2, 2)\n",
        "ax.plot(x_arr, hist['accuracy'], '-o', label='Train acc.')\n",
        "ax.plot(x_arr, hist['val_accuracy'], '--<', label='Validation acc.')\n",
        "ax.legend(fontsize=15)\n",
        "ax.set_xlabel('Epoch', size=15)\n",
        "ax.set_ylabel('Accuracy', size=15)\n",
        "ax.set_ylim(0,1)\n",
        "plt.show()"
      ]
    },
    {
      "cell_type": "code",
      "execution_count": 27,
      "id": "a7808699",
      "metadata": {
        "colab": {
          "base_uri": "https://localhost:8080/"
        },
        "id": "a7808699",
        "outputId": "9d9b94a6-ae76-43a1-ae82-8b3767941ad3"
      },
      "outputs": [
        {
          "output_type": "stream",
          "name": "stdout",
          "text": [
            "After training this model for 10 epochs, evaluation on the validation data shows an accuracy of:\n",
            "92.22 %\n"
          ]
        }
      ],
      "source": [
        "print('After training this model for 10 epochs, evaluation on the validation data shows an accuracy of:')\n",
        "print(np.round(hist['val_accuracy'][-1]*100,2), '%')"
      ]
    },
    {
      "cell_type": "code",
      "execution_count": 28,
      "id": "9819112d",
      "metadata": {
        "colab": {
          "base_uri": "https://localhost:8080/"
        },
        "id": "9819112d",
        "outputId": "0e3e5d80-e7e2-4863-9dab-497aa1fca8ea"
      },
      "outputs": [
        {
          "output_type": "stream",
          "name": "stdout",
          "text": [
            "11/11 [==============================] - 0s 33ms/step - loss: 0.3744 - accuracy: 0.8786\n",
            "\n",
            "Test Acc. 87.86%\n"
          ]
        }
      ],
      "source": [
        "test_results = model.evaluate(test_data)\n",
        "print('\\nTest Acc. {:.2f}%'.format(test_results[1]*100))"
      ]
    },
    {
      "cell_type": "markdown",
      "source": [
        "The sequential model is trained over 15 epochs, with each epoch comprising 33 steps. It shows significant improvement in performance over the epochs. The training accuracy reaches 91.43%, and the validation accuracy reaches 92.22% by the end of training.\n",
        "\n",
        "Overall, the model appears to be well-designed and trained effectively for the given text classification task. Its strong performance on both training and validation data indicates its ability to make accurate predictions. However, the model's performance on unseen test data would provide a more comprehensive assessment of its generalization ability."
      ],
      "metadata": {
        "id": "WfkeOjdtmC9W"
      },
      "id": "WfkeOjdtmC9W"
    },
    {
      "cell_type": "markdown",
      "id": "7b304a45",
      "metadata": {
        "id": "7b304a45"
      },
      "source": [
        "## Applying transformers"
      ]
    },
    {
      "cell_type": "markdown",
      "source": [
        "A transformer is a type of neural network architecture used for various natural language processing tasks. It's known for its ability to handle sequential data efficiently, including text, audio, and more.They rely on a mechanism called self-attention, which allows them to weigh the importance of different elements in a sequence when making predictions.\n",
        "\n",
        "BERT is a specific pre-trained transformer model that has been fine-tuned for various NLP tasks. It understands the context of words in a sentence by considering the words that come before and after each word. This bidirectional understanding of language allows it to capture complex relationships between words.\n",
        "\n",
        "In this case, a pre-trained BERT model is used for fine-tuning to classify job postings (on undersampling dataset) as either fraudulent or legitimate."
      ],
      "metadata": {
        "id": "hvknYa-encCG"
      },
      "id": "hvknYa-encCG"
    },
    {
      "cell_type": "code",
      "execution_count": 29,
      "id": "87f880bb",
      "metadata": {
        "id": "87f880bb"
      },
      "outputs": [],
      "source": [
        "# Encode the labels\n",
        "label_encoder = LabelEncoder()\n",
        "df_text_analysis_undersample['fraudulent'] = label_encoder.fit_transform(df_text_analysis_undersample['fraudulent'])\n",
        "\n",
        "# Split the data into training and testing sets\n",
        "train_texts, test_texts, train_labels, test_labels = train_test_split(\n",
        "    df_text_analysis_undersample['text_analysis'],\n",
        "    df_text_analysis_undersample['fraudulent'],\n",
        "    test_size=0.2,\n",
        "    random_state=42\n",
        ")\n",
        "train_labels = np.array(train_labels, dtype=np.long)\n",
        "test_labels = np.array(test_labels, dtype=np.long)"
      ]
    },
    {
      "cell_type": "code",
      "execution_count": 30,
      "id": "3aae16fa",
      "metadata": {
        "colab": {
          "base_uri": "https://localhost:8080/",
          "height": 233,
          "referenced_widgets": [
            "9d6532513d9247b8ac52b307334e99d2",
            "4c4a77e5c88c474ba3abeaf49d433a62",
            "04a6630116f34300ac466e7ffa65d679",
            "16882e271f5042bb9515eecd76da109c",
            "e41971a4887f40079edcf4ab8e6e06d5",
            "99c136aa7d0648b8a4e450cf09971747",
            "3fa43da0c8974ce2a26521a886173473",
            "ad4c794f4c55493790fa1fea1774b563",
            "231b31ea6c4046acbe50377cf6a93273",
            "96209082f1e84bb2abead837f7f9f1a1",
            "4da90ebbed9845eba4b87a4edb4f07d0",
            "f4f1939dbb7e4c5da57eddf8ccf64114",
            "f5fa6e2536a44111b75b4b6acbc9dd5c",
            "29a5bfcf666f4d2483a7b0e55e273e36",
            "52ce3dbfe5bf438da0b671f0b30b7636",
            "175b28d441a44b3e8482f0031b891ed2",
            "eb40b011b3bd4118807a3d309c1394ae",
            "d1d0c714de534691a2704fa22d8d8c84",
            "b003ff6510ad42ffb55f41d2944fee47",
            "080ffc6a9e5844a9b054f6f5b7126fd7",
            "3ecb87505ed04ca09ca73504d10bc351",
            "6c03f5b5c10e45f2a27b0d18fed5fbb7",
            "5a7c9dcf29c449e59ef8cd4e7c2fbe61",
            "c4e298930a7b4c798808899840185487",
            "6fd1ac0446514f8ebe7d66d32ac4acf5",
            "ea23516500c540d39fdd42cf501e6b4b",
            "72a300c48a6e4c8e98b2825cb9e814e3",
            "efdb5899655a4e4ea0b32a7aceda991d",
            "f83e39f5d9eb404884696c6473d81a34",
            "8a3bf769f92c4fb9b0b2e49b2ff6766b",
            "9e3203bf99ad4e6cb53213e0435fae50",
            "50d6de89db1949149cdb505bc235249b",
            "8fb5ac4c9d57427eb285955f3391aec6",
            "9cb6f478c4d8443894b27b183f7f0d22",
            "ff1739161870436485358049649777dc",
            "120d433166664bce92754200d977285b",
            "b9ed947df3574536b4671a14b76df656",
            "1bdd3442df2a45a796791270b943bb15",
            "89b194f97813443e964fc88823482ab2",
            "e08ded2d79684c2d8f158528f9ddd063",
            "731fad4de2f24707ae14dd84430fd21b",
            "8d9f8caf6cee4939a0b50a906faf4889",
            "58c0b59831a6469089b7ada474ad9bfa",
            "b1673e5744ea44e58ae8c53c878de46f",
            "9a82e22c58be4bec9158778c5ee55c4a",
            "715de5f8a00c4c56acbfd4b86ca64e7b",
            "0b4107c2668a4c4bbfd53a6272735442",
            "6091ed80c0de47e1bfe83d5377c34457",
            "709e5418559c4b8bbf5be56f09716210",
            "5ad7be3d51e04aef929af72957f2b037",
            "3a74e58fbd74461e8424f2b2b29f5ff3",
            "df63c9dccc634b36961b3771d8f638f7",
            "d7e7288c61044f86a713c5176ccce210",
            "25683824caa64a459afeaf14511cbb65",
            "d5ec87c3174b4b3e890d84b25a8554df"
          ]
        },
        "id": "3aae16fa",
        "outputId": "b2701237-e794-4edd-b592-b0f1028cb5eb"
      },
      "outputs": [
        {
          "output_type": "display_data",
          "data": {
            "text/plain": [
              "Downloading (…)okenizer_config.json:   0%|          | 0.00/28.0 [00:00<?, ?B/s]"
            ],
            "application/vnd.jupyter.widget-view+json": {
              "version_major": 2,
              "version_minor": 0,
              "model_id": "9d6532513d9247b8ac52b307334e99d2"
            }
          },
          "metadata": {}
        },
        {
          "output_type": "display_data",
          "data": {
            "text/plain": [
              "Downloading (…)solve/main/vocab.txt:   0%|          | 0.00/232k [00:00<?, ?B/s]"
            ],
            "application/vnd.jupyter.widget-view+json": {
              "version_major": 2,
              "version_minor": 0,
              "model_id": "f4f1939dbb7e4c5da57eddf8ccf64114"
            }
          },
          "metadata": {}
        },
        {
          "output_type": "display_data",
          "data": {
            "text/plain": [
              "Downloading (…)/main/tokenizer.json:   0%|          | 0.00/466k [00:00<?, ?B/s]"
            ],
            "application/vnd.jupyter.widget-view+json": {
              "version_major": 2,
              "version_minor": 0,
              "model_id": "5a7c9dcf29c449e59ef8cd4e7c2fbe61"
            }
          },
          "metadata": {}
        },
        {
          "output_type": "display_data",
          "data": {
            "text/plain": [
              "Downloading (…)lve/main/config.json:   0%|          | 0.00/570 [00:00<?, ?B/s]"
            ],
            "application/vnd.jupyter.widget-view+json": {
              "version_major": 2,
              "version_minor": 0,
              "model_id": "9cb6f478c4d8443894b27b183f7f0d22"
            }
          },
          "metadata": {}
        },
        {
          "output_type": "display_data",
          "data": {
            "text/plain": [
              "Downloading model.safetensors:   0%|          | 0.00/440M [00:00<?, ?B/s]"
            ],
            "application/vnd.jupyter.widget-view+json": {
              "version_major": 2,
              "version_minor": 0,
              "model_id": "9a82e22c58be4bec9158778c5ee55c4a"
            }
          },
          "metadata": {}
        },
        {
          "output_type": "stream",
          "name": "stderr",
          "text": [
            "Some weights of BertForSequenceClassification were not initialized from the model checkpoint at bert-base-uncased and are newly initialized: ['classifier.bias', 'classifier.weight']\n",
            "You should probably TRAIN this model on a down-stream task to be able to use it for predictions and inference.\n"
          ]
        }
      ],
      "source": [
        "# Load the pre-trained BERT model and tokenizer\n",
        "model_name = 'bert-base-uncased'\n",
        "tokenizer = BertTokenizer.from_pretrained(model_name)\n",
        "model = BertForSequenceClassification.from_pretrained(model_name, num_labels=2)\n"
      ]
    },
    {
      "cell_type": "code",
      "execution_count": 31,
      "id": "7f55bbad",
      "metadata": {
        "id": "7f55bbad"
      },
      "outputs": [],
      "source": [
        "# Tokenize the text and create DataLoader\n",
        "train_encodings = tokenizer(list(train_texts), truncation=True, padding=True)\n",
        "test_encodings = tokenizer(list(test_texts), truncation=True, padding=True)\n"
      ]
    },
    {
      "cell_type": "code",
      "execution_count": 32,
      "id": "cdcd7caa",
      "metadata": {
        "id": "cdcd7caa"
      },
      "outputs": [],
      "source": [
        "train_dataset = TensorDataset(\n",
        "    torch.tensor(train_encodings['input_ids']),\n",
        "    torch.tensor(train_encodings['attention_mask']),\n",
        "    torch.tensor(train_labels, dtype=torch.long)\n",
        ")\n",
        "\n",
        "test_dataset = TensorDataset(\n",
        "    torch.tensor(test_encodings['input_ids']),\n",
        "    torch.tensor(test_encodings['attention_mask']),\n",
        "    torch.tensor(test_labels, dtype=torch.long)\n",
        ")"
      ]
    },
    {
      "cell_type": "code",
      "execution_count": 33,
      "id": "17b0e620",
      "metadata": {
        "id": "17b0e620"
      },
      "outputs": [],
      "source": [
        "batch_size = 8\n",
        "train_dataloader = DataLoader(train_dataset, sampler=RandomSampler(train_dataset), batch_size=batch_size)\n",
        "test_dataloader = DataLoader(test_dataset, sampler=SequentialSampler(test_dataset), batch_size=batch_size)\n",
        "\n",
        "# Set up training parameters\n",
        "epochs = 3\n",
        "optimizer = AdamW(model.parameters(), lr=2e-5)\n",
        "total_steps = len(train_dataloader) * epochs\n",
        "scheduler = get_linear_schedule_with_warmup(optimizer, num_warmup_steps=0, num_training_steps=total_steps)\n"
      ]
    },
    {
      "cell_type": "code",
      "execution_count": 34,
      "id": "cb9e92cc",
      "metadata": {
        "scrolled": true,
        "colab": {
          "base_uri": "https://localhost:8080/"
        },
        "id": "cb9e92cc",
        "outputId": "554485f7-2d54-4c8f-9aae-ab579f5f6679"
      },
      "outputs": [
        {
          "output_type": "execute_result",
          "data": {
            "text/plain": [
              "BertForSequenceClassification(\n",
              "  (bert): BertModel(\n",
              "    (embeddings): BertEmbeddings(\n",
              "      (word_embeddings): Embedding(30522, 768, padding_idx=0)\n",
              "      (position_embeddings): Embedding(512, 768)\n",
              "      (token_type_embeddings): Embedding(2, 768)\n",
              "      (LayerNorm): LayerNorm((768,), eps=1e-12, elementwise_affine=True)\n",
              "      (dropout): Dropout(p=0.1, inplace=False)\n",
              "    )\n",
              "    (encoder): BertEncoder(\n",
              "      (layer): ModuleList(\n",
              "        (0-11): 12 x BertLayer(\n",
              "          (attention): BertAttention(\n",
              "            (self): BertSelfAttention(\n",
              "              (query): Linear(in_features=768, out_features=768, bias=True)\n",
              "              (key): Linear(in_features=768, out_features=768, bias=True)\n",
              "              (value): Linear(in_features=768, out_features=768, bias=True)\n",
              "              (dropout): Dropout(p=0.1, inplace=False)\n",
              "            )\n",
              "            (output): BertSelfOutput(\n",
              "              (dense): Linear(in_features=768, out_features=768, bias=True)\n",
              "              (LayerNorm): LayerNorm((768,), eps=1e-12, elementwise_affine=True)\n",
              "              (dropout): Dropout(p=0.1, inplace=False)\n",
              "            )\n",
              "          )\n",
              "          (intermediate): BertIntermediate(\n",
              "            (dense): Linear(in_features=768, out_features=3072, bias=True)\n",
              "            (intermediate_act_fn): GELUActivation()\n",
              "          )\n",
              "          (output): BertOutput(\n",
              "            (dense): Linear(in_features=3072, out_features=768, bias=True)\n",
              "            (LayerNorm): LayerNorm((768,), eps=1e-12, elementwise_affine=True)\n",
              "            (dropout): Dropout(p=0.1, inplace=False)\n",
              "          )\n",
              "        )\n",
              "      )\n",
              "    )\n",
              "    (pooler): BertPooler(\n",
              "      (dense): Linear(in_features=768, out_features=768, bias=True)\n",
              "      (activation): Tanh()\n",
              "    )\n",
              "  )\n",
              "  (dropout): Dropout(p=0.1, inplace=False)\n",
              "  (classifier): Linear(in_features=768, out_features=2, bias=True)\n",
              ")"
            ]
          },
          "metadata": {},
          "execution_count": 34
        }
      ],
      "source": [
        "# Fine-tune the BERT model\n",
        "device = torch.device(\"cuda\" if torch.cuda.is_available() else \"cpu\")\n",
        "\n",
        "model.to(device)"
      ]
    },
    {
      "cell_type": "code",
      "source": [
        "device"
      ],
      "metadata": {
        "colab": {
          "base_uri": "https://localhost:8080/"
        },
        "id": "Mw7HICFA3Yju",
        "outputId": "b4d07f30-0b80-42f1-8ea8-08291fa37ddd"
      },
      "id": "Mw7HICFA3Yju",
      "execution_count": 35,
      "outputs": [
        {
          "output_type": "execute_result",
          "data": {
            "text/plain": [
              "device(type='cuda')"
            ]
          },
          "metadata": {},
          "execution_count": 35
        }
      ]
    },
    {
      "cell_type": "code",
      "execution_count": 36,
      "id": "6a837037",
      "metadata": {
        "colab": {
          "base_uri": "https://localhost:8080/"
        },
        "id": "6a837037",
        "outputId": "dfd9fa6a-396d-4876-ae6b-0cee3bb328ce"
      },
      "outputs": [
        {
          "output_type": "execute_result",
          "data": {
            "text/plain": [
              "BertForSequenceClassification(\n",
              "  (bert): BertModel(\n",
              "    (embeddings): BertEmbeddings(\n",
              "      (word_embeddings): Embedding(30522, 768, padding_idx=0)\n",
              "      (position_embeddings): Embedding(512, 768)\n",
              "      (token_type_embeddings): Embedding(2, 768)\n",
              "      (LayerNorm): LayerNorm((768,), eps=1e-12, elementwise_affine=True)\n",
              "      (dropout): Dropout(p=0.1, inplace=False)\n",
              "    )\n",
              "    (encoder): BertEncoder(\n",
              "      (layer): ModuleList(\n",
              "        (0-11): 12 x BertLayer(\n",
              "          (attention): BertAttention(\n",
              "            (self): BertSelfAttention(\n",
              "              (query): Linear(in_features=768, out_features=768, bias=True)\n",
              "              (key): Linear(in_features=768, out_features=768, bias=True)\n",
              "              (value): Linear(in_features=768, out_features=768, bias=True)\n",
              "              (dropout): Dropout(p=0.1, inplace=False)\n",
              "            )\n",
              "            (output): BertSelfOutput(\n",
              "              (dense): Linear(in_features=768, out_features=768, bias=True)\n",
              "              (LayerNorm): LayerNorm((768,), eps=1e-12, elementwise_affine=True)\n",
              "              (dropout): Dropout(p=0.1, inplace=False)\n",
              "            )\n",
              "          )\n",
              "          (intermediate): BertIntermediate(\n",
              "            (dense): Linear(in_features=768, out_features=3072, bias=True)\n",
              "            (intermediate_act_fn): GELUActivation()\n",
              "          )\n",
              "          (output): BertOutput(\n",
              "            (dense): Linear(in_features=3072, out_features=768, bias=True)\n",
              "            (LayerNorm): LayerNorm((768,), eps=1e-12, elementwise_affine=True)\n",
              "            (dropout): Dropout(p=0.1, inplace=False)\n",
              "          )\n",
              "        )\n",
              "      )\n",
              "    )\n",
              "    (pooler): BertPooler(\n",
              "      (dense): Linear(in_features=768, out_features=768, bias=True)\n",
              "      (activation): Tanh()\n",
              "    )\n",
              "  )\n",
              "  (dropout): Dropout(p=0.1, inplace=False)\n",
              "  (classifier): Linear(in_features=768, out_features=2, bias=True)\n",
              ")"
            ]
          },
          "metadata": {},
          "execution_count": 36
        }
      ],
      "source": [
        "for epoch in range(epochs):\n",
        "    model.train()\n",
        "    for batch in train_dataloader:\n",
        "        input_ids = batch[0].to(device)\n",
        "        attention_mask = batch[1].to(device)\n",
        "        labels = batch[2].to(device)\n",
        "\n",
        "        model.zero_grad()\n",
        "        outputs = model(input_ids, attention_mask=attention_mask, labels=labels)\n",
        "        loss = outputs.loss\n",
        "        loss.backward()\n",
        "\n",
        "        optimizer.step()\n",
        "        scheduler.step()\n",
        "\n",
        "model.eval()"
      ]
    },
    {
      "cell_type": "code",
      "execution_count": 37,
      "id": "c738195a",
      "metadata": {
        "colab": {
          "base_uri": "https://localhost:8080/"
        },
        "id": "c738195a",
        "outputId": "f749769d-7864-4f5b-d951-0ba37b909f8e"
      },
      "outputs": [
        {
          "output_type": "stream",
          "name": "stdout",
          "text": [
            "              precision    recall  f1-score   support\n",
            "\n",
            "           0       0.98      0.95      0.96       182\n",
            "           1       0.94      0.98      0.96       165\n",
            "\n",
            "    accuracy                           0.96       347\n",
            "   macro avg       0.96      0.96      0.96       347\n",
            "weighted avg       0.96      0.96      0.96       347\n",
            "\n"
          ]
        }
      ],
      "source": [
        "# Make predictions\n",
        "predictions = []\n",
        "for batch in test_dataloader:\n",
        "    input_ids = batch[0].to(device)\n",
        "    attention_mask = batch[1].to(device)\n",
        "    labels = batch[2].cpu().numpy()\n",
        "    with torch.no_grad():\n",
        "        outputs = model(input_ids, attention_mask=attention_mask)\n",
        "    logits = outputs.logits\n",
        "    predictions.extend(logits.argmax(dim=1).cpu().numpy())\n",
        "\n",
        "# Decode labels back to original format\n",
        "test_labels = label_encoder.inverse_transform(test_labels)\n",
        "predictions = label_encoder.inverse_transform(predictions)\n",
        "\n",
        "# Evaluate the model\n",
        "print(classification_report(test_labels, predictions))"
      ]
    },
    {
      "cell_type": "markdown",
      "source": [
        "The model achieves an accuracy of 96% on the testing data, indicating that it accurately classifies job postings as fraudulent or legitimate. The precision and recall for both classes are high, which means the model is effective in making accurate predictions with a good balance between false positives and false negatives."
      ],
      "metadata": {
        "id": "qlA5n_IGn6Xe"
      },
      "id": "qlA5n_IGn6Xe"
    }
  ],
  "metadata": {
    "kernelspec": {
      "display_name": "Python 3",
      "name": "python3"
    },
    "language_info": {
      "codemirror_mode": {
        "name": "ipython",
        "version": 3
      },
      "file_extension": ".py",
      "mimetype": "text/x-python",
      "name": "python",
      "nbconvert_exporter": "python",
      "pygments_lexer": "ipython3",
      "version": "3.8.0"
    },
    "colab": {
      "provenance": [],
      "gpuType": "T4"
    },
    "accelerator": "GPU",
    "widgets": {
      "application/vnd.jupyter.widget-state+json": {
        "9d6532513d9247b8ac52b307334e99d2": {
          "model_module": "@jupyter-widgets/controls",
          "model_name": "HBoxModel",
          "model_module_version": "1.5.0",
          "state": {
            "_dom_classes": [],
            "_model_module": "@jupyter-widgets/controls",
            "_model_module_version": "1.5.0",
            "_model_name": "HBoxModel",
            "_view_count": null,
            "_view_module": "@jupyter-widgets/controls",
            "_view_module_version": "1.5.0",
            "_view_name": "HBoxView",
            "box_style": "",
            "children": [
              "IPY_MODEL_4c4a77e5c88c474ba3abeaf49d433a62",
              "IPY_MODEL_04a6630116f34300ac466e7ffa65d679",
              "IPY_MODEL_16882e271f5042bb9515eecd76da109c"
            ],
            "layout": "IPY_MODEL_e41971a4887f40079edcf4ab8e6e06d5"
          }
        },
        "4c4a77e5c88c474ba3abeaf49d433a62": {
          "model_module": "@jupyter-widgets/controls",
          "model_name": "HTMLModel",
          "model_module_version": "1.5.0",
          "state": {
            "_dom_classes": [],
            "_model_module": "@jupyter-widgets/controls",
            "_model_module_version": "1.5.0",
            "_model_name": "HTMLModel",
            "_view_count": null,
            "_view_module": "@jupyter-widgets/controls",
            "_view_module_version": "1.5.0",
            "_view_name": "HTMLView",
            "description": "",
            "description_tooltip": null,
            "layout": "IPY_MODEL_99c136aa7d0648b8a4e450cf09971747",
            "placeholder": "​",
            "style": "IPY_MODEL_3fa43da0c8974ce2a26521a886173473",
            "value": "Downloading (…)okenizer_config.json: 100%"
          }
        },
        "04a6630116f34300ac466e7ffa65d679": {
          "model_module": "@jupyter-widgets/controls",
          "model_name": "FloatProgressModel",
          "model_module_version": "1.5.0",
          "state": {
            "_dom_classes": [],
            "_model_module": "@jupyter-widgets/controls",
            "_model_module_version": "1.5.0",
            "_model_name": "FloatProgressModel",
            "_view_count": null,
            "_view_module": "@jupyter-widgets/controls",
            "_view_module_version": "1.5.0",
            "_view_name": "ProgressView",
            "bar_style": "success",
            "description": "",
            "description_tooltip": null,
            "layout": "IPY_MODEL_ad4c794f4c55493790fa1fea1774b563",
            "max": 28,
            "min": 0,
            "orientation": "horizontal",
            "style": "IPY_MODEL_231b31ea6c4046acbe50377cf6a93273",
            "value": 28
          }
        },
        "16882e271f5042bb9515eecd76da109c": {
          "model_module": "@jupyter-widgets/controls",
          "model_name": "HTMLModel",
          "model_module_version": "1.5.0",
          "state": {
            "_dom_classes": [],
            "_model_module": "@jupyter-widgets/controls",
            "_model_module_version": "1.5.0",
            "_model_name": "HTMLModel",
            "_view_count": null,
            "_view_module": "@jupyter-widgets/controls",
            "_view_module_version": "1.5.0",
            "_view_name": "HTMLView",
            "description": "",
            "description_tooltip": null,
            "layout": "IPY_MODEL_96209082f1e84bb2abead837f7f9f1a1",
            "placeholder": "​",
            "style": "IPY_MODEL_4da90ebbed9845eba4b87a4edb4f07d0",
            "value": " 28.0/28.0 [00:00&lt;00:00, 972B/s]"
          }
        },
        "e41971a4887f40079edcf4ab8e6e06d5": {
          "model_module": "@jupyter-widgets/base",
          "model_name": "LayoutModel",
          "model_module_version": "1.2.0",
          "state": {
            "_model_module": "@jupyter-widgets/base",
            "_model_module_version": "1.2.0",
            "_model_name": "LayoutModel",
            "_view_count": null,
            "_view_module": "@jupyter-widgets/base",
            "_view_module_version": "1.2.0",
            "_view_name": "LayoutView",
            "align_content": null,
            "align_items": null,
            "align_self": null,
            "border": null,
            "bottom": null,
            "display": null,
            "flex": null,
            "flex_flow": null,
            "grid_area": null,
            "grid_auto_columns": null,
            "grid_auto_flow": null,
            "grid_auto_rows": null,
            "grid_column": null,
            "grid_gap": null,
            "grid_row": null,
            "grid_template_areas": null,
            "grid_template_columns": null,
            "grid_template_rows": null,
            "height": null,
            "justify_content": null,
            "justify_items": null,
            "left": null,
            "margin": null,
            "max_height": null,
            "max_width": null,
            "min_height": null,
            "min_width": null,
            "object_fit": null,
            "object_position": null,
            "order": null,
            "overflow": null,
            "overflow_x": null,
            "overflow_y": null,
            "padding": null,
            "right": null,
            "top": null,
            "visibility": null,
            "width": null
          }
        },
        "99c136aa7d0648b8a4e450cf09971747": {
          "model_module": "@jupyter-widgets/base",
          "model_name": "LayoutModel",
          "model_module_version": "1.2.0",
          "state": {
            "_model_module": "@jupyter-widgets/base",
            "_model_module_version": "1.2.0",
            "_model_name": "LayoutModel",
            "_view_count": null,
            "_view_module": "@jupyter-widgets/base",
            "_view_module_version": "1.2.0",
            "_view_name": "LayoutView",
            "align_content": null,
            "align_items": null,
            "align_self": null,
            "border": null,
            "bottom": null,
            "display": null,
            "flex": null,
            "flex_flow": null,
            "grid_area": null,
            "grid_auto_columns": null,
            "grid_auto_flow": null,
            "grid_auto_rows": null,
            "grid_column": null,
            "grid_gap": null,
            "grid_row": null,
            "grid_template_areas": null,
            "grid_template_columns": null,
            "grid_template_rows": null,
            "height": null,
            "justify_content": null,
            "justify_items": null,
            "left": null,
            "margin": null,
            "max_height": null,
            "max_width": null,
            "min_height": null,
            "min_width": null,
            "object_fit": null,
            "object_position": null,
            "order": null,
            "overflow": null,
            "overflow_x": null,
            "overflow_y": null,
            "padding": null,
            "right": null,
            "top": null,
            "visibility": null,
            "width": null
          }
        },
        "3fa43da0c8974ce2a26521a886173473": {
          "model_module": "@jupyter-widgets/controls",
          "model_name": "DescriptionStyleModel",
          "model_module_version": "1.5.0",
          "state": {
            "_model_module": "@jupyter-widgets/controls",
            "_model_module_version": "1.5.0",
            "_model_name": "DescriptionStyleModel",
            "_view_count": null,
            "_view_module": "@jupyter-widgets/base",
            "_view_module_version": "1.2.0",
            "_view_name": "StyleView",
            "description_width": ""
          }
        },
        "ad4c794f4c55493790fa1fea1774b563": {
          "model_module": "@jupyter-widgets/base",
          "model_name": "LayoutModel",
          "model_module_version": "1.2.0",
          "state": {
            "_model_module": "@jupyter-widgets/base",
            "_model_module_version": "1.2.0",
            "_model_name": "LayoutModel",
            "_view_count": null,
            "_view_module": "@jupyter-widgets/base",
            "_view_module_version": "1.2.0",
            "_view_name": "LayoutView",
            "align_content": null,
            "align_items": null,
            "align_self": null,
            "border": null,
            "bottom": null,
            "display": null,
            "flex": null,
            "flex_flow": null,
            "grid_area": null,
            "grid_auto_columns": null,
            "grid_auto_flow": null,
            "grid_auto_rows": null,
            "grid_column": null,
            "grid_gap": null,
            "grid_row": null,
            "grid_template_areas": null,
            "grid_template_columns": null,
            "grid_template_rows": null,
            "height": null,
            "justify_content": null,
            "justify_items": null,
            "left": null,
            "margin": null,
            "max_height": null,
            "max_width": null,
            "min_height": null,
            "min_width": null,
            "object_fit": null,
            "object_position": null,
            "order": null,
            "overflow": null,
            "overflow_x": null,
            "overflow_y": null,
            "padding": null,
            "right": null,
            "top": null,
            "visibility": null,
            "width": null
          }
        },
        "231b31ea6c4046acbe50377cf6a93273": {
          "model_module": "@jupyter-widgets/controls",
          "model_name": "ProgressStyleModel",
          "model_module_version": "1.5.0",
          "state": {
            "_model_module": "@jupyter-widgets/controls",
            "_model_module_version": "1.5.0",
            "_model_name": "ProgressStyleModel",
            "_view_count": null,
            "_view_module": "@jupyter-widgets/base",
            "_view_module_version": "1.2.0",
            "_view_name": "StyleView",
            "bar_color": null,
            "description_width": ""
          }
        },
        "96209082f1e84bb2abead837f7f9f1a1": {
          "model_module": "@jupyter-widgets/base",
          "model_name": "LayoutModel",
          "model_module_version": "1.2.0",
          "state": {
            "_model_module": "@jupyter-widgets/base",
            "_model_module_version": "1.2.0",
            "_model_name": "LayoutModel",
            "_view_count": null,
            "_view_module": "@jupyter-widgets/base",
            "_view_module_version": "1.2.0",
            "_view_name": "LayoutView",
            "align_content": null,
            "align_items": null,
            "align_self": null,
            "border": null,
            "bottom": null,
            "display": null,
            "flex": null,
            "flex_flow": null,
            "grid_area": null,
            "grid_auto_columns": null,
            "grid_auto_flow": null,
            "grid_auto_rows": null,
            "grid_column": null,
            "grid_gap": null,
            "grid_row": null,
            "grid_template_areas": null,
            "grid_template_columns": null,
            "grid_template_rows": null,
            "height": null,
            "justify_content": null,
            "justify_items": null,
            "left": null,
            "margin": null,
            "max_height": null,
            "max_width": null,
            "min_height": null,
            "min_width": null,
            "object_fit": null,
            "object_position": null,
            "order": null,
            "overflow": null,
            "overflow_x": null,
            "overflow_y": null,
            "padding": null,
            "right": null,
            "top": null,
            "visibility": null,
            "width": null
          }
        },
        "4da90ebbed9845eba4b87a4edb4f07d0": {
          "model_module": "@jupyter-widgets/controls",
          "model_name": "DescriptionStyleModel",
          "model_module_version": "1.5.0",
          "state": {
            "_model_module": "@jupyter-widgets/controls",
            "_model_module_version": "1.5.0",
            "_model_name": "DescriptionStyleModel",
            "_view_count": null,
            "_view_module": "@jupyter-widgets/base",
            "_view_module_version": "1.2.0",
            "_view_name": "StyleView",
            "description_width": ""
          }
        },
        "f4f1939dbb7e4c5da57eddf8ccf64114": {
          "model_module": "@jupyter-widgets/controls",
          "model_name": "HBoxModel",
          "model_module_version": "1.5.0",
          "state": {
            "_dom_classes": [],
            "_model_module": "@jupyter-widgets/controls",
            "_model_module_version": "1.5.0",
            "_model_name": "HBoxModel",
            "_view_count": null,
            "_view_module": "@jupyter-widgets/controls",
            "_view_module_version": "1.5.0",
            "_view_name": "HBoxView",
            "box_style": "",
            "children": [
              "IPY_MODEL_f5fa6e2536a44111b75b4b6acbc9dd5c",
              "IPY_MODEL_29a5bfcf666f4d2483a7b0e55e273e36",
              "IPY_MODEL_52ce3dbfe5bf438da0b671f0b30b7636"
            ],
            "layout": "IPY_MODEL_175b28d441a44b3e8482f0031b891ed2"
          }
        },
        "f5fa6e2536a44111b75b4b6acbc9dd5c": {
          "model_module": "@jupyter-widgets/controls",
          "model_name": "HTMLModel",
          "model_module_version": "1.5.0",
          "state": {
            "_dom_classes": [],
            "_model_module": "@jupyter-widgets/controls",
            "_model_module_version": "1.5.0",
            "_model_name": "HTMLModel",
            "_view_count": null,
            "_view_module": "@jupyter-widgets/controls",
            "_view_module_version": "1.5.0",
            "_view_name": "HTMLView",
            "description": "",
            "description_tooltip": null,
            "layout": "IPY_MODEL_eb40b011b3bd4118807a3d309c1394ae",
            "placeholder": "​",
            "style": "IPY_MODEL_d1d0c714de534691a2704fa22d8d8c84",
            "value": "Downloading (…)solve/main/vocab.txt: 100%"
          }
        },
        "29a5bfcf666f4d2483a7b0e55e273e36": {
          "model_module": "@jupyter-widgets/controls",
          "model_name": "FloatProgressModel",
          "model_module_version": "1.5.0",
          "state": {
            "_dom_classes": [],
            "_model_module": "@jupyter-widgets/controls",
            "_model_module_version": "1.5.0",
            "_model_name": "FloatProgressModel",
            "_view_count": null,
            "_view_module": "@jupyter-widgets/controls",
            "_view_module_version": "1.5.0",
            "_view_name": "ProgressView",
            "bar_style": "success",
            "description": "",
            "description_tooltip": null,
            "layout": "IPY_MODEL_b003ff6510ad42ffb55f41d2944fee47",
            "max": 231508,
            "min": 0,
            "orientation": "horizontal",
            "style": "IPY_MODEL_080ffc6a9e5844a9b054f6f5b7126fd7",
            "value": 231508
          }
        },
        "52ce3dbfe5bf438da0b671f0b30b7636": {
          "model_module": "@jupyter-widgets/controls",
          "model_name": "HTMLModel",
          "model_module_version": "1.5.0",
          "state": {
            "_dom_classes": [],
            "_model_module": "@jupyter-widgets/controls",
            "_model_module_version": "1.5.0",
            "_model_name": "HTMLModel",
            "_view_count": null,
            "_view_module": "@jupyter-widgets/controls",
            "_view_module_version": "1.5.0",
            "_view_name": "HTMLView",
            "description": "",
            "description_tooltip": null,
            "layout": "IPY_MODEL_3ecb87505ed04ca09ca73504d10bc351",
            "placeholder": "​",
            "style": "IPY_MODEL_6c03f5b5c10e45f2a27b0d18fed5fbb7",
            "value": " 232k/232k [00:00&lt;00:00, 6.82MB/s]"
          }
        },
        "175b28d441a44b3e8482f0031b891ed2": {
          "model_module": "@jupyter-widgets/base",
          "model_name": "LayoutModel",
          "model_module_version": "1.2.0",
          "state": {
            "_model_module": "@jupyter-widgets/base",
            "_model_module_version": "1.2.0",
            "_model_name": "LayoutModel",
            "_view_count": null,
            "_view_module": "@jupyter-widgets/base",
            "_view_module_version": "1.2.0",
            "_view_name": "LayoutView",
            "align_content": null,
            "align_items": null,
            "align_self": null,
            "border": null,
            "bottom": null,
            "display": null,
            "flex": null,
            "flex_flow": null,
            "grid_area": null,
            "grid_auto_columns": null,
            "grid_auto_flow": null,
            "grid_auto_rows": null,
            "grid_column": null,
            "grid_gap": null,
            "grid_row": null,
            "grid_template_areas": null,
            "grid_template_columns": null,
            "grid_template_rows": null,
            "height": null,
            "justify_content": null,
            "justify_items": null,
            "left": null,
            "margin": null,
            "max_height": null,
            "max_width": null,
            "min_height": null,
            "min_width": null,
            "object_fit": null,
            "object_position": null,
            "order": null,
            "overflow": null,
            "overflow_x": null,
            "overflow_y": null,
            "padding": null,
            "right": null,
            "top": null,
            "visibility": null,
            "width": null
          }
        },
        "eb40b011b3bd4118807a3d309c1394ae": {
          "model_module": "@jupyter-widgets/base",
          "model_name": "LayoutModel",
          "model_module_version": "1.2.0",
          "state": {
            "_model_module": "@jupyter-widgets/base",
            "_model_module_version": "1.2.0",
            "_model_name": "LayoutModel",
            "_view_count": null,
            "_view_module": "@jupyter-widgets/base",
            "_view_module_version": "1.2.0",
            "_view_name": "LayoutView",
            "align_content": null,
            "align_items": null,
            "align_self": null,
            "border": null,
            "bottom": null,
            "display": null,
            "flex": null,
            "flex_flow": null,
            "grid_area": null,
            "grid_auto_columns": null,
            "grid_auto_flow": null,
            "grid_auto_rows": null,
            "grid_column": null,
            "grid_gap": null,
            "grid_row": null,
            "grid_template_areas": null,
            "grid_template_columns": null,
            "grid_template_rows": null,
            "height": null,
            "justify_content": null,
            "justify_items": null,
            "left": null,
            "margin": null,
            "max_height": null,
            "max_width": null,
            "min_height": null,
            "min_width": null,
            "object_fit": null,
            "object_position": null,
            "order": null,
            "overflow": null,
            "overflow_x": null,
            "overflow_y": null,
            "padding": null,
            "right": null,
            "top": null,
            "visibility": null,
            "width": null
          }
        },
        "d1d0c714de534691a2704fa22d8d8c84": {
          "model_module": "@jupyter-widgets/controls",
          "model_name": "DescriptionStyleModel",
          "model_module_version": "1.5.0",
          "state": {
            "_model_module": "@jupyter-widgets/controls",
            "_model_module_version": "1.5.0",
            "_model_name": "DescriptionStyleModel",
            "_view_count": null,
            "_view_module": "@jupyter-widgets/base",
            "_view_module_version": "1.2.0",
            "_view_name": "StyleView",
            "description_width": ""
          }
        },
        "b003ff6510ad42ffb55f41d2944fee47": {
          "model_module": "@jupyter-widgets/base",
          "model_name": "LayoutModel",
          "model_module_version": "1.2.0",
          "state": {
            "_model_module": "@jupyter-widgets/base",
            "_model_module_version": "1.2.0",
            "_model_name": "LayoutModel",
            "_view_count": null,
            "_view_module": "@jupyter-widgets/base",
            "_view_module_version": "1.2.0",
            "_view_name": "LayoutView",
            "align_content": null,
            "align_items": null,
            "align_self": null,
            "border": null,
            "bottom": null,
            "display": null,
            "flex": null,
            "flex_flow": null,
            "grid_area": null,
            "grid_auto_columns": null,
            "grid_auto_flow": null,
            "grid_auto_rows": null,
            "grid_column": null,
            "grid_gap": null,
            "grid_row": null,
            "grid_template_areas": null,
            "grid_template_columns": null,
            "grid_template_rows": null,
            "height": null,
            "justify_content": null,
            "justify_items": null,
            "left": null,
            "margin": null,
            "max_height": null,
            "max_width": null,
            "min_height": null,
            "min_width": null,
            "object_fit": null,
            "object_position": null,
            "order": null,
            "overflow": null,
            "overflow_x": null,
            "overflow_y": null,
            "padding": null,
            "right": null,
            "top": null,
            "visibility": null,
            "width": null
          }
        },
        "080ffc6a9e5844a9b054f6f5b7126fd7": {
          "model_module": "@jupyter-widgets/controls",
          "model_name": "ProgressStyleModel",
          "model_module_version": "1.5.0",
          "state": {
            "_model_module": "@jupyter-widgets/controls",
            "_model_module_version": "1.5.0",
            "_model_name": "ProgressStyleModel",
            "_view_count": null,
            "_view_module": "@jupyter-widgets/base",
            "_view_module_version": "1.2.0",
            "_view_name": "StyleView",
            "bar_color": null,
            "description_width": ""
          }
        },
        "3ecb87505ed04ca09ca73504d10bc351": {
          "model_module": "@jupyter-widgets/base",
          "model_name": "LayoutModel",
          "model_module_version": "1.2.0",
          "state": {
            "_model_module": "@jupyter-widgets/base",
            "_model_module_version": "1.2.0",
            "_model_name": "LayoutModel",
            "_view_count": null,
            "_view_module": "@jupyter-widgets/base",
            "_view_module_version": "1.2.0",
            "_view_name": "LayoutView",
            "align_content": null,
            "align_items": null,
            "align_self": null,
            "border": null,
            "bottom": null,
            "display": null,
            "flex": null,
            "flex_flow": null,
            "grid_area": null,
            "grid_auto_columns": null,
            "grid_auto_flow": null,
            "grid_auto_rows": null,
            "grid_column": null,
            "grid_gap": null,
            "grid_row": null,
            "grid_template_areas": null,
            "grid_template_columns": null,
            "grid_template_rows": null,
            "height": null,
            "justify_content": null,
            "justify_items": null,
            "left": null,
            "margin": null,
            "max_height": null,
            "max_width": null,
            "min_height": null,
            "min_width": null,
            "object_fit": null,
            "object_position": null,
            "order": null,
            "overflow": null,
            "overflow_x": null,
            "overflow_y": null,
            "padding": null,
            "right": null,
            "top": null,
            "visibility": null,
            "width": null
          }
        },
        "6c03f5b5c10e45f2a27b0d18fed5fbb7": {
          "model_module": "@jupyter-widgets/controls",
          "model_name": "DescriptionStyleModel",
          "model_module_version": "1.5.0",
          "state": {
            "_model_module": "@jupyter-widgets/controls",
            "_model_module_version": "1.5.0",
            "_model_name": "DescriptionStyleModel",
            "_view_count": null,
            "_view_module": "@jupyter-widgets/base",
            "_view_module_version": "1.2.0",
            "_view_name": "StyleView",
            "description_width": ""
          }
        },
        "5a7c9dcf29c449e59ef8cd4e7c2fbe61": {
          "model_module": "@jupyter-widgets/controls",
          "model_name": "HBoxModel",
          "model_module_version": "1.5.0",
          "state": {
            "_dom_classes": [],
            "_model_module": "@jupyter-widgets/controls",
            "_model_module_version": "1.5.0",
            "_model_name": "HBoxModel",
            "_view_count": null,
            "_view_module": "@jupyter-widgets/controls",
            "_view_module_version": "1.5.0",
            "_view_name": "HBoxView",
            "box_style": "",
            "children": [
              "IPY_MODEL_c4e298930a7b4c798808899840185487",
              "IPY_MODEL_6fd1ac0446514f8ebe7d66d32ac4acf5",
              "IPY_MODEL_ea23516500c540d39fdd42cf501e6b4b"
            ],
            "layout": "IPY_MODEL_72a300c48a6e4c8e98b2825cb9e814e3"
          }
        },
        "c4e298930a7b4c798808899840185487": {
          "model_module": "@jupyter-widgets/controls",
          "model_name": "HTMLModel",
          "model_module_version": "1.5.0",
          "state": {
            "_dom_classes": [],
            "_model_module": "@jupyter-widgets/controls",
            "_model_module_version": "1.5.0",
            "_model_name": "HTMLModel",
            "_view_count": null,
            "_view_module": "@jupyter-widgets/controls",
            "_view_module_version": "1.5.0",
            "_view_name": "HTMLView",
            "description": "",
            "description_tooltip": null,
            "layout": "IPY_MODEL_efdb5899655a4e4ea0b32a7aceda991d",
            "placeholder": "​",
            "style": "IPY_MODEL_f83e39f5d9eb404884696c6473d81a34",
            "value": "Downloading (…)/main/tokenizer.json: 100%"
          }
        },
        "6fd1ac0446514f8ebe7d66d32ac4acf5": {
          "model_module": "@jupyter-widgets/controls",
          "model_name": "FloatProgressModel",
          "model_module_version": "1.5.0",
          "state": {
            "_dom_classes": [],
            "_model_module": "@jupyter-widgets/controls",
            "_model_module_version": "1.5.0",
            "_model_name": "FloatProgressModel",
            "_view_count": null,
            "_view_module": "@jupyter-widgets/controls",
            "_view_module_version": "1.5.0",
            "_view_name": "ProgressView",
            "bar_style": "success",
            "description": "",
            "description_tooltip": null,
            "layout": "IPY_MODEL_8a3bf769f92c4fb9b0b2e49b2ff6766b",
            "max": 466062,
            "min": 0,
            "orientation": "horizontal",
            "style": "IPY_MODEL_9e3203bf99ad4e6cb53213e0435fae50",
            "value": 466062
          }
        },
        "ea23516500c540d39fdd42cf501e6b4b": {
          "model_module": "@jupyter-widgets/controls",
          "model_name": "HTMLModel",
          "model_module_version": "1.5.0",
          "state": {
            "_dom_classes": [],
            "_model_module": "@jupyter-widgets/controls",
            "_model_module_version": "1.5.0",
            "_model_name": "HTMLModel",
            "_view_count": null,
            "_view_module": "@jupyter-widgets/controls",
            "_view_module_version": "1.5.0",
            "_view_name": "HTMLView",
            "description": "",
            "description_tooltip": null,
            "layout": "IPY_MODEL_50d6de89db1949149cdb505bc235249b",
            "placeholder": "​",
            "style": "IPY_MODEL_8fb5ac4c9d57427eb285955f3391aec6",
            "value": " 466k/466k [00:00&lt;00:00, 7.42MB/s]"
          }
        },
        "72a300c48a6e4c8e98b2825cb9e814e3": {
          "model_module": "@jupyter-widgets/base",
          "model_name": "LayoutModel",
          "model_module_version": "1.2.0",
          "state": {
            "_model_module": "@jupyter-widgets/base",
            "_model_module_version": "1.2.0",
            "_model_name": "LayoutModel",
            "_view_count": null,
            "_view_module": "@jupyter-widgets/base",
            "_view_module_version": "1.2.0",
            "_view_name": "LayoutView",
            "align_content": null,
            "align_items": null,
            "align_self": null,
            "border": null,
            "bottom": null,
            "display": null,
            "flex": null,
            "flex_flow": null,
            "grid_area": null,
            "grid_auto_columns": null,
            "grid_auto_flow": null,
            "grid_auto_rows": null,
            "grid_column": null,
            "grid_gap": null,
            "grid_row": null,
            "grid_template_areas": null,
            "grid_template_columns": null,
            "grid_template_rows": null,
            "height": null,
            "justify_content": null,
            "justify_items": null,
            "left": null,
            "margin": null,
            "max_height": null,
            "max_width": null,
            "min_height": null,
            "min_width": null,
            "object_fit": null,
            "object_position": null,
            "order": null,
            "overflow": null,
            "overflow_x": null,
            "overflow_y": null,
            "padding": null,
            "right": null,
            "top": null,
            "visibility": null,
            "width": null
          }
        },
        "efdb5899655a4e4ea0b32a7aceda991d": {
          "model_module": "@jupyter-widgets/base",
          "model_name": "LayoutModel",
          "model_module_version": "1.2.0",
          "state": {
            "_model_module": "@jupyter-widgets/base",
            "_model_module_version": "1.2.0",
            "_model_name": "LayoutModel",
            "_view_count": null,
            "_view_module": "@jupyter-widgets/base",
            "_view_module_version": "1.2.0",
            "_view_name": "LayoutView",
            "align_content": null,
            "align_items": null,
            "align_self": null,
            "border": null,
            "bottom": null,
            "display": null,
            "flex": null,
            "flex_flow": null,
            "grid_area": null,
            "grid_auto_columns": null,
            "grid_auto_flow": null,
            "grid_auto_rows": null,
            "grid_column": null,
            "grid_gap": null,
            "grid_row": null,
            "grid_template_areas": null,
            "grid_template_columns": null,
            "grid_template_rows": null,
            "height": null,
            "justify_content": null,
            "justify_items": null,
            "left": null,
            "margin": null,
            "max_height": null,
            "max_width": null,
            "min_height": null,
            "min_width": null,
            "object_fit": null,
            "object_position": null,
            "order": null,
            "overflow": null,
            "overflow_x": null,
            "overflow_y": null,
            "padding": null,
            "right": null,
            "top": null,
            "visibility": null,
            "width": null
          }
        },
        "f83e39f5d9eb404884696c6473d81a34": {
          "model_module": "@jupyter-widgets/controls",
          "model_name": "DescriptionStyleModel",
          "model_module_version": "1.5.0",
          "state": {
            "_model_module": "@jupyter-widgets/controls",
            "_model_module_version": "1.5.0",
            "_model_name": "DescriptionStyleModel",
            "_view_count": null,
            "_view_module": "@jupyter-widgets/base",
            "_view_module_version": "1.2.0",
            "_view_name": "StyleView",
            "description_width": ""
          }
        },
        "8a3bf769f92c4fb9b0b2e49b2ff6766b": {
          "model_module": "@jupyter-widgets/base",
          "model_name": "LayoutModel",
          "model_module_version": "1.2.0",
          "state": {
            "_model_module": "@jupyter-widgets/base",
            "_model_module_version": "1.2.0",
            "_model_name": "LayoutModel",
            "_view_count": null,
            "_view_module": "@jupyter-widgets/base",
            "_view_module_version": "1.2.0",
            "_view_name": "LayoutView",
            "align_content": null,
            "align_items": null,
            "align_self": null,
            "border": null,
            "bottom": null,
            "display": null,
            "flex": null,
            "flex_flow": null,
            "grid_area": null,
            "grid_auto_columns": null,
            "grid_auto_flow": null,
            "grid_auto_rows": null,
            "grid_column": null,
            "grid_gap": null,
            "grid_row": null,
            "grid_template_areas": null,
            "grid_template_columns": null,
            "grid_template_rows": null,
            "height": null,
            "justify_content": null,
            "justify_items": null,
            "left": null,
            "margin": null,
            "max_height": null,
            "max_width": null,
            "min_height": null,
            "min_width": null,
            "object_fit": null,
            "object_position": null,
            "order": null,
            "overflow": null,
            "overflow_x": null,
            "overflow_y": null,
            "padding": null,
            "right": null,
            "top": null,
            "visibility": null,
            "width": null
          }
        },
        "9e3203bf99ad4e6cb53213e0435fae50": {
          "model_module": "@jupyter-widgets/controls",
          "model_name": "ProgressStyleModel",
          "model_module_version": "1.5.0",
          "state": {
            "_model_module": "@jupyter-widgets/controls",
            "_model_module_version": "1.5.0",
            "_model_name": "ProgressStyleModel",
            "_view_count": null,
            "_view_module": "@jupyter-widgets/base",
            "_view_module_version": "1.2.0",
            "_view_name": "StyleView",
            "bar_color": null,
            "description_width": ""
          }
        },
        "50d6de89db1949149cdb505bc235249b": {
          "model_module": "@jupyter-widgets/base",
          "model_name": "LayoutModel",
          "model_module_version": "1.2.0",
          "state": {
            "_model_module": "@jupyter-widgets/base",
            "_model_module_version": "1.2.0",
            "_model_name": "LayoutModel",
            "_view_count": null,
            "_view_module": "@jupyter-widgets/base",
            "_view_module_version": "1.2.0",
            "_view_name": "LayoutView",
            "align_content": null,
            "align_items": null,
            "align_self": null,
            "border": null,
            "bottom": null,
            "display": null,
            "flex": null,
            "flex_flow": null,
            "grid_area": null,
            "grid_auto_columns": null,
            "grid_auto_flow": null,
            "grid_auto_rows": null,
            "grid_column": null,
            "grid_gap": null,
            "grid_row": null,
            "grid_template_areas": null,
            "grid_template_columns": null,
            "grid_template_rows": null,
            "height": null,
            "justify_content": null,
            "justify_items": null,
            "left": null,
            "margin": null,
            "max_height": null,
            "max_width": null,
            "min_height": null,
            "min_width": null,
            "object_fit": null,
            "object_position": null,
            "order": null,
            "overflow": null,
            "overflow_x": null,
            "overflow_y": null,
            "padding": null,
            "right": null,
            "top": null,
            "visibility": null,
            "width": null
          }
        },
        "8fb5ac4c9d57427eb285955f3391aec6": {
          "model_module": "@jupyter-widgets/controls",
          "model_name": "DescriptionStyleModel",
          "model_module_version": "1.5.0",
          "state": {
            "_model_module": "@jupyter-widgets/controls",
            "_model_module_version": "1.5.0",
            "_model_name": "DescriptionStyleModel",
            "_view_count": null,
            "_view_module": "@jupyter-widgets/base",
            "_view_module_version": "1.2.0",
            "_view_name": "StyleView",
            "description_width": ""
          }
        },
        "9cb6f478c4d8443894b27b183f7f0d22": {
          "model_module": "@jupyter-widgets/controls",
          "model_name": "HBoxModel",
          "model_module_version": "1.5.0",
          "state": {
            "_dom_classes": [],
            "_model_module": "@jupyter-widgets/controls",
            "_model_module_version": "1.5.0",
            "_model_name": "HBoxModel",
            "_view_count": null,
            "_view_module": "@jupyter-widgets/controls",
            "_view_module_version": "1.5.0",
            "_view_name": "HBoxView",
            "box_style": "",
            "children": [
              "IPY_MODEL_ff1739161870436485358049649777dc",
              "IPY_MODEL_120d433166664bce92754200d977285b",
              "IPY_MODEL_b9ed947df3574536b4671a14b76df656"
            ],
            "layout": "IPY_MODEL_1bdd3442df2a45a796791270b943bb15"
          }
        },
        "ff1739161870436485358049649777dc": {
          "model_module": "@jupyter-widgets/controls",
          "model_name": "HTMLModel",
          "model_module_version": "1.5.0",
          "state": {
            "_dom_classes": [],
            "_model_module": "@jupyter-widgets/controls",
            "_model_module_version": "1.5.0",
            "_model_name": "HTMLModel",
            "_view_count": null,
            "_view_module": "@jupyter-widgets/controls",
            "_view_module_version": "1.5.0",
            "_view_name": "HTMLView",
            "description": "",
            "description_tooltip": null,
            "layout": "IPY_MODEL_89b194f97813443e964fc88823482ab2",
            "placeholder": "​",
            "style": "IPY_MODEL_e08ded2d79684c2d8f158528f9ddd063",
            "value": "Downloading (…)lve/main/config.json: 100%"
          }
        },
        "120d433166664bce92754200d977285b": {
          "model_module": "@jupyter-widgets/controls",
          "model_name": "FloatProgressModel",
          "model_module_version": "1.5.0",
          "state": {
            "_dom_classes": [],
            "_model_module": "@jupyter-widgets/controls",
            "_model_module_version": "1.5.0",
            "_model_name": "FloatProgressModel",
            "_view_count": null,
            "_view_module": "@jupyter-widgets/controls",
            "_view_module_version": "1.5.0",
            "_view_name": "ProgressView",
            "bar_style": "success",
            "description": "",
            "description_tooltip": null,
            "layout": "IPY_MODEL_731fad4de2f24707ae14dd84430fd21b",
            "max": 570,
            "min": 0,
            "orientation": "horizontal",
            "style": "IPY_MODEL_8d9f8caf6cee4939a0b50a906faf4889",
            "value": 570
          }
        },
        "b9ed947df3574536b4671a14b76df656": {
          "model_module": "@jupyter-widgets/controls",
          "model_name": "HTMLModel",
          "model_module_version": "1.5.0",
          "state": {
            "_dom_classes": [],
            "_model_module": "@jupyter-widgets/controls",
            "_model_module_version": "1.5.0",
            "_model_name": "HTMLModel",
            "_view_count": null,
            "_view_module": "@jupyter-widgets/controls",
            "_view_module_version": "1.5.0",
            "_view_name": "HTMLView",
            "description": "",
            "description_tooltip": null,
            "layout": "IPY_MODEL_58c0b59831a6469089b7ada474ad9bfa",
            "placeholder": "​",
            "style": "IPY_MODEL_b1673e5744ea44e58ae8c53c878de46f",
            "value": " 570/570 [00:00&lt;00:00, 23.6kB/s]"
          }
        },
        "1bdd3442df2a45a796791270b943bb15": {
          "model_module": "@jupyter-widgets/base",
          "model_name": "LayoutModel",
          "model_module_version": "1.2.0",
          "state": {
            "_model_module": "@jupyter-widgets/base",
            "_model_module_version": "1.2.0",
            "_model_name": "LayoutModel",
            "_view_count": null,
            "_view_module": "@jupyter-widgets/base",
            "_view_module_version": "1.2.0",
            "_view_name": "LayoutView",
            "align_content": null,
            "align_items": null,
            "align_self": null,
            "border": null,
            "bottom": null,
            "display": null,
            "flex": null,
            "flex_flow": null,
            "grid_area": null,
            "grid_auto_columns": null,
            "grid_auto_flow": null,
            "grid_auto_rows": null,
            "grid_column": null,
            "grid_gap": null,
            "grid_row": null,
            "grid_template_areas": null,
            "grid_template_columns": null,
            "grid_template_rows": null,
            "height": null,
            "justify_content": null,
            "justify_items": null,
            "left": null,
            "margin": null,
            "max_height": null,
            "max_width": null,
            "min_height": null,
            "min_width": null,
            "object_fit": null,
            "object_position": null,
            "order": null,
            "overflow": null,
            "overflow_x": null,
            "overflow_y": null,
            "padding": null,
            "right": null,
            "top": null,
            "visibility": null,
            "width": null
          }
        },
        "89b194f97813443e964fc88823482ab2": {
          "model_module": "@jupyter-widgets/base",
          "model_name": "LayoutModel",
          "model_module_version": "1.2.0",
          "state": {
            "_model_module": "@jupyter-widgets/base",
            "_model_module_version": "1.2.0",
            "_model_name": "LayoutModel",
            "_view_count": null,
            "_view_module": "@jupyter-widgets/base",
            "_view_module_version": "1.2.0",
            "_view_name": "LayoutView",
            "align_content": null,
            "align_items": null,
            "align_self": null,
            "border": null,
            "bottom": null,
            "display": null,
            "flex": null,
            "flex_flow": null,
            "grid_area": null,
            "grid_auto_columns": null,
            "grid_auto_flow": null,
            "grid_auto_rows": null,
            "grid_column": null,
            "grid_gap": null,
            "grid_row": null,
            "grid_template_areas": null,
            "grid_template_columns": null,
            "grid_template_rows": null,
            "height": null,
            "justify_content": null,
            "justify_items": null,
            "left": null,
            "margin": null,
            "max_height": null,
            "max_width": null,
            "min_height": null,
            "min_width": null,
            "object_fit": null,
            "object_position": null,
            "order": null,
            "overflow": null,
            "overflow_x": null,
            "overflow_y": null,
            "padding": null,
            "right": null,
            "top": null,
            "visibility": null,
            "width": null
          }
        },
        "e08ded2d79684c2d8f158528f9ddd063": {
          "model_module": "@jupyter-widgets/controls",
          "model_name": "DescriptionStyleModel",
          "model_module_version": "1.5.0",
          "state": {
            "_model_module": "@jupyter-widgets/controls",
            "_model_module_version": "1.5.0",
            "_model_name": "DescriptionStyleModel",
            "_view_count": null,
            "_view_module": "@jupyter-widgets/base",
            "_view_module_version": "1.2.0",
            "_view_name": "StyleView",
            "description_width": ""
          }
        },
        "731fad4de2f24707ae14dd84430fd21b": {
          "model_module": "@jupyter-widgets/base",
          "model_name": "LayoutModel",
          "model_module_version": "1.2.0",
          "state": {
            "_model_module": "@jupyter-widgets/base",
            "_model_module_version": "1.2.0",
            "_model_name": "LayoutModel",
            "_view_count": null,
            "_view_module": "@jupyter-widgets/base",
            "_view_module_version": "1.2.0",
            "_view_name": "LayoutView",
            "align_content": null,
            "align_items": null,
            "align_self": null,
            "border": null,
            "bottom": null,
            "display": null,
            "flex": null,
            "flex_flow": null,
            "grid_area": null,
            "grid_auto_columns": null,
            "grid_auto_flow": null,
            "grid_auto_rows": null,
            "grid_column": null,
            "grid_gap": null,
            "grid_row": null,
            "grid_template_areas": null,
            "grid_template_columns": null,
            "grid_template_rows": null,
            "height": null,
            "justify_content": null,
            "justify_items": null,
            "left": null,
            "margin": null,
            "max_height": null,
            "max_width": null,
            "min_height": null,
            "min_width": null,
            "object_fit": null,
            "object_position": null,
            "order": null,
            "overflow": null,
            "overflow_x": null,
            "overflow_y": null,
            "padding": null,
            "right": null,
            "top": null,
            "visibility": null,
            "width": null
          }
        },
        "8d9f8caf6cee4939a0b50a906faf4889": {
          "model_module": "@jupyter-widgets/controls",
          "model_name": "ProgressStyleModel",
          "model_module_version": "1.5.0",
          "state": {
            "_model_module": "@jupyter-widgets/controls",
            "_model_module_version": "1.5.0",
            "_model_name": "ProgressStyleModel",
            "_view_count": null,
            "_view_module": "@jupyter-widgets/base",
            "_view_module_version": "1.2.0",
            "_view_name": "StyleView",
            "bar_color": null,
            "description_width": ""
          }
        },
        "58c0b59831a6469089b7ada474ad9bfa": {
          "model_module": "@jupyter-widgets/base",
          "model_name": "LayoutModel",
          "model_module_version": "1.2.0",
          "state": {
            "_model_module": "@jupyter-widgets/base",
            "_model_module_version": "1.2.0",
            "_model_name": "LayoutModel",
            "_view_count": null,
            "_view_module": "@jupyter-widgets/base",
            "_view_module_version": "1.2.0",
            "_view_name": "LayoutView",
            "align_content": null,
            "align_items": null,
            "align_self": null,
            "border": null,
            "bottom": null,
            "display": null,
            "flex": null,
            "flex_flow": null,
            "grid_area": null,
            "grid_auto_columns": null,
            "grid_auto_flow": null,
            "grid_auto_rows": null,
            "grid_column": null,
            "grid_gap": null,
            "grid_row": null,
            "grid_template_areas": null,
            "grid_template_columns": null,
            "grid_template_rows": null,
            "height": null,
            "justify_content": null,
            "justify_items": null,
            "left": null,
            "margin": null,
            "max_height": null,
            "max_width": null,
            "min_height": null,
            "min_width": null,
            "object_fit": null,
            "object_position": null,
            "order": null,
            "overflow": null,
            "overflow_x": null,
            "overflow_y": null,
            "padding": null,
            "right": null,
            "top": null,
            "visibility": null,
            "width": null
          }
        },
        "b1673e5744ea44e58ae8c53c878de46f": {
          "model_module": "@jupyter-widgets/controls",
          "model_name": "DescriptionStyleModel",
          "model_module_version": "1.5.0",
          "state": {
            "_model_module": "@jupyter-widgets/controls",
            "_model_module_version": "1.5.0",
            "_model_name": "DescriptionStyleModel",
            "_view_count": null,
            "_view_module": "@jupyter-widgets/base",
            "_view_module_version": "1.2.0",
            "_view_name": "StyleView",
            "description_width": ""
          }
        },
        "9a82e22c58be4bec9158778c5ee55c4a": {
          "model_module": "@jupyter-widgets/controls",
          "model_name": "HBoxModel",
          "model_module_version": "1.5.0",
          "state": {
            "_dom_classes": [],
            "_model_module": "@jupyter-widgets/controls",
            "_model_module_version": "1.5.0",
            "_model_name": "HBoxModel",
            "_view_count": null,
            "_view_module": "@jupyter-widgets/controls",
            "_view_module_version": "1.5.0",
            "_view_name": "HBoxView",
            "box_style": "",
            "children": [
              "IPY_MODEL_715de5f8a00c4c56acbfd4b86ca64e7b",
              "IPY_MODEL_0b4107c2668a4c4bbfd53a6272735442",
              "IPY_MODEL_6091ed80c0de47e1bfe83d5377c34457"
            ],
            "layout": "IPY_MODEL_709e5418559c4b8bbf5be56f09716210"
          }
        },
        "715de5f8a00c4c56acbfd4b86ca64e7b": {
          "model_module": "@jupyter-widgets/controls",
          "model_name": "HTMLModel",
          "model_module_version": "1.5.0",
          "state": {
            "_dom_classes": [],
            "_model_module": "@jupyter-widgets/controls",
            "_model_module_version": "1.5.0",
            "_model_name": "HTMLModel",
            "_view_count": null,
            "_view_module": "@jupyter-widgets/controls",
            "_view_module_version": "1.5.0",
            "_view_name": "HTMLView",
            "description": "",
            "description_tooltip": null,
            "layout": "IPY_MODEL_5ad7be3d51e04aef929af72957f2b037",
            "placeholder": "​",
            "style": "IPY_MODEL_3a74e58fbd74461e8424f2b2b29f5ff3",
            "value": "Downloading model.safetensors: 100%"
          }
        },
        "0b4107c2668a4c4bbfd53a6272735442": {
          "model_module": "@jupyter-widgets/controls",
          "model_name": "FloatProgressModel",
          "model_module_version": "1.5.0",
          "state": {
            "_dom_classes": [],
            "_model_module": "@jupyter-widgets/controls",
            "_model_module_version": "1.5.0",
            "_model_name": "FloatProgressModel",
            "_view_count": null,
            "_view_module": "@jupyter-widgets/controls",
            "_view_module_version": "1.5.0",
            "_view_name": "ProgressView",
            "bar_style": "success",
            "description": "",
            "description_tooltip": null,
            "layout": "IPY_MODEL_df63c9dccc634b36961b3771d8f638f7",
            "max": 440449768,
            "min": 0,
            "orientation": "horizontal",
            "style": "IPY_MODEL_d7e7288c61044f86a713c5176ccce210",
            "value": 440449768
          }
        },
        "6091ed80c0de47e1bfe83d5377c34457": {
          "model_module": "@jupyter-widgets/controls",
          "model_name": "HTMLModel",
          "model_module_version": "1.5.0",
          "state": {
            "_dom_classes": [],
            "_model_module": "@jupyter-widgets/controls",
            "_model_module_version": "1.5.0",
            "_model_name": "HTMLModel",
            "_view_count": null,
            "_view_module": "@jupyter-widgets/controls",
            "_view_module_version": "1.5.0",
            "_view_name": "HTMLView",
            "description": "",
            "description_tooltip": null,
            "layout": "IPY_MODEL_25683824caa64a459afeaf14511cbb65",
            "placeholder": "​",
            "style": "IPY_MODEL_d5ec87c3174b4b3e890d84b25a8554df",
            "value": " 440M/440M [00:02&lt;00:00, 129MB/s]"
          }
        },
        "709e5418559c4b8bbf5be56f09716210": {
          "model_module": "@jupyter-widgets/base",
          "model_name": "LayoutModel",
          "model_module_version": "1.2.0",
          "state": {
            "_model_module": "@jupyter-widgets/base",
            "_model_module_version": "1.2.0",
            "_model_name": "LayoutModel",
            "_view_count": null,
            "_view_module": "@jupyter-widgets/base",
            "_view_module_version": "1.2.0",
            "_view_name": "LayoutView",
            "align_content": null,
            "align_items": null,
            "align_self": null,
            "border": null,
            "bottom": null,
            "display": null,
            "flex": null,
            "flex_flow": null,
            "grid_area": null,
            "grid_auto_columns": null,
            "grid_auto_flow": null,
            "grid_auto_rows": null,
            "grid_column": null,
            "grid_gap": null,
            "grid_row": null,
            "grid_template_areas": null,
            "grid_template_columns": null,
            "grid_template_rows": null,
            "height": null,
            "justify_content": null,
            "justify_items": null,
            "left": null,
            "margin": null,
            "max_height": null,
            "max_width": null,
            "min_height": null,
            "min_width": null,
            "object_fit": null,
            "object_position": null,
            "order": null,
            "overflow": null,
            "overflow_x": null,
            "overflow_y": null,
            "padding": null,
            "right": null,
            "top": null,
            "visibility": null,
            "width": null
          }
        },
        "5ad7be3d51e04aef929af72957f2b037": {
          "model_module": "@jupyter-widgets/base",
          "model_name": "LayoutModel",
          "model_module_version": "1.2.0",
          "state": {
            "_model_module": "@jupyter-widgets/base",
            "_model_module_version": "1.2.0",
            "_model_name": "LayoutModel",
            "_view_count": null,
            "_view_module": "@jupyter-widgets/base",
            "_view_module_version": "1.2.0",
            "_view_name": "LayoutView",
            "align_content": null,
            "align_items": null,
            "align_self": null,
            "border": null,
            "bottom": null,
            "display": null,
            "flex": null,
            "flex_flow": null,
            "grid_area": null,
            "grid_auto_columns": null,
            "grid_auto_flow": null,
            "grid_auto_rows": null,
            "grid_column": null,
            "grid_gap": null,
            "grid_row": null,
            "grid_template_areas": null,
            "grid_template_columns": null,
            "grid_template_rows": null,
            "height": null,
            "justify_content": null,
            "justify_items": null,
            "left": null,
            "margin": null,
            "max_height": null,
            "max_width": null,
            "min_height": null,
            "min_width": null,
            "object_fit": null,
            "object_position": null,
            "order": null,
            "overflow": null,
            "overflow_x": null,
            "overflow_y": null,
            "padding": null,
            "right": null,
            "top": null,
            "visibility": null,
            "width": null
          }
        },
        "3a74e58fbd74461e8424f2b2b29f5ff3": {
          "model_module": "@jupyter-widgets/controls",
          "model_name": "DescriptionStyleModel",
          "model_module_version": "1.5.0",
          "state": {
            "_model_module": "@jupyter-widgets/controls",
            "_model_module_version": "1.5.0",
            "_model_name": "DescriptionStyleModel",
            "_view_count": null,
            "_view_module": "@jupyter-widgets/base",
            "_view_module_version": "1.2.0",
            "_view_name": "StyleView",
            "description_width": ""
          }
        },
        "df63c9dccc634b36961b3771d8f638f7": {
          "model_module": "@jupyter-widgets/base",
          "model_name": "LayoutModel",
          "model_module_version": "1.2.0",
          "state": {
            "_model_module": "@jupyter-widgets/base",
            "_model_module_version": "1.2.0",
            "_model_name": "LayoutModel",
            "_view_count": null,
            "_view_module": "@jupyter-widgets/base",
            "_view_module_version": "1.2.0",
            "_view_name": "LayoutView",
            "align_content": null,
            "align_items": null,
            "align_self": null,
            "border": null,
            "bottom": null,
            "display": null,
            "flex": null,
            "flex_flow": null,
            "grid_area": null,
            "grid_auto_columns": null,
            "grid_auto_flow": null,
            "grid_auto_rows": null,
            "grid_column": null,
            "grid_gap": null,
            "grid_row": null,
            "grid_template_areas": null,
            "grid_template_columns": null,
            "grid_template_rows": null,
            "height": null,
            "justify_content": null,
            "justify_items": null,
            "left": null,
            "margin": null,
            "max_height": null,
            "max_width": null,
            "min_height": null,
            "min_width": null,
            "object_fit": null,
            "object_position": null,
            "order": null,
            "overflow": null,
            "overflow_x": null,
            "overflow_y": null,
            "padding": null,
            "right": null,
            "top": null,
            "visibility": null,
            "width": null
          }
        },
        "d7e7288c61044f86a713c5176ccce210": {
          "model_module": "@jupyter-widgets/controls",
          "model_name": "ProgressStyleModel",
          "model_module_version": "1.5.0",
          "state": {
            "_model_module": "@jupyter-widgets/controls",
            "_model_module_version": "1.5.0",
            "_model_name": "ProgressStyleModel",
            "_view_count": null,
            "_view_module": "@jupyter-widgets/base",
            "_view_module_version": "1.2.0",
            "_view_name": "StyleView",
            "bar_color": null,
            "description_width": ""
          }
        },
        "25683824caa64a459afeaf14511cbb65": {
          "model_module": "@jupyter-widgets/base",
          "model_name": "LayoutModel",
          "model_module_version": "1.2.0",
          "state": {
            "_model_module": "@jupyter-widgets/base",
            "_model_module_version": "1.2.0",
            "_model_name": "LayoutModel",
            "_view_count": null,
            "_view_module": "@jupyter-widgets/base",
            "_view_module_version": "1.2.0",
            "_view_name": "LayoutView",
            "align_content": null,
            "align_items": null,
            "align_self": null,
            "border": null,
            "bottom": null,
            "display": null,
            "flex": null,
            "flex_flow": null,
            "grid_area": null,
            "grid_auto_columns": null,
            "grid_auto_flow": null,
            "grid_auto_rows": null,
            "grid_column": null,
            "grid_gap": null,
            "grid_row": null,
            "grid_template_areas": null,
            "grid_template_columns": null,
            "grid_template_rows": null,
            "height": null,
            "justify_content": null,
            "justify_items": null,
            "left": null,
            "margin": null,
            "max_height": null,
            "max_width": null,
            "min_height": null,
            "min_width": null,
            "object_fit": null,
            "object_position": null,
            "order": null,
            "overflow": null,
            "overflow_x": null,
            "overflow_y": null,
            "padding": null,
            "right": null,
            "top": null,
            "visibility": null,
            "width": null
          }
        },
        "d5ec87c3174b4b3e890d84b25a8554df": {
          "model_module": "@jupyter-widgets/controls",
          "model_name": "DescriptionStyleModel",
          "model_module_version": "1.5.0",
          "state": {
            "_model_module": "@jupyter-widgets/controls",
            "_model_module_version": "1.5.0",
            "_model_name": "DescriptionStyleModel",
            "_view_count": null,
            "_view_module": "@jupyter-widgets/base",
            "_view_module_version": "1.2.0",
            "_view_name": "StyleView",
            "description_width": ""
          }
        }
      }
    }
  },
  "nbformat": 4,
  "nbformat_minor": 5
}